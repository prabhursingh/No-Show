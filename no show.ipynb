{
 "cells": [
  {
   "cell_type": "markdown",
   "metadata": {},
   "source": [
    "Dataset appears to be related to healthcare appointments, potentially for predicting no-shows.\n",
    "\n",
    "Research Question\n"
   ]
  },
  {
   "cell_type": "markdown",
   "metadata": {},
   "source": [
    "Which demographic factors affect biases in Machine Learning prediction models for no-show in healthcare appointments?\n",
    "\n",
    "Which techniques can be used to mitigate these biases?"
   ]
  },
  {
   "cell_type": "code",
   "execution_count": 1,
   "metadata": {},
   "outputs": [],
   "source": [
    "# Import required libraries\n",
    "import pandas as pd\n",
    "import numpy as np\n",
    "import matplotlib.pyplot as plt\n",
    "import seaborn as sns\n",
    "from sklearn.preprocessing import LabelEncoder\n",
    "import math\n"
   ]
  },
  {
   "cell_type": "code",
   "execution_count": 2,
   "metadata": {},
   "outputs": [
    {
     "data": {
      "text/html": [
       "<div>\n",
       "<style scoped>\n",
       "    .dataframe tbody tr th:only-of-type {\n",
       "        vertical-align: middle;\n",
       "    }\n",
       "\n",
       "    .dataframe tbody tr th {\n",
       "        vertical-align: top;\n",
       "    }\n",
       "\n",
       "    .dataframe thead th {\n",
       "        text-align: right;\n",
       "    }\n",
       "</style>\n",
       "<table border=\"1\" class=\"dataframe\">\n",
       "  <thead>\n",
       "    <tr style=\"text-align: right;\">\n",
       "      <th></th>\n",
       "      <th>PatientId</th>\n",
       "      <th>AppointmentID</th>\n",
       "      <th>Gender</th>\n",
       "      <th>ScheduledDay</th>\n",
       "      <th>AppointmentDay</th>\n",
       "      <th>Age</th>\n",
       "      <th>Neighbourhood</th>\n",
       "      <th>Scholarship</th>\n",
       "      <th>Hipertension</th>\n",
       "      <th>Diabetes</th>\n",
       "      <th>Alcoholism</th>\n",
       "      <th>Handcap</th>\n",
       "      <th>SMS_received</th>\n",
       "      <th>No-show</th>\n",
       "    </tr>\n",
       "  </thead>\n",
       "  <tbody>\n",
       "    <tr>\n",
       "      <th>0</th>\n",
       "      <td>2.987250e+13</td>\n",
       "      <td>5642903</td>\n",
       "      <td>F</td>\n",
       "      <td>2016-04-29T18:38:08Z</td>\n",
       "      <td>2016-04-29T00:00:00Z</td>\n",
       "      <td>62</td>\n",
       "      <td>JARDIM DA PENHA</td>\n",
       "      <td>0</td>\n",
       "      <td>1</td>\n",
       "      <td>0</td>\n",
       "      <td>0</td>\n",
       "      <td>0</td>\n",
       "      <td>0</td>\n",
       "      <td>No</td>\n",
       "    </tr>\n",
       "    <tr>\n",
       "      <th>1</th>\n",
       "      <td>5.589980e+14</td>\n",
       "      <td>5642503</td>\n",
       "      <td>M</td>\n",
       "      <td>2016-04-29T16:08:27Z</td>\n",
       "      <td>2016-04-29T00:00:00Z</td>\n",
       "      <td>56</td>\n",
       "      <td>JARDIM DA PENHA</td>\n",
       "      <td>0</td>\n",
       "      <td>0</td>\n",
       "      <td>0</td>\n",
       "      <td>0</td>\n",
       "      <td>0</td>\n",
       "      <td>0</td>\n",
       "      <td>No</td>\n",
       "    </tr>\n",
       "    <tr>\n",
       "      <th>2</th>\n",
       "      <td>4.262960e+12</td>\n",
       "      <td>5642549</td>\n",
       "      <td>F</td>\n",
       "      <td>2016-04-29T16:19:04Z</td>\n",
       "      <td>2016-04-29T00:00:00Z</td>\n",
       "      <td>62</td>\n",
       "      <td>MATA DA PRAIA</td>\n",
       "      <td>0</td>\n",
       "      <td>0</td>\n",
       "      <td>0</td>\n",
       "      <td>0</td>\n",
       "      <td>0</td>\n",
       "      <td>0</td>\n",
       "      <td>No</td>\n",
       "    </tr>\n",
       "    <tr>\n",
       "      <th>3</th>\n",
       "      <td>8.679510e+11</td>\n",
       "      <td>5642828</td>\n",
       "      <td>F</td>\n",
       "      <td>2016-04-29T17:29:31Z</td>\n",
       "      <td>2016-04-29T00:00:00Z</td>\n",
       "      <td>8</td>\n",
       "      <td>PONTAL DE CAMBURI</td>\n",
       "      <td>0</td>\n",
       "      <td>0</td>\n",
       "      <td>0</td>\n",
       "      <td>0</td>\n",
       "      <td>0</td>\n",
       "      <td>0</td>\n",
       "      <td>No</td>\n",
       "    </tr>\n",
       "    <tr>\n",
       "      <th>4</th>\n",
       "      <td>8.841190e+12</td>\n",
       "      <td>5642494</td>\n",
       "      <td>F</td>\n",
       "      <td>2016-04-29T16:07:23Z</td>\n",
       "      <td>2016-04-29T00:00:00Z</td>\n",
       "      <td>56</td>\n",
       "      <td>JARDIM DA PENHA</td>\n",
       "      <td>0</td>\n",
       "      <td>1</td>\n",
       "      <td>1</td>\n",
       "      <td>0</td>\n",
       "      <td>0</td>\n",
       "      <td>0</td>\n",
       "      <td>No</td>\n",
       "    </tr>\n",
       "    <tr>\n",
       "      <th>...</th>\n",
       "      <td>...</td>\n",
       "      <td>...</td>\n",
       "      <td>...</td>\n",
       "      <td>...</td>\n",
       "      <td>...</td>\n",
       "      <td>...</td>\n",
       "      <td>...</td>\n",
       "      <td>...</td>\n",
       "      <td>...</td>\n",
       "      <td>...</td>\n",
       "      <td>...</td>\n",
       "      <td>...</td>\n",
       "      <td>...</td>\n",
       "      <td>...</td>\n",
       "    </tr>\n",
       "    <tr>\n",
       "      <th>110522</th>\n",
       "      <td>2.572130e+12</td>\n",
       "      <td>5651768</td>\n",
       "      <td>F</td>\n",
       "      <td>2016-05-03T09:15:35Z</td>\n",
       "      <td>2016-06-07T00:00:00Z</td>\n",
       "      <td>56</td>\n",
       "      <td>MARIA ORTIZ</td>\n",
       "      <td>0</td>\n",
       "      <td>0</td>\n",
       "      <td>0</td>\n",
       "      <td>0</td>\n",
       "      <td>0</td>\n",
       "      <td>1</td>\n",
       "      <td>No</td>\n",
       "    </tr>\n",
       "    <tr>\n",
       "      <th>110523</th>\n",
       "      <td>3.596270e+12</td>\n",
       "      <td>5650093</td>\n",
       "      <td>F</td>\n",
       "      <td>2016-05-03T07:27:33Z</td>\n",
       "      <td>2016-06-07T00:00:00Z</td>\n",
       "      <td>51</td>\n",
       "      <td>MARIA ORTIZ</td>\n",
       "      <td>0</td>\n",
       "      <td>0</td>\n",
       "      <td>0</td>\n",
       "      <td>0</td>\n",
       "      <td>0</td>\n",
       "      <td>1</td>\n",
       "      <td>No</td>\n",
       "    </tr>\n",
       "    <tr>\n",
       "      <th>110524</th>\n",
       "      <td>1.557660e+13</td>\n",
       "      <td>5630692</td>\n",
       "      <td>F</td>\n",
       "      <td>2016-04-27T16:03:52Z</td>\n",
       "      <td>2016-06-07T00:00:00Z</td>\n",
       "      <td>21</td>\n",
       "      <td>MARIA ORTIZ</td>\n",
       "      <td>0</td>\n",
       "      <td>0</td>\n",
       "      <td>0</td>\n",
       "      <td>0</td>\n",
       "      <td>0</td>\n",
       "      <td>1</td>\n",
       "      <td>No</td>\n",
       "    </tr>\n",
       "    <tr>\n",
       "      <th>110525</th>\n",
       "      <td>9.213490e+13</td>\n",
       "      <td>5630323</td>\n",
       "      <td>F</td>\n",
       "      <td>2016-04-27T15:09:23Z</td>\n",
       "      <td>2016-06-07T00:00:00Z</td>\n",
       "      <td>38</td>\n",
       "      <td>MARIA ORTIZ</td>\n",
       "      <td>0</td>\n",
       "      <td>0</td>\n",
       "      <td>0</td>\n",
       "      <td>0</td>\n",
       "      <td>0</td>\n",
       "      <td>1</td>\n",
       "      <td>No</td>\n",
       "    </tr>\n",
       "    <tr>\n",
       "      <th>110526</th>\n",
       "      <td>3.775120e+14</td>\n",
       "      <td>5629448</td>\n",
       "      <td>F</td>\n",
       "      <td>2016-04-27T13:30:56Z</td>\n",
       "      <td>2016-06-07T00:00:00Z</td>\n",
       "      <td>54</td>\n",
       "      <td>MARIA ORTIZ</td>\n",
       "      <td>0</td>\n",
       "      <td>0</td>\n",
       "      <td>0</td>\n",
       "      <td>0</td>\n",
       "      <td>0</td>\n",
       "      <td>1</td>\n",
       "      <td>No</td>\n",
       "    </tr>\n",
       "  </tbody>\n",
       "</table>\n",
       "<p>110527 rows × 14 columns</p>\n",
       "</div>"
      ],
      "text/plain": [
       "           PatientId  AppointmentID Gender          ScheduledDay  \\\n",
       "0       2.987250e+13        5642903      F  2016-04-29T18:38:08Z   \n",
       "1       5.589980e+14        5642503      M  2016-04-29T16:08:27Z   \n",
       "2       4.262960e+12        5642549      F  2016-04-29T16:19:04Z   \n",
       "3       8.679510e+11        5642828      F  2016-04-29T17:29:31Z   \n",
       "4       8.841190e+12        5642494      F  2016-04-29T16:07:23Z   \n",
       "...              ...            ...    ...                   ...   \n",
       "110522  2.572130e+12        5651768      F  2016-05-03T09:15:35Z   \n",
       "110523  3.596270e+12        5650093      F  2016-05-03T07:27:33Z   \n",
       "110524  1.557660e+13        5630692      F  2016-04-27T16:03:52Z   \n",
       "110525  9.213490e+13        5630323      F  2016-04-27T15:09:23Z   \n",
       "110526  3.775120e+14        5629448      F  2016-04-27T13:30:56Z   \n",
       "\n",
       "              AppointmentDay  Age      Neighbourhood  Scholarship  \\\n",
       "0       2016-04-29T00:00:00Z   62    JARDIM DA PENHA            0   \n",
       "1       2016-04-29T00:00:00Z   56    JARDIM DA PENHA            0   \n",
       "2       2016-04-29T00:00:00Z   62      MATA DA PRAIA            0   \n",
       "3       2016-04-29T00:00:00Z    8  PONTAL DE CAMBURI            0   \n",
       "4       2016-04-29T00:00:00Z   56    JARDIM DA PENHA            0   \n",
       "...                      ...  ...                ...          ...   \n",
       "110522  2016-06-07T00:00:00Z   56        MARIA ORTIZ            0   \n",
       "110523  2016-06-07T00:00:00Z   51        MARIA ORTIZ            0   \n",
       "110524  2016-06-07T00:00:00Z   21        MARIA ORTIZ            0   \n",
       "110525  2016-06-07T00:00:00Z   38        MARIA ORTIZ            0   \n",
       "110526  2016-06-07T00:00:00Z   54        MARIA ORTIZ            0   \n",
       "\n",
       "        Hipertension  Diabetes  Alcoholism  Handcap  SMS_received No-show  \n",
       "0                  1         0           0        0             0      No  \n",
       "1                  0         0           0        0             0      No  \n",
       "2                  0         0           0        0             0      No  \n",
       "3                  0         0           0        0             0      No  \n",
       "4                  1         1           0        0             0      No  \n",
       "...              ...       ...         ...      ...           ...     ...  \n",
       "110522             0         0           0        0             1      No  \n",
       "110523             0         0           0        0             1      No  \n",
       "110524             0         0           0        0             1      No  \n",
       "110525             0         0           0        0             1      No  \n",
       "110526             0         0           0        0             1      No  \n",
       "\n",
       "[110527 rows x 14 columns]"
      ]
     },
     "execution_count": 2,
     "metadata": {},
     "output_type": "execute_result"
    }
   ],
   "source": [
    "import pandas as pd\n",
    "df = pd.read_csv(r\"KaggleV2-May-2016.csv\")\n",
    "\n",
    "df\n"
   ]
  },
  {
   "cell_type": "markdown",
   "metadata": {},
   "source": [
    "# General Data Overview"
   ]
  },
  {
   "cell_type": "code",
   "execution_count": 3,
   "metadata": {},
   "outputs": [
    {
     "name": "stdout",
     "output_type": "stream",
     "text": [
      "\n",
      "Data Overview\n",
      "Shape of dataset: (110527, 14)\n",
      "Columns: Index(['PatientId', 'AppointmentID', 'Gender', 'ScheduledDay',\n",
      "       'AppointmentDay', 'Age', 'Neighbourhood', 'Scholarship', 'Hipertension',\n",
      "       'Diabetes', 'Alcoholism', 'Handcap', 'SMS_received', 'No-show'],\n",
      "      dtype='object')\n",
      "      PatientId  AppointmentID Gender          ScheduledDay  \\\n",
      "0  2.987250e+13        5642903      F  2016-04-29T18:38:08Z   \n",
      "1  5.589980e+14        5642503      M  2016-04-29T16:08:27Z   \n",
      "2  4.262960e+12        5642549      F  2016-04-29T16:19:04Z   \n",
      "3  8.679510e+11        5642828      F  2016-04-29T17:29:31Z   \n",
      "4  8.841190e+12        5642494      F  2016-04-29T16:07:23Z   \n",
      "\n",
      "         AppointmentDay  Age      Neighbourhood  Scholarship  Hipertension  \\\n",
      "0  2016-04-29T00:00:00Z   62    JARDIM DA PENHA            0             1   \n",
      "1  2016-04-29T00:00:00Z   56    JARDIM DA PENHA            0             0   \n",
      "2  2016-04-29T00:00:00Z   62      MATA DA PRAIA            0             0   \n",
      "3  2016-04-29T00:00:00Z    8  PONTAL DE CAMBURI            0             0   \n",
      "4  2016-04-29T00:00:00Z   56    JARDIM DA PENHA            0             1   \n",
      "\n",
      "   Diabetes  Alcoholism  Handcap  SMS_received No-show  \n",
      "0         0           0        0             0      No  \n",
      "1         0           0        0             0      No  \n",
      "2         0           0        0             0      No  \n",
      "3         0           0        0             0      No  \n",
      "4         1           0        0             0      No  \n"
     ]
    }
   ],
   "source": [
    "print(\"\\nData Overview\")\n",
    "print(\"Shape of dataset:\", df.shape)\n",
    "print(\"Columns:\", df.columns)\n",
    "print(df.head())"
   ]
  },
  {
   "cell_type": "markdown",
   "metadata": {},
   "source": [
    "# Data Information and Summary"
   ]
  },
  {
   "cell_type": "code",
   "execution_count": 4,
   "metadata": {},
   "outputs": [
    {
     "name": "stdout",
     "output_type": "stream",
     "text": [
      "\n",
      "Dataset Information\n",
      "<class 'pandas.core.frame.DataFrame'>\n",
      "RangeIndex: 110527 entries, 0 to 110526\n",
      "Data columns (total 14 columns):\n",
      " #   Column          Non-Null Count   Dtype  \n",
      "---  ------          --------------   -----  \n",
      " 0   PatientId       110527 non-null  float64\n",
      " 1   AppointmentID   110527 non-null  int64  \n",
      " 2   Gender          110527 non-null  object \n",
      " 3   ScheduledDay    110527 non-null  object \n",
      " 4   AppointmentDay  110527 non-null  object \n",
      " 5   Age             110527 non-null  int64  \n",
      " 6   Neighbourhood   110527 non-null  object \n",
      " 7   Scholarship     110527 non-null  int64  \n",
      " 8   Hipertension    110527 non-null  int64  \n",
      " 9   Diabetes        110527 non-null  int64  \n",
      " 10  Alcoholism      110527 non-null  int64  \n",
      " 11  Handcap         110527 non-null  int64  \n",
      " 12  SMS_received    110527 non-null  int64  \n",
      " 13  No-show         110527 non-null  object \n",
      "dtypes: float64(1), int64(8), object(5)\n",
      "memory usage: 11.8+ MB\n"
     ]
    }
   ],
   "source": [
    "\n",
    "print(\"\\nDataset Information\")\n",
    "df.info()"
   ]
  },
  {
   "cell_type": "code",
   "execution_count": 5,
   "metadata": {},
   "outputs": [
    {
     "name": "stdout",
     "output_type": "stream",
     "text": [
      "\n",
      "Summary Statistics\n",
      "          PatientId  AppointmentID            Age    Scholarship  \\\n",
      "count  1.105270e+05   1.105270e+05  110527.000000  110527.000000   \n",
      "mean   1.474963e+14   5.675305e+06      37.088874       0.098266   \n",
      "std    2.560949e+14   7.129575e+04      23.110205       0.297675   \n",
      "min    3.920000e+04   5.030230e+06      -1.000000       0.000000   \n",
      "25%    4.172615e+12   5.640286e+06      18.000000       0.000000   \n",
      "50%    3.173180e+13   5.680573e+06      37.000000       0.000000   \n",
      "75%    9.439170e+13   5.725524e+06      55.000000       0.000000   \n",
      "max    9.999820e+14   5.790484e+06     115.000000       1.000000   \n",
      "\n",
      "        Hipertension       Diabetes     Alcoholism        Handcap  \\\n",
      "count  110527.000000  110527.000000  110527.000000  110527.000000   \n",
      "mean        0.197246       0.071865       0.030400       0.022248   \n",
      "std         0.397921       0.258265       0.171686       0.161543   \n",
      "min         0.000000       0.000000       0.000000       0.000000   \n",
      "25%         0.000000       0.000000       0.000000       0.000000   \n",
      "50%         0.000000       0.000000       0.000000       0.000000   \n",
      "75%         0.000000       0.000000       0.000000       0.000000   \n",
      "max         1.000000       1.000000       1.000000       4.000000   \n",
      "\n",
      "        SMS_received  \n",
      "count  110527.000000  \n",
      "mean        0.321026  \n",
      "std         0.466873  \n",
      "min         0.000000  \n",
      "25%         0.000000  \n",
      "50%         0.000000  \n",
      "75%         1.000000  \n",
      "max         1.000000  \n"
     ]
    }
   ],
   "source": [
    "print(\"\\nSummary Statistics\")\n",
    "print(df.describe())"
   ]
  },
  {
   "cell_type": "markdown",
   "metadata": {},
   "source": [
    "# Check for Missing Values\n"
   ]
  },
  {
   "cell_type": "code",
   "execution_count": 6,
   "metadata": {},
   "outputs": [
    {
     "name": "stdout",
     "output_type": "stream",
     "text": [
      "\n",
      "Missing Values Count\n",
      "PatientId         0\n",
      "AppointmentID     0\n",
      "Gender            0\n",
      "ScheduledDay      0\n",
      "AppointmentDay    0\n",
      "Age               0\n",
      "Neighbourhood     0\n",
      "Scholarship       0\n",
      "Hipertension      0\n",
      "Diabetes          0\n",
      "Alcoholism        0\n",
      "Handcap           0\n",
      "SMS_received      0\n",
      "No-show           0\n",
      "dtype: int64\n"
     ]
    }
   ],
   "source": [
    "print(\"\\nMissing Values Count\")\n",
    "print(df.isnull().sum())"
   ]
  },
  {
   "cell_type": "markdown",
   "metadata": {},
   "source": [
    "# Unique Values and Data Types"
   ]
  },
  {
   "cell_type": "code",
   "execution_count": 7,
   "metadata": {},
   "outputs": [
    {
     "name": "stdout",
     "output_type": "stream",
     "text": [
      "\n",
      "Unique values in PatientId: 61744\n",
      "[2.98725e+13 5.58998e+14 4.26296e+12 ... 7.26331e+13 9.96998e+14\n",
      " 1.55766e+13]\n",
      "\n",
      "Unique values in AppointmentID: 110527\n",
      "[5642903 5642503 5642549 ... 5630692 5630323 5629448]\n",
      "\n",
      "Unique values in Gender: 2\n",
      "['F' 'M']\n",
      "\n",
      "Unique values in ScheduledDay: 103549\n",
      "['2016-04-29T18:38:08Z' '2016-04-29T16:08:27Z' '2016-04-29T16:19:04Z' ...\n",
      " '2016-04-27T16:03:52Z' '2016-04-27T15:09:23Z' '2016-04-27T13:30:56Z']\n",
      "\n",
      "Unique values in AppointmentDay: 27\n",
      "['2016-04-29T00:00:00Z' '2016-05-03T00:00:00Z' '2016-05-10T00:00:00Z'\n",
      " '2016-05-17T00:00:00Z' '2016-05-24T00:00:00Z' '2016-05-31T00:00:00Z'\n",
      " '2016-05-02T00:00:00Z' '2016-05-30T00:00:00Z' '2016-05-16T00:00:00Z'\n",
      " '2016-05-04T00:00:00Z' '2016-05-19T00:00:00Z' '2016-05-12T00:00:00Z'\n",
      " '2016-05-06T00:00:00Z' '2016-05-20T00:00:00Z' '2016-05-05T00:00:00Z'\n",
      " '2016-05-13T00:00:00Z' '2016-05-09T00:00:00Z' '2016-05-25T00:00:00Z'\n",
      " '2016-05-11T00:00:00Z' '2016-05-18T00:00:00Z' '2016-05-14T00:00:00Z'\n",
      " '2016-06-02T00:00:00Z' '2016-06-03T00:00:00Z' '2016-06-06T00:00:00Z'\n",
      " '2016-06-07T00:00:00Z' '2016-06-01T00:00:00Z' '2016-06-08T00:00:00Z']\n",
      "\n",
      "Unique values in Age: 104\n",
      "[ 62  56   8  76  23  39  21  19  30  29  22  28  54  15  50  40  46   4\n",
      "  13  65  45  51  32  12  61  38  79  18  63  64  85  59  55  71  49  78\n",
      "  31  58  27   6   2  11   7   0   3   1  69  68  60  67  36  10  35  20\n",
      "  26  34  33  16  42   5  47  17  41  44  37  24  66  77  81  70  53  75\n",
      "  73  52  74  43  89  57  14   9  48  83  72  25  80  87  88  84  82  90\n",
      "  94  86  91  98  92  96  93  95  97 102 115 100  99  -1]\n",
      "\n",
      "Unique values in Neighbourhood: 81\n",
      "['JARDIM DA PENHA' 'MATA DA PRAIA' 'PONTAL DE CAMBURI' 'REPÚBLICA'\n",
      " 'GOIABEIRAS' 'ANDORINHAS' 'CONQUISTA' 'NOVA PALESTINA' 'DA PENHA'\n",
      " 'TABUAZEIRO' 'BENTO FERREIRA' 'SÃO PEDRO' 'SANTA MARTHA' 'SÃO CRISTÓVÃO'\n",
      " 'MARUÍPE' 'GRANDE VITÓRIA' 'SÃO BENEDITO' 'ILHA DAS CAIEIRAS'\n",
      " 'SANTO ANDRÉ' 'SOLON BORGES' 'BONFIM' 'JARDIM CAMBURI' 'MARIA ORTIZ'\n",
      " 'JABOUR' 'ANTÔNIO HONÓRIO' 'RESISTÊNCIA' 'ILHA DE SANTA MARIA'\n",
      " 'JUCUTUQUARA' 'MONTE BELO' 'MÁRIO CYPRESTE' 'SANTO ANTÔNIO' 'BELA VISTA'\n",
      " 'PRAIA DO SUÁ' 'SANTA HELENA' 'ITARARÉ' 'INHANGUETÁ' 'UNIVERSITÁRIO'\n",
      " 'SÃO JOSÉ' 'REDENÇÃO' 'SANTA CLARA' 'CENTRO' 'PARQUE MOSCOSO'\n",
      " 'DO MOSCOSO' 'SANTOS DUMONT' 'CARATOÍRA' 'ARIOVALDO FAVALESSA'\n",
      " 'ILHA DO FRADE' 'GURIGICA' 'JOANA D´ARC' 'CONSOLAÇÃO' 'PRAIA DO CANTO'\n",
      " 'BOA VISTA' 'MORADA DE CAMBURI' 'SANTA LUÍZA' 'SANTA LÚCIA'\n",
      " 'BARRO VERMELHO' 'ESTRELINHA' 'FORTE SÃO JOÃO' 'FONTE GRANDE'\n",
      " 'ENSEADA DO SUÁ' 'SANTOS REIS' 'PIEDADE' 'JESUS DE NAZARETH'\n",
      " 'SANTA TEREZA' 'CRUZAMENTO' 'ILHA DO PRÍNCIPE' 'ROMÃO' 'COMDUSA'\n",
      " 'SANTA CECÍLIA' 'VILA RUBIM' 'DE LOURDES' 'DO QUADRO' 'DO CABRAL' 'HORTO'\n",
      " 'SEGURANÇA DO LAR' 'ILHA DO BOI' 'FRADINHOS' 'NAZARETH' 'AEROPORTO'\n",
      " 'ILHAS OCEÂNICAS DE TRINDADE' 'PARQUE INDUSTRIAL']\n",
      "\n",
      "Unique values in Scholarship: 2\n",
      "[0 1]\n",
      "\n",
      "Unique values in Hipertension: 2\n",
      "[1 0]\n",
      "\n",
      "Unique values in Diabetes: 2\n",
      "[0 1]\n",
      "\n",
      "Unique values in Alcoholism: 2\n",
      "[0 1]\n",
      "\n",
      "Unique values in Handcap: 5\n",
      "[0 1 2 3 4]\n",
      "\n",
      "Unique values in SMS_received: 2\n",
      "[0 1]\n",
      "\n",
      "Unique values in No-show: 2\n",
      "['No' 'Yes']\n"
     ]
    }
   ],
   "source": [
    "\n",
    "for column in df.columns:\n",
    "    print(f\"\\nUnique values in {column}: {df[column].nunique()}\")\n",
    "    print(df[column].unique())"
   ]
  },
  {
   "cell_type": "code",
   "execution_count": 8,
   "metadata": {},
   "outputs": [
    {
     "data": {
      "text/plain": [
       "array([ 62,  56,   8,  76,  23,  39,  21,  19,  30,  29,  22,  28,  54,\n",
       "        15,  50,  40,  46,   4,  13,  65,  45,  51,  32,  12,  61,  38,\n",
       "        79,  18,  63,  64,  85,  59,  55,  71,  49,  78,  31,  58,  27,\n",
       "         6,   2,  11,   7,   0,   3,   1,  69,  68,  60,  67,  36,  10,\n",
       "        35,  20,  26,  34,  33,  16,  42,   5,  47,  17,  41,  44,  37,\n",
       "        24,  66,  77,  81,  70,  53,  75,  73,  52,  74,  43,  89,  57,\n",
       "        14,   9,  48,  83,  72,  25,  80,  87,  88,  84,  82,  90,  94,\n",
       "        86,  91,  98,  92,  96,  93,  95,  97, 102, 115, 100,  99,  -1])"
      ]
     },
     "execution_count": 8,
     "metadata": {},
     "output_type": "execute_result"
    }
   ],
   "source": [
    "#check the unique values of age\n",
    "df['Age'].unique()"
   ]
  },
  {
   "cell_type": "markdown",
   "metadata": {},
   "source": [
    "Age contains extreme values: -1 and 115. They could be outlier. So, the presence of outliers is checked again."
   ]
  },
  {
   "cell_type": "code",
   "execution_count": 9,
   "metadata": {},
   "outputs": [
    {
     "data": {
      "image/png": "[encoded data removed]",
      "text/plain": [
       "<Figure size 1600x200 with 1 Axes>"
      ]
     },
     "metadata": {},
     "output_type": "display_data"
    }
   ],
   "source": [
    "plt.figure(figsize=(16,2))\n",
    "age = sns.boxplot(x=df.Age)\n",
    "age.set_title(\"Patients distribution by Age\")\n",
    "plt.show()"
   ]
  },
  {
   "cell_type": "markdown",
   "metadata": {},
   "source": [
    "It is found that the outliers are -1 and 115. So, the rows with them are removed from age. "
   ]
  },
  {
   "cell_type": "code",
   "execution_count": 10,
   "metadata": {},
   "outputs": [],
   "source": [
    "#remove rows with age greater than 102(outliers)\n",
    "df = df.drop(df[df.Age > 102].index)\n",
    "\n",
    "#remove rows with age less than 0(nonsense)\n",
    "df = df.drop(df[df.Age <0].index)"
   ]
  },
  {
   "cell_type": "code",
   "execution_count": 11,
   "metadata": {},
   "outputs": [
    {
     "data": {
      "text/plain": [
       "array([ 62,  56,   8,  76,  23,  39,  21,  19,  30,  29,  22,  28,  54,\n",
       "        15,  50,  40,  46,   4,  13,  65,  45,  51,  32,  12,  61,  38,\n",
       "        79,  18,  63,  64,  85,  59,  55,  71,  49,  78,  31,  58,  27,\n",
       "         6,   2,  11,   7,   0,   3,   1,  69,  68,  60,  67,  36,  10,\n",
       "        35,  20,  26,  34,  33,  16,  42,   5,  47,  17,  41,  44,  37,\n",
       "        24,  66,  77,  81,  70,  53,  75,  73,  52,  74,  43,  89,  57,\n",
       "        14,   9,  48,  83,  72,  25,  80,  87,  88,  84,  82,  90,  94,\n",
       "        86,  91,  98,  92,  96,  93,  95,  97, 102, 100,  99])"
      ]
     },
     "execution_count": 11,
     "metadata": {},
     "output_type": "execute_result"
    }
   ],
   "source": [
    "#check the values of age again, it is found that there is no -1 and 115. \n",
    "df['Age'].unique()"
   ]
  },
  {
   "cell_type": "code",
   "execution_count": 12,
   "metadata": {},
   "outputs": [
    {
     "data": {
      "text/plain": [
       "array([0, 1, 2, 3, 4])"
      ]
     },
     "execution_count": 12,
     "metadata": {},
     "output_type": "execute_result"
    }
   ],
   "source": [
    "#check the unique value of handcap\n",
    "df['Handcap'].unique()"
   ]
  },
  {
   "cell_type": "markdown",
   "metadata": {},
   "source": [
    "Check the values of Handcap which are found to be 0 to 4. So, it is converted to 0 or 1, meaning the absence or presence of handcap.  "
   ]
  },
  {
   "cell_type": "code",
   "execution_count": 13,
   "metadata": {},
   "outputs": [
    {
     "data": {
      "text/html": [
       "<div>\n",
       "<style scoped>\n",
       "    .dataframe tbody tr th:only-of-type {\n",
       "        vertical-align: middle;\n",
       "    }\n",
       "\n",
       "    .dataframe tbody tr th {\n",
       "        vertical-align: top;\n",
       "    }\n",
       "\n",
       "    .dataframe thead th {\n",
       "        text-align: right;\n",
       "    }\n",
       "</style>\n",
       "<table border=\"1\" class=\"dataframe\">\n",
       "  <thead>\n",
       "    <tr style=\"text-align: right;\">\n",
       "      <th></th>\n",
       "      <th>PatientId</th>\n",
       "      <th>AppointmentID</th>\n",
       "      <th>Gender</th>\n",
       "      <th>ScheduledDay</th>\n",
       "      <th>AppointmentDay</th>\n",
       "      <th>Age</th>\n",
       "      <th>Neighbourhood</th>\n",
       "      <th>Scholarship</th>\n",
       "      <th>Hipertension</th>\n",
       "      <th>Diabetes</th>\n",
       "      <th>Alcoholism</th>\n",
       "      <th>Handcap</th>\n",
       "      <th>SMS_received</th>\n",
       "      <th>No-show</th>\n",
       "    </tr>\n",
       "  </thead>\n",
       "  <tbody>\n",
       "    <tr>\n",
       "      <th>0</th>\n",
       "      <td>2.987250e+13</td>\n",
       "      <td>5642903</td>\n",
       "      <td>F</td>\n",
       "      <td>2016-04-29T18:38:08Z</td>\n",
       "      <td>2016-04-29T00:00:00Z</td>\n",
       "      <td>62</td>\n",
       "      <td>JARDIM DA PENHA</td>\n",
       "      <td>0</td>\n",
       "      <td>1</td>\n",
       "      <td>0</td>\n",
       "      <td>0</td>\n",
       "      <td>0</td>\n",
       "      <td>0</td>\n",
       "      <td>No</td>\n",
       "    </tr>\n",
       "    <tr>\n",
       "      <th>1</th>\n",
       "      <td>5.589980e+14</td>\n",
       "      <td>5642503</td>\n",
       "      <td>M</td>\n",
       "      <td>2016-04-29T16:08:27Z</td>\n",
       "      <td>2016-04-29T00:00:00Z</td>\n",
       "      <td>56</td>\n",
       "      <td>JARDIM DA PENHA</td>\n",
       "      <td>0</td>\n",
       "      <td>0</td>\n",
       "      <td>0</td>\n",
       "      <td>0</td>\n",
       "      <td>0</td>\n",
       "      <td>0</td>\n",
       "      <td>No</td>\n",
       "    </tr>\n",
       "    <tr>\n",
       "      <th>2</th>\n",
       "      <td>4.262960e+12</td>\n",
       "      <td>5642549</td>\n",
       "      <td>F</td>\n",
       "      <td>2016-04-29T16:19:04Z</td>\n",
       "      <td>2016-04-29T00:00:00Z</td>\n",
       "      <td>62</td>\n",
       "      <td>MATA DA PRAIA</td>\n",
       "      <td>0</td>\n",
       "      <td>0</td>\n",
       "      <td>0</td>\n",
       "      <td>0</td>\n",
       "      <td>0</td>\n",
       "      <td>0</td>\n",
       "      <td>No</td>\n",
       "    </tr>\n",
       "    <tr>\n",
       "      <th>3</th>\n",
       "      <td>8.679510e+11</td>\n",
       "      <td>5642828</td>\n",
       "      <td>F</td>\n",
       "      <td>2016-04-29T17:29:31Z</td>\n",
       "      <td>2016-04-29T00:00:00Z</td>\n",
       "      <td>8</td>\n",
       "      <td>PONTAL DE CAMBURI</td>\n",
       "      <td>0</td>\n",
       "      <td>0</td>\n",
       "      <td>0</td>\n",
       "      <td>0</td>\n",
       "      <td>0</td>\n",
       "      <td>0</td>\n",
       "      <td>No</td>\n",
       "    </tr>\n",
       "    <tr>\n",
       "      <th>4</th>\n",
       "      <td>8.841190e+12</td>\n",
       "      <td>5642494</td>\n",
       "      <td>F</td>\n",
       "      <td>2016-04-29T16:07:23Z</td>\n",
       "      <td>2016-04-29T00:00:00Z</td>\n",
       "      <td>56</td>\n",
       "      <td>JARDIM DA PENHA</td>\n",
       "      <td>0</td>\n",
       "      <td>1</td>\n",
       "      <td>1</td>\n",
       "      <td>0</td>\n",
       "      <td>0</td>\n",
       "      <td>0</td>\n",
       "      <td>No</td>\n",
       "    </tr>\n",
       "    <tr>\n",
       "      <th>...</th>\n",
       "      <td>...</td>\n",
       "      <td>...</td>\n",
       "      <td>...</td>\n",
       "      <td>...</td>\n",
       "      <td>...</td>\n",
       "      <td>...</td>\n",
       "      <td>...</td>\n",
       "      <td>...</td>\n",
       "      <td>...</td>\n",
       "      <td>...</td>\n",
       "      <td>...</td>\n",
       "      <td>...</td>\n",
       "      <td>...</td>\n",
       "      <td>...</td>\n",
       "    </tr>\n",
       "    <tr>\n",
       "      <th>110522</th>\n",
       "      <td>2.572130e+12</td>\n",
       "      <td>5651768</td>\n",
       "      <td>F</td>\n",
       "      <td>2016-05-03T09:15:35Z</td>\n",
       "      <td>2016-06-07T00:00:00Z</td>\n",
       "      <td>56</td>\n",
       "      <td>MARIA ORTIZ</td>\n",
       "      <td>0</td>\n",
       "      <td>0</td>\n",
       "      <td>0</td>\n",
       "      <td>0</td>\n",
       "      <td>0</td>\n",
       "      <td>1</td>\n",
       "      <td>No</td>\n",
       "    </tr>\n",
       "    <tr>\n",
       "      <th>110523</th>\n",
       "      <td>3.596270e+12</td>\n",
       "      <td>5650093</td>\n",
       "      <td>F</td>\n",
       "      <td>2016-05-03T07:27:33Z</td>\n",
       "      <td>2016-06-07T00:00:00Z</td>\n",
       "      <td>51</td>\n",
       "      <td>MARIA ORTIZ</td>\n",
       "      <td>0</td>\n",
       "      <td>0</td>\n",
       "      <td>0</td>\n",
       "      <td>0</td>\n",
       "      <td>0</td>\n",
       "      <td>1</td>\n",
       "      <td>No</td>\n",
       "    </tr>\n",
       "    <tr>\n",
       "      <th>110524</th>\n",
       "      <td>1.557660e+13</td>\n",
       "      <td>5630692</td>\n",
       "      <td>F</td>\n",
       "      <td>2016-04-27T16:03:52Z</td>\n",
       "      <td>2016-06-07T00:00:00Z</td>\n",
       "      <td>21</td>\n",
       "      <td>MARIA ORTIZ</td>\n",
       "      <td>0</td>\n",
       "      <td>0</td>\n",
       "      <td>0</td>\n",
       "      <td>0</td>\n",
       "      <td>0</td>\n",
       "      <td>1</td>\n",
       "      <td>No</td>\n",
       "    </tr>\n",
       "    <tr>\n",
       "      <th>110525</th>\n",
       "      <td>9.213490e+13</td>\n",
       "      <td>5630323</td>\n",
       "      <td>F</td>\n",
       "      <td>2016-04-27T15:09:23Z</td>\n",
       "      <td>2016-06-07T00:00:00Z</td>\n",
       "      <td>38</td>\n",
       "      <td>MARIA ORTIZ</td>\n",
       "      <td>0</td>\n",
       "      <td>0</td>\n",
       "      <td>0</td>\n",
       "      <td>0</td>\n",
       "      <td>0</td>\n",
       "      <td>1</td>\n",
       "      <td>No</td>\n",
       "    </tr>\n",
       "    <tr>\n",
       "      <th>110526</th>\n",
       "      <td>3.775120e+14</td>\n",
       "      <td>5629448</td>\n",
       "      <td>F</td>\n",
       "      <td>2016-04-27T13:30:56Z</td>\n",
       "      <td>2016-06-07T00:00:00Z</td>\n",
       "      <td>54</td>\n",
       "      <td>MARIA ORTIZ</td>\n",
       "      <td>0</td>\n",
       "      <td>0</td>\n",
       "      <td>0</td>\n",
       "      <td>0</td>\n",
       "      <td>0</td>\n",
       "      <td>1</td>\n",
       "      <td>No</td>\n",
       "    </tr>\n",
       "  </tbody>\n",
       "</table>\n",
       "<p>110521 rows × 14 columns</p>\n",
       "</div>"
      ],
      "text/plain": [
       "           PatientId  AppointmentID Gender          ScheduledDay  \\\n",
       "0       2.987250e+13        5642903      F  2016-04-29T18:38:08Z   \n",
       "1       5.589980e+14        5642503      M  2016-04-29T16:08:27Z   \n",
       "2       4.262960e+12        5642549      F  2016-04-29T16:19:04Z   \n",
       "3       8.679510e+11        5642828      F  2016-04-29T17:29:31Z   \n",
       "4       8.841190e+12        5642494      F  2016-04-29T16:07:23Z   \n",
       "...              ...            ...    ...                   ...   \n",
       "110522  2.572130e+12        5651768      F  2016-05-03T09:15:35Z   \n",
       "110523  3.596270e+12        5650093      F  2016-05-03T07:27:33Z   \n",
       "110524  1.557660e+13        5630692      F  2016-04-27T16:03:52Z   \n",
       "110525  9.213490e+13        5630323      F  2016-04-27T15:09:23Z   \n",
       "110526  3.775120e+14        5629448      F  2016-04-27T13:30:56Z   \n",
       "\n",
       "              AppointmentDay  Age      Neighbourhood  Scholarship  \\\n",
       "0       2016-04-29T00:00:00Z   62    JARDIM DA PENHA            0   \n",
       "1       2016-04-29T00:00:00Z   56    JARDIM DA PENHA            0   \n",
       "2       2016-04-29T00:00:00Z   62      MATA DA PRAIA            0   \n",
       "3       2016-04-29T00:00:00Z    8  PONTAL DE CAMBURI            0   \n",
       "4       2016-04-29T00:00:00Z   56    JARDIM DA PENHA            0   \n",
       "...                      ...  ...                ...          ...   \n",
       "110522  2016-06-07T00:00:00Z   56        MARIA ORTIZ            0   \n",
       "110523  2016-06-07T00:00:00Z   51        MARIA ORTIZ            0   \n",
       "110524  2016-06-07T00:00:00Z   21        MARIA ORTIZ            0   \n",
       "110525  2016-06-07T00:00:00Z   38        MARIA ORTIZ            0   \n",
       "110526  2016-06-07T00:00:00Z   54        MARIA ORTIZ            0   \n",
       "\n",
       "        Hipertension  Diabetes  Alcoholism  Handcap  SMS_received No-show  \n",
       "0                  1         0           0        0             0      No  \n",
       "1                  0         0           0        0             0      No  \n",
       "2                  0         0           0        0             0      No  \n",
       "3                  0         0           0        0             0      No  \n",
       "4                  1         1           0        0             0      No  \n",
       "...              ...       ...         ...      ...           ...     ...  \n",
       "110522             0         0           0        0             1      No  \n",
       "110523             0         0           0        0             1      No  \n",
       "110524             0         0           0        0             1      No  \n",
       "110525             0         0           0        0             1      No  \n",
       "110526             0         0           0        0             1      No  \n",
       "\n",
       "[110521 rows x 14 columns]"
      ]
     },
     "execution_count": 13,
     "metadata": {},
     "output_type": "execute_result"
    }
   ],
   "source": [
    "df['Handcap'] = df['Handcap'].apply(lambda x: 1 if x > 0 else 0)\n",
    "df"
   ]
  },
  {
   "cell_type": "code",
   "execution_count": 14,
   "metadata": {},
   "outputs": [
    {
     "data": {
      "text/plain": [
       "array([0, 1])"
      ]
     },
     "execution_count": 14,
     "metadata": {},
     "output_type": "execute_result"
    }
   ],
   "source": [
    "#check the values of handcap again, it is found to be 0 and 1\n",
    "df['Handcap'].unique()"
   ]
  },
  {
   "cell_type": "code",
   "execution_count": 15,
   "metadata": {},
   "outputs": [
    {
     "data": {
      "text/plain": [
       "PatientId         float64\n",
       "AppointmentID       int64\n",
       "Gender             object\n",
       "ScheduledDay       object\n",
       "AppointmentDay     object\n",
       "Age                 int64\n",
       "Neighbourhood      object\n",
       "Scholarship         int64\n",
       "Hipertension        int64\n",
       "Diabetes            int64\n",
       "Alcoholism          int64\n",
       "Handcap             int64\n",
       "SMS_received        int64\n",
       "No-show            object\n",
       "dtype: object"
      ]
     },
     "execution_count": 15,
     "metadata": {},
     "output_type": "execute_result"
    }
   ],
   "source": [
    "#check the data types\n",
    "df.dtypes"
   ]
  },
  {
   "cell_type": "markdown",
   "metadata": {},
   "source": [
    "The name of columns 'Hipertension' and 'Handcap' are changed into 'Hypertension' and 'Handicap'"
   ]
  },
  {
   "cell_type": "code",
   "execution_count": 16,
   "metadata": {},
   "outputs": [],
   "source": [
    "df = df.rename(columns={'Hipertension': 'Hypertension'})\n",
    "df = df.rename(columns={'Handcap': 'Handicap'})\n"
   ]
  },
  {
   "cell_type": "markdown",
   "metadata": {},
   "source": [
    "### convert data type"
   ]
  },
  {
   "cell_type": "markdown",
   "metadata": {},
   "source": [
    "Some data types are corrected as follows."
   ]
  },
  {
   "cell_type": "code",
   "execution_count": 17,
   "metadata": {},
   "outputs": [
    {
     "data": {
      "text/plain": [
       "PatientId          float64\n",
       "AppointmentID        int64\n",
       "Gender              object\n",
       "ScheduledDay        object\n",
       "AppointmentDay      object\n",
       "Age                  int64\n",
       "Neighbourhood     category\n",
       "Scholarship           bool\n",
       "Hypertension          bool\n",
       "Diabetes              bool\n",
       "Alcoholism            bool\n",
       "Handicap              bool\n",
       "SMS_received          bool\n",
       "No-show             object\n",
       "dtype: object"
      ]
     },
     "execution_count": 17,
     "metadata": {},
     "output_type": "execute_result"
    }
   ],
   "source": [
    "df[\"Neighbourhood\"] = df[\"Neighbourhood\"].astype(\"category\")\n",
    "df['Scholarship'] = df['Scholarship'].astype(bool)\n",
    "df['Hypertension'] = df['Hypertension'].astype(bool)\n",
    "df['Diabetes'] = df['Diabetes'].astype(bool)\n",
    "df['Alcoholism'] = df['Alcoholism'].astype(bool)\n",
    "df['Handicap'] = df['Handicap'].astype(bool)\n",
    "df['SMS_received'] = df['SMS_received'].astype(bool)\n",
    "\n",
    "df.dtypes"
   ]
  },
  {
   "cell_type": "code",
   "execution_count": 18,
   "metadata": {},
   "outputs": [],
   "source": [
    "#No-show is converted to boolean values: 0 and 1\n",
    "#gender is converted to boolean values: 0 and 1\n",
    "df['No-show']= df['No-show'].map({'Yes': 1, 'No': 0})\n",
    "df['Gender']= df['Gender'].map({'M': 1, 'F': 0})"
   ]
  },
  {
   "cell_type": "code",
   "execution_count": 19,
   "metadata": {},
   "outputs": [
    {
     "data": {
      "text/plain": [
       "array([0, 1])"
      ]
     },
     "execution_count": 19,
     "metadata": {},
     "output_type": "execute_result"
    }
   ],
   "source": [
    "df['Gender'].unique()"
   ]
  },
  {
   "cell_type": "code",
   "execution_count": 20,
   "metadata": {},
   "outputs": [
    {
     "data": {
      "text/plain": [
       "PatientId          float64\n",
       "AppointmentID        int64\n",
       "Gender               int64\n",
       "ScheduledDay        object\n",
       "AppointmentDay      object\n",
       "Age                  int64\n",
       "Neighbourhood     category\n",
       "Scholarship           bool\n",
       "Hypertension          bool\n",
       "Diabetes              bool\n",
       "Alcoholism            bool\n",
       "Handicap              bool\n",
       "SMS_received          bool\n",
       "No-show              int64\n",
       "dtype: object"
      ]
     },
     "execution_count": 20,
     "metadata": {},
     "output_type": "execute_result"
    }
   ],
   "source": [
    "#check the data type again\n",
    "df.dtypes"
   ]
  },
  {
   "cell_type": "code",
   "execution_count": 21,
   "metadata": {},
   "outputs": [
    {
     "data": {
      "text/html": [
       "<div>\n",
       "<style scoped>\n",
       "    .dataframe tbody tr th:only-of-type {\n",
       "        vertical-align: middle;\n",
       "    }\n",
       "\n",
       "    .dataframe tbody tr th {\n",
       "        vertical-align: top;\n",
       "    }\n",
       "\n",
       "    .dataframe thead th {\n",
       "        text-align: right;\n",
       "    }\n",
       "</style>\n",
       "<table border=\"1\" class=\"dataframe\">\n",
       "  <thead>\n",
       "    <tr style=\"text-align: right;\">\n",
       "      <th></th>\n",
       "      <th>PatientId</th>\n",
       "      <th>AppointmentID</th>\n",
       "      <th>Gender</th>\n",
       "      <th>ScheduledDay</th>\n",
       "      <th>AppointmentDay</th>\n",
       "      <th>Age</th>\n",
       "      <th>Neighbourhood</th>\n",
       "      <th>Scholarship</th>\n",
       "      <th>Hypertension</th>\n",
       "      <th>Diabetes</th>\n",
       "      <th>Alcoholism</th>\n",
       "      <th>Handicap</th>\n",
       "      <th>SMS_received</th>\n",
       "      <th>No-show</th>\n",
       "      <th>age_group</th>\n",
       "    </tr>\n",
       "  </thead>\n",
       "  <tbody>\n",
       "    <tr>\n",
       "      <th>0</th>\n",
       "      <td>2.987250e+13</td>\n",
       "      <td>5642903</td>\n",
       "      <td>0</td>\n",
       "      <td>2016-04-29T18:38:08Z</td>\n",
       "      <td>2016-04-29T00:00:00Z</td>\n",
       "      <td>62</td>\n",
       "      <td>JARDIM DA PENHA</td>\n",
       "      <td>False</td>\n",
       "      <td>True</td>\n",
       "      <td>False</td>\n",
       "      <td>False</td>\n",
       "      <td>False</td>\n",
       "      <td>False</td>\n",
       "      <td>0</td>\n",
       "      <td>45-64</td>\n",
       "    </tr>\n",
       "    <tr>\n",
       "      <th>1</th>\n",
       "      <td>5.589980e+14</td>\n",
       "      <td>5642503</td>\n",
       "      <td>1</td>\n",
       "      <td>2016-04-29T16:08:27Z</td>\n",
       "      <td>2016-04-29T00:00:00Z</td>\n",
       "      <td>56</td>\n",
       "      <td>JARDIM DA PENHA</td>\n",
       "      <td>False</td>\n",
       "      <td>False</td>\n",
       "      <td>False</td>\n",
       "      <td>False</td>\n",
       "      <td>False</td>\n",
       "      <td>False</td>\n",
       "      <td>0</td>\n",
       "      <td>45-64</td>\n",
       "    </tr>\n",
       "    <tr>\n",
       "      <th>2</th>\n",
       "      <td>4.262960e+12</td>\n",
       "      <td>5642549</td>\n",
       "      <td>0</td>\n",
       "      <td>2016-04-29T16:19:04Z</td>\n",
       "      <td>2016-04-29T00:00:00Z</td>\n",
       "      <td>62</td>\n",
       "      <td>MATA DA PRAIA</td>\n",
       "      <td>False</td>\n",
       "      <td>False</td>\n",
       "      <td>False</td>\n",
       "      <td>False</td>\n",
       "      <td>False</td>\n",
       "      <td>False</td>\n",
       "      <td>0</td>\n",
       "      <td>45-64</td>\n",
       "    </tr>\n",
       "    <tr>\n",
       "      <th>3</th>\n",
       "      <td>8.679510e+11</td>\n",
       "      <td>5642828</td>\n",
       "      <td>0</td>\n",
       "      <td>2016-04-29T17:29:31Z</td>\n",
       "      <td>2016-04-29T00:00:00Z</td>\n",
       "      <td>8</td>\n",
       "      <td>PONTAL DE CAMBURI</td>\n",
       "      <td>False</td>\n",
       "      <td>False</td>\n",
       "      <td>False</td>\n",
       "      <td>False</td>\n",
       "      <td>False</td>\n",
       "      <td>False</td>\n",
       "      <td>0</td>\n",
       "      <td>under 15</td>\n",
       "    </tr>\n",
       "    <tr>\n",
       "      <th>4</th>\n",
       "      <td>8.841190e+12</td>\n",
       "      <td>5642494</td>\n",
       "      <td>0</td>\n",
       "      <td>2016-04-29T16:07:23Z</td>\n",
       "      <td>2016-04-29T00:00:00Z</td>\n",
       "      <td>56</td>\n",
       "      <td>JARDIM DA PENHA</td>\n",
       "      <td>False</td>\n",
       "      <td>True</td>\n",
       "      <td>True</td>\n",
       "      <td>False</td>\n",
       "      <td>False</td>\n",
       "      <td>False</td>\n",
       "      <td>0</td>\n",
       "      <td>45-64</td>\n",
       "    </tr>\n",
       "  </tbody>\n",
       "</table>\n",
       "</div>"
      ],
      "text/plain": [
       "      PatientId  AppointmentID  Gender          ScheduledDay  \\\n",
       "0  2.987250e+13        5642903       0  2016-04-29T18:38:08Z   \n",
       "1  5.589980e+14        5642503       1  2016-04-29T16:08:27Z   \n",
       "2  4.262960e+12        5642549       0  2016-04-29T16:19:04Z   \n",
       "3  8.679510e+11        5642828       0  2016-04-29T17:29:31Z   \n",
       "4  8.841190e+12        5642494       0  2016-04-29T16:07:23Z   \n",
       "\n",
       "         AppointmentDay  Age      Neighbourhood  Scholarship  Hypertension  \\\n",
       "0  2016-04-29T00:00:00Z   62    JARDIM DA PENHA        False          True   \n",
       "1  2016-04-29T00:00:00Z   56    JARDIM DA PENHA        False         False   \n",
       "2  2016-04-29T00:00:00Z   62      MATA DA PRAIA        False         False   \n",
       "3  2016-04-29T00:00:00Z    8  PONTAL DE CAMBURI        False         False   \n",
       "4  2016-04-29T00:00:00Z   56    JARDIM DA PENHA        False          True   \n",
       "\n",
       "   Diabetes  Alcoholism  Handicap  SMS_received  No-show age_group  \n",
       "0     False       False     False         False        0     45-64  \n",
       "1     False       False     False         False        0     45-64  \n",
       "2     False       False     False         False        0     45-64  \n",
       "3     False       False     False         False        0  under 15  \n",
       "4      True       False     False         False        0     45-64  "
      ]
     },
     "execution_count": 21,
     "metadata": {},
     "output_type": "execute_result"
    }
   ],
   "source": [
    "# Define age bins and corresponding labels for Medium Level classification\n",
    "bins = [-1, 14, 24, 44, 64, 105]\n",
    "labels = ['under 15', '15-24', '25-44', '45-64', '65+']\n",
    "\n",
    "# Apply the binning and labeling to the 'Age' column\n",
    "df['age_group'] = pd.cut(df['Age'], bins=bins, labels=labels)\n",
    "\n",
    "# Display the first few rows to check the result\n",
    "df.head()\n"
   ]
  },
  {
   "cell_type": "code",
   "execution_count": 22,
   "metadata": {},
   "outputs": [
    {
     "data": {
      "text/plain": [
       "PatientId          float64\n",
       "AppointmentID        int64\n",
       "Gender               int64\n",
       "ScheduledDay        object\n",
       "AppointmentDay      object\n",
       "Age                  int64\n",
       "Neighbourhood     category\n",
       "Scholarship           bool\n",
       "Hypertension          bool\n",
       "Diabetes              bool\n",
       "Alcoholism            bool\n",
       "Handicap              bool\n",
       "SMS_received          bool\n",
       "No-show              int64\n",
       "age_group         category\n",
       "dtype: object"
      ]
     },
     "execution_count": 22,
     "metadata": {},
     "output_type": "execute_result"
    }
   ],
   "source": [
    "df.dtypes"
   ]
  },
  {
   "cell_type": "markdown",
   "metadata": {},
   "source": [
    "Thus, most of the data types of columns are corrected. Schedule Day and Appointment Day are not so useful in data analysis  and model training. So, their types are left as object."
   ]
  },
  {
   "cell_type": "markdown",
   "metadata": {},
   "source": [
    "# Univariate Analysis - Categorical Features\n"
   ]
  },
  {
   "cell_type": "code",
   "execution_count": 23,
   "metadata": {},
   "outputs": [
    {
     "name": "stdout",
     "output_type": "stream",
     "text": [
      "\n",
      "Value counts for Neighbourhood:\n",
      "Neighbourhood\n",
      "JARDIM CAMBURI                 7717\n",
      "MARIA ORTIZ                    5805\n",
      "RESISTÊNCIA                    4431\n",
      "JARDIM DA PENHA                3877\n",
      "ITARARÉ                        3514\n",
      "                               ... \n",
      "ILHA DO BOI                      35\n",
      "ILHA DO FRADE                    10\n",
      "AEROPORTO                         8\n",
      "ILHAS OCEÂNICAS DE TRINDADE       2\n",
      "PARQUE INDUSTRIAL                 1\n",
      "Name: count, Length: 81, dtype: int64\n"
     ]
    },
    {
     "data": {
      "image/png": "[encoded data removed]",
      "text/plain": [
       "<Figure size 1000x500 with 1 Axes>"
      ]
     },
     "metadata": {},
     "output_type": "display_data"
    },
    {
     "name": "stdout",
     "output_type": "stream",
     "text": [
      "\n",
      "Value counts for age_group:\n",
      "age_group\n",
      "45-64       29992\n",
      "25-44       28865\n",
      "under 15    23257\n",
      "65+         14397\n",
      "15-24       14010\n",
      "Name: count, dtype: int64\n"
     ]
    },
    {
     "data": {
      "image/png": "[encoded data removed]",
      "text/plain": [
       "<Figure size 1000x500 with 1 Axes>"
      ]
     },
     "metadata": {},
     "output_type": "display_data"
    }
   ],
   "source": [
    "categorical_cols = df.select_dtypes(include=['category']).columns\n",
    "for col in categorical_cols:\n",
    "    # Get the value counts for the column\n",
    "    value_counts = df[col].value_counts()\n",
    "    print(f\"\\nValue counts for {col}:\")\n",
    "    print(value_counts)\n",
    "    \n",
    "    # Plot the value counts, limiting to the top 10 categories for faster plotting\n",
    "    plt.figure(figsize=(10, 5))\n",
    "    sns.countplot(x=col, data=df, order=value_counts.index[:10])\n",
    "    plt.title(f\"Distribution of {col}\")\n",
    "    plt.xticks(rotation=45)\n",
    "    plt.show(block=False)\n",
    "    plt.pause(0.1)\n",
    "    plt.close()"
   ]
  },
  {
   "cell_type": "markdown",
   "metadata": {},
   "source": [
    "# Univariate Analysis - Numerical Features"
   ]
  },
  {
   "cell_type": "code",
   "execution_count": 24,
   "metadata": {},
   "outputs": [
    {
     "data": {
      "image/png": "[encoded data removed]",
      "text/plain": [
       "<Figure size 1500x500 with 3 Axes>"
      ]
     },
     "metadata": {},
     "output_type": "display_data"
    }
   ],
   "source": [
    "# Select numerical columns from the DataFrame\n",
    "numerical_cols = df.select_dtypes(include=['int64', 'float64']).columns\n",
    "\n",
    "# List of columns to exclude from plotting\n",
    "exclude_cols = ['PatientId', 'AppointmentID']\n",
    "\n",
    "# Filter out the columns you want to exclude\n",
    "filtered_numerical_cols = [col for col in numerical_cols if col not in exclude_cols]\n",
    "\n",
    "# Set up the figure for subplots\n",
    "num_plots = len(filtered_numerical_cols)\n",
    "cols = 3  # Number of columns for the subplot grid\n",
    "rows = math.ceil(num_plots / cols)  # Calculate the number of rows needed\n",
    "\n",
    "fig, axes = plt.subplots(rows, cols, figsize=(15, rows * 5))\n",
    "axes = axes.flatten()  # Flatten the axes array for easy indexing\n",
    "\n",
    "# Iterate through each filtered numerical column and plot\n",
    "for i, col in enumerate(filtered_numerical_cols):\n",
    "    sns.histplot(df[col], kde=True, ax=axes[i])\n",
    "    axes[i].set_title(f\"Distribution of {col}\")\n",
    "\n",
    "# Remove any empty subplots\n",
    "for j in range(i + 1, len(axes)):\n",
    "    fig.delaxes(axes[j])\n",
    "\n",
    "plt.tight_layout()\n",
    "plt.show()\n"
   ]
  },
  {
   "cell_type": "markdown",
   "metadata": {},
   "source": [
    "# Bivariate Analysis - Target vs Features\n"
   ]
  },
  {
   "cell_type": "code",
   "execution_count": 25,
   "metadata": {},
   "outputs": [
    {
     "name": "stdout",
     "output_type": "stream",
     "text": [
      "Feature: Gender, Unique values: [0, 1]\n",
      "Categories (2, int64): [0, 1]\n",
      "Target: No-show, Unique values: [0 1]\n"
     ]
    },
    {
     "data": {
      "image/png": "[encoded data removed]",
      "text/plain": [
       "<Figure size 1000x500 with 1 Axes>"
      ]
     },
     "metadata": {},
     "output_type": "display_data"
    },
    {
     "name": "stdout",
     "output_type": "stream",
     "text": [
      "Feature: age_group, Unique values: ['45-64', 'under 15', '65+', '15-24', '25-44']\n",
      "Categories (5, object): ['under 15' < '15-24' < '25-44' < '45-64' < '65+']\n",
      "Target: No-show, Unique values: [0 1]\n"
     ]
    },
    {
     "data": {
      "image/png": "[encoded data removed]",
      "text/plain": [
       "<Figure size 1000x500 with 1 Axes>"
      ]
     },
     "metadata": {},
     "output_type": "display_data"
    },
    {
     "name": "stdout",
     "output_type": "stream",
     "text": [
      "Feature: Scholarship, Unique values: [False, True]\n",
      "Categories (2, bool): [False, True]\n",
      "Target: No-show, Unique values: [0 1]\n"
     ]
    },
    {
     "data": {
      "image/png": "[encoded data removed]",
      "text/plain": [
       "<Figure size 1000x500 with 1 Axes>"
      ]
     },
     "metadata": {},
     "output_type": "display_data"
    },
    {
     "name": "stdout",
     "output_type": "stream",
     "text": [
      "Feature: Hypertension, Unique values: [True, False]\n",
      "Categories (2, bool): [False, True]\n",
      "Target: No-show, Unique values: [0 1]\n"
     ]
    },
    {
     "data": {
      "image/png": "[encoded data removed]",
      "text/plain": [
       "<Figure size 1000x500 with 1 Axes>"
      ]
     },
     "metadata": {},
     "output_type": "display_data"
    },
    {
     "name": "stdout",
     "output_type": "stream",
     "text": [
      "Feature: Diabetes, Unique values: [False, True]\n",
      "Categories (2, bool): [False, True]\n",
      "Target: No-show, Unique values: [0 1]\n"
     ]
    },
    {
     "data": {
      "image/png": "[encoded data removed]",
      "text/plain": [
       "<Figure size 1000x500 with 1 Axes>"
      ]
     },
     "metadata": {},
     "output_type": "display_data"
    },
    {
     "name": "stdout",
     "output_type": "stream",
     "text": [
      "Feature: Alcoholism, Unique values: [False, True]\n",
      "Categories (2, bool): [False, True]\n",
      "Target: No-show, Unique values: [0 1]\n"
     ]
    },
    {
     "data": {
      "image/png": "[encoded data removed]",
      "text/plain": [
       "<Figure size 1000x500 with 1 Axes>"
      ]
     },
     "metadata": {},
     "output_type": "display_data"
    },
    {
     "name": "stdout",
     "output_type": "stream",
     "text": [
      "Feature: Handicap, Unique values: [False, True]\n",
      "Categories (2, bool): [False, True]\n",
      "Target: No-show, Unique values: [0 1]\n"
     ]
    },
    {
     "data": {
      "image/png": "[encoded data removed]",
      "text/plain": [
       "<Figure size 1000x500 with 1 Axes>"
      ]
     },
     "metadata": {},
     "output_type": "display_data"
    },
    {
     "name": "stdout",
     "output_type": "stream",
     "text": [
      "Feature: SMS_received, Unique values: [False, True]\n",
      "Categories (2, bool): [False, True]\n",
      "Target: No-show, Unique values: [0 1]\n"
     ]
    },
    {
     "data": {
      "image/png": "[encoded data removed]",
      "text/plain": [
       "<Figure size 1000x500 with 1 Axes>"
      ]
     },
     "metadata": {},
     "output_type": "display_data"
    }
   ],
   "source": [
    "if 'No-show' in df.columns:\n",
    "    target = 'No-show'\n",
    "    features = ['Gender', 'age_group', 'Scholarship', 'Hypertension', 'Diabetes', 'Alcoholism', 'Handicap', 'SMS_received']\n",
    "\n",
    "    # Convert features to categorical where necessary\n",
    "    for col in features:\n",
    "        if col in df.columns:\n",
    "            df[col] = df[col].astype('category')\n",
    "    \n",
    "    # Iterate through each feature\n",
    "    for col in features:\n",
    "        if col in df.columns:\n",
    "            # Print unique values for each feature to check for issues\n",
    "            print(f\"Feature: {col}, Unique values: {df[col].unique()}\")\n",
    "            print(f\"Target: {target}, Unique values: {df[target].unique()}\")\n",
    "\n",
    "            # Drop rows with NaN values in target and feature columns\n",
    "            df_subset = df.dropna(subset=[target, col])\n",
    "\n",
    "            # Proceed to plot only if data is available\n",
    "            if not df_subset.empty:\n",
    "                plt.figure(figsize=(10, 5))\n",
    "                sns.countplot(x=target, hue=col, data=df_subset)  # Removed order to check the actual categories\n",
    "                plt.title(f\"Relationship between No-show and {col}\")\n",
    "                plt.xticks(rotation=45)\n",
    "                plt.show()"
   ]
  },
  {
   "cell_type": "markdown",
   "metadata": {},
   "source": [
    "Data types of some columns are converted in above analysis and so their data types are checked again."
   ]
  },
  {
   "cell_type": "code",
   "execution_count": 26,
   "metadata": {},
   "outputs": [
    {
     "data": {
      "text/plain": [
       "PatientId          float64\n",
       "AppointmentID        int64\n",
       "Gender            category\n",
       "ScheduledDay        object\n",
       "AppointmentDay      object\n",
       "Age                  int64\n",
       "Neighbourhood     category\n",
       "Scholarship       category\n",
       "Hypertension      category\n",
       "Diabetes          category\n",
       "Alcoholism        category\n",
       "Handicap          category\n",
       "SMS_received      category\n",
       "No-show              int64\n",
       "age_group         category\n",
       "dtype: object"
      ]
     },
     "execution_count": 26,
     "metadata": {},
     "output_type": "execute_result"
    }
   ],
   "source": [
    "df.dtypes"
   ]
  },
  {
   "cell_type": "markdown",
   "metadata": {},
   "source": [
    "Some data types of some columns are encoded using label encoder for correlation matrix calculation."
   ]
  },
  {
   "cell_type": "code",
   "execution_count": 27,
   "metadata": {},
   "outputs": [],
   "source": [
    "# Define categorical columns, including 'No-show'\n",
    "categorical_cols = ['Gender', 'Scholarship', 'Hypertension', 'Diabetes', 'Alcoholism', 'Handicap', 'SMS_received']\n",
    "\n",
    "# Label encode categorical columns\n",
    "le = LabelEncoder()\n",
    "for col in categorical_cols:\n",
    "    if col in df.columns:\n",
    "        # Only apply encoding if the column is not numeric\n",
    "        if df[col].dtype == 'object' or df[col].dtype.name == 'category':\n",
    "            df[col] = le.fit_transform(df[col])\n",
    "\n",
    "# Select all numerical columns, including encoded categorical columns\n",
    "numerical_cols = df.select_dtypes(include=['int64', 'bool', 'float64']).columns"
   ]
  },
  {
   "cell_type": "code",
   "execution_count": 28,
   "metadata": {},
   "outputs": [
    {
     "data": {
      "text/plain": [
       "PatientId          float64\n",
       "AppointmentID        int64\n",
       "Gender               int64\n",
       "ScheduledDay        object\n",
       "AppointmentDay      object\n",
       "Age                  int64\n",
       "Neighbourhood     category\n",
       "Scholarship          int64\n",
       "Hypertension         int64\n",
       "Diabetes             int64\n",
       "Alcoholism           int64\n",
       "Handicap             int64\n",
       "SMS_received         int64\n",
       "No-show              int64\n",
       "age_group         category\n",
       "dtype: object"
      ]
     },
     "execution_count": 28,
     "metadata": {},
     "output_type": "execute_result"
    }
   ],
   "source": [
    "df.dtypes"
   ]
  },
  {
   "cell_type": "markdown",
   "metadata": {},
   "source": [
    "# Correlation Matrix for Numerical Features\n"
   ]
  },
  {
   "cell_type": "code",
   "execution_count": 29,
   "metadata": {},
   "outputs": [
    {
     "name": "stdout",
     "output_type": "stream",
     "text": [
      "0    0\n",
      "1    0\n",
      "2    0\n",
      "3    0\n",
      "4    0\n",
      "Name: No-show, dtype: int64\n"
     ]
    },
    {
     "data": {
      "image/png": "[encoded data removed]",
      "text/plain": [
       "<Figure size 1200x800 with 2 Axes>"
      ]
     },
     "metadata": {},
     "output_type": "display_data"
    }
   ],
   "source": [
    "# Define categorical columns, including 'No-show'\n",
    "categorical_cols = ['Gender', 'Scholarship', 'Hypertension', 'Diabetes', 'Alcoholism', 'Handicap', 'SMS_received', 'No-show']\n",
    "\n",
    "# Label encode categorical columns\n",
    "le = LabelEncoder()\n",
    "for col in categorical_cols:\n",
    "    if col in df.columns:\n",
    "        # Only apply encoding if the column is not numeric\n",
    "        if df[col].dtype == 'object' or df[col].dtype.name == 'category':\n",
    "            df[col] = le.fit_transform(df[col])\n",
    "\n",
    "# Explicitly check if 'No-show' is correctly encoded\n",
    "print(df['No-show'].head())  # Check first few values to verify encoding\n",
    "\n",
    "# Select all numerical columns, including encoded categorical columns\n",
    "numerical_cols = df.select_dtypes(include=['int64', 'bool', 'float64']).columns\n",
    "\n",
    "# Make sure 'No-show' is in the numerical columns list\n",
    "if 'No-show' not in numerical_cols:\n",
    "    numerical_cols = numerical_cols.append(pd.Index(['No-show']))\n",
    "\n",
    "# Correlation Matrix for Numerical Features including encoded categorical columns and 'No-show'\n",
    "plt.figure(figsize=(12, 8))\n",
    "sns.heatmap(df[numerical_cols].corr(), annot=True, cmap='coolwarm')\n",
    "plt.title(\"Correlation Matrix including Encoded Categorical Features and 'No-show'\")\n",
    "plt.show()\n"
   ]
  },
  {
   "cell_type": "code",
   "execution_count": 30,
   "metadata": {},
   "outputs": [
    {
     "data": {
      "image/png": "[encoded data removed]",
      "text/plain": [
       "<Figure size 1000x500 with 1 Axes>"
      ]
     },
     "metadata": {},
     "output_type": "display_data"
    }
   ],
   "source": [
    "# Plot a combined box plot\n",
    "df_melted = df[['Age', 'Hypertension', 'Diabetes']].melt(var_name='Feature', value_name='Value')\n",
    "plt.figure(figsize=(10, 5))\n",
    "sns.boxplot(x='Feature', y='Value', data=df_melted)\n",
    "plt.title(\"Box Plot for Age, Hypertension, and Diabetes\")\n",
    "plt.show()"
   ]
  },
  {
   "cell_type": "markdown",
   "metadata": {},
   "source": [
    "## Feature Engineering"
   ]
  },
  {
   "cell_type": "markdown",
   "metadata": {},
   "source": [
    "Some features that would be used for model training are checked and processed to be ready for the training. "
   ]
  },
  {
   "cell_type": "code",
   "execution_count": 31,
   "metadata": {},
   "outputs": [
    {
     "data": {
      "text/html": [
       "<div>\n",
       "<style scoped>\n",
       "    .dataframe tbody tr th:only-of-type {\n",
       "        vertical-align: middle;\n",
       "    }\n",
       "\n",
       "    .dataframe tbody tr th {\n",
       "        vertical-align: top;\n",
       "    }\n",
       "\n",
       "    .dataframe thead th {\n",
       "        text-align: right;\n",
       "    }\n",
       "</style>\n",
       "<table border=\"1\" class=\"dataframe\">\n",
       "  <thead>\n",
       "    <tr style=\"text-align: right;\">\n",
       "      <th></th>\n",
       "      <th>PatientId</th>\n",
       "      <th>AppointmentID</th>\n",
       "      <th>Gender</th>\n",
       "      <th>ScheduledDay</th>\n",
       "      <th>AppointmentDay</th>\n",
       "      <th>Age</th>\n",
       "      <th>Neighbourhood</th>\n",
       "      <th>Scholarship</th>\n",
       "      <th>Hypertension</th>\n",
       "      <th>Diabetes</th>\n",
       "      <th>Alcoholism</th>\n",
       "      <th>Handicap</th>\n",
       "      <th>SMS_received</th>\n",
       "      <th>No-show</th>\n",
       "      <th>age_group</th>\n",
       "    </tr>\n",
       "  </thead>\n",
       "  <tbody>\n",
       "    <tr>\n",
       "      <th>0</th>\n",
       "      <td>2.987250e+13</td>\n",
       "      <td>5642903</td>\n",
       "      <td>0</td>\n",
       "      <td>2016-04-29T18:38:08Z</td>\n",
       "      <td>2016-04-29T00:00:00Z</td>\n",
       "      <td>62</td>\n",
       "      <td>JARDIM DA PENHA</td>\n",
       "      <td>0</td>\n",
       "      <td>1</td>\n",
       "      <td>0</td>\n",
       "      <td>0</td>\n",
       "      <td>0</td>\n",
       "      <td>0</td>\n",
       "      <td>0</td>\n",
       "      <td>45-64</td>\n",
       "    </tr>\n",
       "    <tr>\n",
       "      <th>1</th>\n",
       "      <td>5.589980e+14</td>\n",
       "      <td>5642503</td>\n",
       "      <td>1</td>\n",
       "      <td>2016-04-29T16:08:27Z</td>\n",
       "      <td>2016-04-29T00:00:00Z</td>\n",
       "      <td>56</td>\n",
       "      <td>JARDIM DA PENHA</td>\n",
       "      <td>0</td>\n",
       "      <td>0</td>\n",
       "      <td>0</td>\n",
       "      <td>0</td>\n",
       "      <td>0</td>\n",
       "      <td>0</td>\n",
       "      <td>0</td>\n",
       "      <td>45-64</td>\n",
       "    </tr>\n",
       "    <tr>\n",
       "      <th>2</th>\n",
       "      <td>4.262960e+12</td>\n",
       "      <td>5642549</td>\n",
       "      <td>0</td>\n",
       "      <td>2016-04-29T16:19:04Z</td>\n",
       "      <td>2016-04-29T00:00:00Z</td>\n",
       "      <td>62</td>\n",
       "      <td>MATA DA PRAIA</td>\n",
       "      <td>0</td>\n",
       "      <td>0</td>\n",
       "      <td>0</td>\n",
       "      <td>0</td>\n",
       "      <td>0</td>\n",
       "      <td>0</td>\n",
       "      <td>0</td>\n",
       "      <td>45-64</td>\n",
       "    </tr>\n",
       "    <tr>\n",
       "      <th>3</th>\n",
       "      <td>8.679510e+11</td>\n",
       "      <td>5642828</td>\n",
       "      <td>0</td>\n",
       "      <td>2016-04-29T17:29:31Z</td>\n",
       "      <td>2016-04-29T00:00:00Z</td>\n",
       "      <td>8</td>\n",
       "      <td>PONTAL DE CAMBURI</td>\n",
       "      <td>0</td>\n",
       "      <td>0</td>\n",
       "      <td>0</td>\n",
       "      <td>0</td>\n",
       "      <td>0</td>\n",
       "      <td>0</td>\n",
       "      <td>0</td>\n",
       "      <td>under 15</td>\n",
       "    </tr>\n",
       "    <tr>\n",
       "      <th>4</th>\n",
       "      <td>8.841190e+12</td>\n",
       "      <td>5642494</td>\n",
       "      <td>0</td>\n",
       "      <td>2016-04-29T16:07:23Z</td>\n",
       "      <td>2016-04-29T00:00:00Z</td>\n",
       "      <td>56</td>\n",
       "      <td>JARDIM DA PENHA</td>\n",
       "      <td>0</td>\n",
       "      <td>1</td>\n",
       "      <td>1</td>\n",
       "      <td>0</td>\n",
       "      <td>0</td>\n",
       "      <td>0</td>\n",
       "      <td>0</td>\n",
       "      <td>45-64</td>\n",
       "    </tr>\n",
       "    <tr>\n",
       "      <th>...</th>\n",
       "      <td>...</td>\n",
       "      <td>...</td>\n",
       "      <td>...</td>\n",
       "      <td>...</td>\n",
       "      <td>...</td>\n",
       "      <td>...</td>\n",
       "      <td>...</td>\n",
       "      <td>...</td>\n",
       "      <td>...</td>\n",
       "      <td>...</td>\n",
       "      <td>...</td>\n",
       "      <td>...</td>\n",
       "      <td>...</td>\n",
       "      <td>...</td>\n",
       "      <td>...</td>\n",
       "    </tr>\n",
       "    <tr>\n",
       "      <th>110522</th>\n",
       "      <td>2.572130e+12</td>\n",
       "      <td>5651768</td>\n",
       "      <td>0</td>\n",
       "      <td>2016-05-03T09:15:35Z</td>\n",
       "      <td>2016-06-07T00:00:00Z</td>\n",
       "      <td>56</td>\n",
       "      <td>MARIA ORTIZ</td>\n",
       "      <td>0</td>\n",
       "      <td>0</td>\n",
       "      <td>0</td>\n",
       "      <td>0</td>\n",
       "      <td>0</td>\n",
       "      <td>1</td>\n",
       "      <td>0</td>\n",
       "      <td>45-64</td>\n",
       "    </tr>\n",
       "    <tr>\n",
       "      <th>110523</th>\n",
       "      <td>3.596270e+12</td>\n",
       "      <td>5650093</td>\n",
       "      <td>0</td>\n",
       "      <td>2016-05-03T07:27:33Z</td>\n",
       "      <td>2016-06-07T00:00:00Z</td>\n",
       "      <td>51</td>\n",
       "      <td>MARIA ORTIZ</td>\n",
       "      <td>0</td>\n",
       "      <td>0</td>\n",
       "      <td>0</td>\n",
       "      <td>0</td>\n",
       "      <td>0</td>\n",
       "      <td>1</td>\n",
       "      <td>0</td>\n",
       "      <td>45-64</td>\n",
       "    </tr>\n",
       "    <tr>\n",
       "      <th>110524</th>\n",
       "      <td>1.557660e+13</td>\n",
       "      <td>5630692</td>\n",
       "      <td>0</td>\n",
       "      <td>2016-04-27T16:03:52Z</td>\n",
       "      <td>2016-06-07T00:00:00Z</td>\n",
       "      <td>21</td>\n",
       "      <td>MARIA ORTIZ</td>\n",
       "      <td>0</td>\n",
       "      <td>0</td>\n",
       "      <td>0</td>\n",
       "      <td>0</td>\n",
       "      <td>0</td>\n",
       "      <td>1</td>\n",
       "      <td>0</td>\n",
       "      <td>15-24</td>\n",
       "    </tr>\n",
       "    <tr>\n",
       "      <th>110525</th>\n",
       "      <td>9.213490e+13</td>\n",
       "      <td>5630323</td>\n",
       "      <td>0</td>\n",
       "      <td>2016-04-27T15:09:23Z</td>\n",
       "      <td>2016-06-07T00:00:00Z</td>\n",
       "      <td>38</td>\n",
       "      <td>MARIA ORTIZ</td>\n",
       "      <td>0</td>\n",
       "      <td>0</td>\n",
       "      <td>0</td>\n",
       "      <td>0</td>\n",
       "      <td>0</td>\n",
       "      <td>1</td>\n",
       "      <td>0</td>\n",
       "      <td>25-44</td>\n",
       "    </tr>\n",
       "    <tr>\n",
       "      <th>110526</th>\n",
       "      <td>3.775120e+14</td>\n",
       "      <td>5629448</td>\n",
       "      <td>0</td>\n",
       "      <td>2016-04-27T13:30:56Z</td>\n",
       "      <td>2016-06-07T00:00:00Z</td>\n",
       "      <td>54</td>\n",
       "      <td>MARIA ORTIZ</td>\n",
       "      <td>0</td>\n",
       "      <td>0</td>\n",
       "      <td>0</td>\n",
       "      <td>0</td>\n",
       "      <td>0</td>\n",
       "      <td>1</td>\n",
       "      <td>0</td>\n",
       "      <td>45-64</td>\n",
       "    </tr>\n",
       "  </tbody>\n",
       "</table>\n",
       "<p>110521 rows × 15 columns</p>\n",
       "</div>"
      ],
      "text/plain": [
       "           PatientId  AppointmentID  Gender          ScheduledDay  \\\n",
       "0       2.987250e+13        5642903       0  2016-04-29T18:38:08Z   \n",
       "1       5.589980e+14        5642503       1  2016-04-29T16:08:27Z   \n",
       "2       4.262960e+12        5642549       0  2016-04-29T16:19:04Z   \n",
       "3       8.679510e+11        5642828       0  2016-04-29T17:29:31Z   \n",
       "4       8.841190e+12        5642494       0  2016-04-29T16:07:23Z   \n",
       "...              ...            ...     ...                   ...   \n",
       "110522  2.572130e+12        5651768       0  2016-05-03T09:15:35Z   \n",
       "110523  3.596270e+12        5650093       0  2016-05-03T07:27:33Z   \n",
       "110524  1.557660e+13        5630692       0  2016-04-27T16:03:52Z   \n",
       "110525  9.213490e+13        5630323       0  2016-04-27T15:09:23Z   \n",
       "110526  3.775120e+14        5629448       0  2016-04-27T13:30:56Z   \n",
       "\n",
       "              AppointmentDay  Age      Neighbourhood  Scholarship  \\\n",
       "0       2016-04-29T00:00:00Z   62    JARDIM DA PENHA            0   \n",
       "1       2016-04-29T00:00:00Z   56    JARDIM DA PENHA            0   \n",
       "2       2016-04-29T00:00:00Z   62      MATA DA PRAIA            0   \n",
       "3       2016-04-29T00:00:00Z    8  PONTAL DE CAMBURI            0   \n",
       "4       2016-04-29T00:00:00Z   56    JARDIM DA PENHA            0   \n",
       "...                      ...  ...                ...          ...   \n",
       "110522  2016-06-07T00:00:00Z   56        MARIA ORTIZ            0   \n",
       "110523  2016-06-07T00:00:00Z   51        MARIA ORTIZ            0   \n",
       "110524  2016-06-07T00:00:00Z   21        MARIA ORTIZ            0   \n",
       "110525  2016-06-07T00:00:00Z   38        MARIA ORTIZ            0   \n",
       "110526  2016-06-07T00:00:00Z   54        MARIA ORTIZ            0   \n",
       "\n",
       "        Hypertension  Diabetes  Alcoholism  Handicap  SMS_received  No-show  \\\n",
       "0                  1         0           0         0             0        0   \n",
       "1                  0         0           0         0             0        0   \n",
       "2                  0         0           0         0             0        0   \n",
       "3                  0         0           0         0             0        0   \n",
       "4                  1         1           0         0             0        0   \n",
       "...              ...       ...         ...       ...           ...      ...   \n",
       "110522             0         0           0         0             1        0   \n",
       "110523             0         0           0         0             1        0   \n",
       "110524             0         0           0         0             1        0   \n",
       "110525             0         0           0         0             1        0   \n",
       "110526             0         0           0         0             1        0   \n",
       "\n",
       "       age_group  \n",
       "0          45-64  \n",
       "1          45-64  \n",
       "2          45-64  \n",
       "3       under 15  \n",
       "4          45-64  \n",
       "...          ...  \n",
       "110522     45-64  \n",
       "110523     45-64  \n",
       "110524     15-24  \n",
       "110525     25-44  \n",
       "110526     45-64  \n",
       "\n",
       "[110521 rows x 15 columns]"
      ]
     },
     "execution_count": 31,
     "metadata": {},
     "output_type": "execute_result"
    }
   ],
   "source": [
    "#check the dataframe \n",
    "df"
   ]
  },
  {
   "cell_type": "code",
   "execution_count": 32,
   "metadata": {},
   "outputs": [
    {
     "data": {
      "text/plain": [
       "PatientId          float64\n",
       "AppointmentID        int64\n",
       "Gender               int64\n",
       "ScheduledDay        object\n",
       "AppointmentDay      object\n",
       "Age                  int64\n",
       "Neighbourhood     category\n",
       "Scholarship          int64\n",
       "Hypertension         int64\n",
       "Diabetes             int64\n",
       "Alcoholism           int64\n",
       "Handicap             int64\n",
       "SMS_received         int64\n",
       "No-show              int64\n",
       "age_group         category\n",
       "dtype: object"
      ]
     },
     "execution_count": 32,
     "metadata": {},
     "output_type": "execute_result"
    }
   ],
   "source": [
    "#Check \n",
    "df.dtypes"
   ]
  },
  {
   "cell_type": "code",
   "execution_count": 33,
   "metadata": {},
   "outputs": [
    {
     "data": {
      "text/plain": [
       "PatientId         0\n",
       "AppointmentID     0\n",
       "Gender            0\n",
       "ScheduledDay      0\n",
       "AppointmentDay    0\n",
       "Age               0\n",
       "Neighbourhood     0\n",
       "Scholarship       0\n",
       "Hypertension      0\n",
       "Diabetes          0\n",
       "Alcoholism        0\n",
       "Handicap          0\n",
       "SMS_received      0\n",
       "No-show           0\n",
       "age_group         0\n",
       "dtype: int64"
      ]
     },
     "execution_count": 33,
     "metadata": {},
     "output_type": "execute_result"
    }
   ],
   "source": [
    "#check null values\n",
    "df.isnull().sum()"
   ]
  },
  {
   "cell_type": "markdown",
   "metadata": {},
   "source": [
    "So, the data types of features are appropiate. So, they are selected as features for ML training."
   ]
  },
  {
   "cell_type": "markdown",
   "metadata": {},
   "source": [
    "### Select features for ML model training"
   ]
  },
  {
   "cell_type": "code",
   "execution_count": 34,
   "metadata": {},
   "outputs": [],
   "source": [
    "X = df[['Gender','age_group','Scholarship','Hypertension','Diabetes','Alcoholism','Handicap','SMS_received']]"
   ]
  },
  {
   "cell_type": "markdown",
   "metadata": {},
   "source": [
    "Age group have 5 categories which are ordered so it needs ordinal encoding. Other features are binary having 2 values, 0 or 1. "
   ]
  },
  {
   "cell_type": "code",
   "execution_count": 35,
   "metadata": {},
   "outputs": [
    {
     "data": {
      "text/plain": [
       "['45-64', 'under 15', '65+', '15-24', '25-44']\n",
       "Categories (5, object): ['under 15' < '15-24' < '25-44' < '45-64' < '65+']"
      ]
     },
     "execution_count": 35,
     "metadata": {},
     "output_type": "execute_result"
    }
   ],
   "source": [
    "#check the values of age group\n",
    "X['age_group'].unique()"
   ]
  },
  {
   "cell_type": "code",
   "execution_count": 36,
   "metadata": {},
   "outputs": [
    {
     "name": "stdout",
     "output_type": "stream",
     "text": [
      "Gender             int64\n",
      "age_group       category\n",
      "Scholarship        int64\n",
      "Hypertension       int64\n",
      "Diabetes           int64\n",
      "Alcoholism         int64\n",
      "Handicap           int64\n",
      "SMS_received       int64\n",
      "dtype: object\n"
     ]
    },
    {
     "name": "stderr",
     "output_type": "stream",
     "text": [
      "C:\\Users\\Lenovo\\AppData\\Local\\Temp\\ipykernel_18312\\61986212.py:3: SettingWithCopyWarning: \n",
      "A value is trying to be set on a copy of a slice from a DataFrame.\n",
      "Try using .loc[row_indexer,col_indexer] = value instead\n",
      "\n",
      "See the caveats in the documentation: https://pandas.pydata.org/pandas-docs/stable/user_guide/indexing.html#returning-a-view-versus-a-copy\n",
      "  X[\"age_group\"] = pd.Categorical(X[\"age_group\"], categories=categ, ordered=True)\n"
     ]
    }
   ],
   "source": [
    "# Indicate that the column is an ordered categorical feature\n",
    "categ = [\"under 15\",\"15-24\",\"25-44\", \"45-64\",\"65+\"]\n",
    "X[\"age_group\"] = pd.Categorical(X[\"age_group\"], categories=categ, ordered=True)\n",
    "print(X.dtypes)"
   ]
  },
  {
   "cell_type": "code",
   "execution_count": 37,
   "metadata": {},
   "outputs": [
    {
     "name": "stdout",
     "output_type": "stream",
     "text": [
      "[3 3 3 ... 1 2 3] CategoricalIndex(['under 15', '15-24', '25-44', '45-64', '65+'], categories=['under 15', '15-24', '25-44', '45-64', '65+'], ordered=True, dtype='category')\n"
     ]
    }
   ],
   "source": [
    "# Get the factors and replace with catgory of age group with ordinal codes\n",
    "labels, unique = pd.factorize(X[\"age_group\"], sort=True)\n",
    "print(labels, unique)"
   ]
  },
  {
   "cell_type": "code",
   "execution_count": 38,
   "metadata": {},
   "outputs": [
    {
     "name": "stderr",
     "output_type": "stream",
     "text": [
      "C:\\Users\\Lenovo\\AppData\\Local\\Temp\\ipykernel_18312\\1384787478.py:1: SettingWithCopyWarning: \n",
      "A value is trying to be set on a copy of a slice from a DataFrame.\n",
      "Try using .loc[row_indexer,col_indexer] = value instead\n",
      "\n",
      "See the caveats in the documentation: https://pandas.pydata.org/pandas-docs/stable/user_guide/indexing.html#returning-a-view-versus-a-copy\n",
      "  X[\"age_group\"] = labels\n"
     ]
    },
    {
     "data": {
      "text/html": [
       "<div>\n",
       "<style scoped>\n",
       "    .dataframe tbody tr th:only-of-type {\n",
       "        vertical-align: middle;\n",
       "    }\n",
       "\n",
       "    .dataframe tbody tr th {\n",
       "        vertical-align: top;\n",
       "    }\n",
       "\n",
       "    .dataframe thead th {\n",
       "        text-align: right;\n",
       "    }\n",
       "</style>\n",
       "<table border=\"1\" class=\"dataframe\">\n",
       "  <thead>\n",
       "    <tr style=\"text-align: right;\">\n",
       "      <th></th>\n",
       "      <th>Gender</th>\n",
       "      <th>age_group</th>\n",
       "      <th>Scholarship</th>\n",
       "      <th>Hypertension</th>\n",
       "      <th>Diabetes</th>\n",
       "      <th>Alcoholism</th>\n",
       "      <th>Handicap</th>\n",
       "      <th>SMS_received</th>\n",
       "    </tr>\n",
       "  </thead>\n",
       "  <tbody>\n",
       "    <tr>\n",
       "      <th>0</th>\n",
       "      <td>0</td>\n",
       "      <td>3</td>\n",
       "      <td>0</td>\n",
       "      <td>1</td>\n",
       "      <td>0</td>\n",
       "      <td>0</td>\n",
       "      <td>0</td>\n",
       "      <td>0</td>\n",
       "    </tr>\n",
       "    <tr>\n",
       "      <th>1</th>\n",
       "      <td>1</td>\n",
       "      <td>3</td>\n",
       "      <td>0</td>\n",
       "      <td>0</td>\n",
       "      <td>0</td>\n",
       "      <td>0</td>\n",
       "      <td>0</td>\n",
       "      <td>0</td>\n",
       "    </tr>\n",
       "    <tr>\n",
       "      <th>2</th>\n",
       "      <td>0</td>\n",
       "      <td>3</td>\n",
       "      <td>0</td>\n",
       "      <td>0</td>\n",
       "      <td>0</td>\n",
       "      <td>0</td>\n",
       "      <td>0</td>\n",
       "      <td>0</td>\n",
       "    </tr>\n",
       "    <tr>\n",
       "      <th>3</th>\n",
       "      <td>0</td>\n",
       "      <td>0</td>\n",
       "      <td>0</td>\n",
       "      <td>0</td>\n",
       "      <td>0</td>\n",
       "      <td>0</td>\n",
       "      <td>0</td>\n",
       "      <td>0</td>\n",
       "    </tr>\n",
       "    <tr>\n",
       "      <th>4</th>\n",
       "      <td>0</td>\n",
       "      <td>3</td>\n",
       "      <td>0</td>\n",
       "      <td>1</td>\n",
       "      <td>1</td>\n",
       "      <td>0</td>\n",
       "      <td>0</td>\n",
       "      <td>0</td>\n",
       "    </tr>\n",
       "    <tr>\n",
       "      <th>...</th>\n",
       "      <td>...</td>\n",
       "      <td>...</td>\n",
       "      <td>...</td>\n",
       "      <td>...</td>\n",
       "      <td>...</td>\n",
       "      <td>...</td>\n",
       "      <td>...</td>\n",
       "      <td>...</td>\n",
       "    </tr>\n",
       "    <tr>\n",
       "      <th>110522</th>\n",
       "      <td>0</td>\n",
       "      <td>3</td>\n",
       "      <td>0</td>\n",
       "      <td>0</td>\n",
       "      <td>0</td>\n",
       "      <td>0</td>\n",
       "      <td>0</td>\n",
       "      <td>1</td>\n",
       "    </tr>\n",
       "    <tr>\n",
       "      <th>110523</th>\n",
       "      <td>0</td>\n",
       "      <td>3</td>\n",
       "      <td>0</td>\n",
       "      <td>0</td>\n",
       "      <td>0</td>\n",
       "      <td>0</td>\n",
       "      <td>0</td>\n",
       "      <td>1</td>\n",
       "    </tr>\n",
       "    <tr>\n",
       "      <th>110524</th>\n",
       "      <td>0</td>\n",
       "      <td>1</td>\n",
       "      <td>0</td>\n",
       "      <td>0</td>\n",
       "      <td>0</td>\n",
       "      <td>0</td>\n",
       "      <td>0</td>\n",
       "      <td>1</td>\n",
       "    </tr>\n",
       "    <tr>\n",
       "      <th>110525</th>\n",
       "      <td>0</td>\n",
       "      <td>2</td>\n",
       "      <td>0</td>\n",
       "      <td>0</td>\n",
       "      <td>0</td>\n",
       "      <td>0</td>\n",
       "      <td>0</td>\n",
       "      <td>1</td>\n",
       "    </tr>\n",
       "    <tr>\n",
       "      <th>110526</th>\n",
       "      <td>0</td>\n",
       "      <td>3</td>\n",
       "      <td>0</td>\n",
       "      <td>0</td>\n",
       "      <td>0</td>\n",
       "      <td>0</td>\n",
       "      <td>0</td>\n",
       "      <td>1</td>\n",
       "    </tr>\n",
       "  </tbody>\n",
       "</table>\n",
       "<p>110521 rows × 8 columns</p>\n",
       "</div>"
      ],
      "text/plain": [
       "        Gender  age_group  Scholarship  Hypertension  Diabetes  Alcoholism  \\\n",
       "0            0          3            0             1         0           0   \n",
       "1            1          3            0             0         0           0   \n",
       "2            0          3            0             0         0           0   \n",
       "3            0          0            0             0         0           0   \n",
       "4            0          3            0             1         1           0   \n",
       "...        ...        ...          ...           ...       ...         ...   \n",
       "110522       0          3            0             0         0           0   \n",
       "110523       0          3            0             0         0           0   \n",
       "110524       0          1            0             0         0           0   \n",
       "110525       0          2            0             0         0           0   \n",
       "110526       0          3            0             0         0           0   \n",
       "\n",
       "        Handicap  SMS_received  \n",
       "0              0             0  \n",
       "1              0             0  \n",
       "2              0             0  \n",
       "3              0             0  \n",
       "4              0             0  \n",
       "...          ...           ...  \n",
       "110522         0             1  \n",
       "110523         0             1  \n",
       "110524         0             1  \n",
       "110525         0             1  \n",
       "110526         0             1  \n",
       "\n",
       "[110521 rows x 8 columns]"
      ]
     },
     "execution_count": 38,
     "metadata": {},
     "output_type": "execute_result"
    }
   ],
   "source": [
    "X[\"age_group\"] = labels\n",
    "X"
   ]
  },
  {
   "cell_type": "code",
   "execution_count": 39,
   "metadata": {},
   "outputs": [
    {
     "data": {
      "text/plain": [
       "Gender          0\n",
       "age_group       0\n",
       "Scholarship     0\n",
       "Hypertension    0\n",
       "Diabetes        0\n",
       "Alcoholism      0\n",
       "Handicap        0\n",
       "SMS_received    0\n",
       "dtype: int64"
      ]
     },
     "execution_count": 39,
     "metadata": {},
     "output_type": "execute_result"
    }
   ],
   "source": [
    "#check null values again\n",
    "X.isnull().sum()"
   ]
  },
  {
   "cell_type": "code",
   "execution_count": 40,
   "metadata": {},
   "outputs": [
    {
     "data": {
      "text/plain": [
       "<bound method DataFrame.info of         Gender  age_group  Scholarship  Hypertension  Diabetes  Alcoholism  \\\n",
       "0            0          3            0             1         0           0   \n",
       "1            1          3            0             0         0           0   \n",
       "2            0          3            0             0         0           0   \n",
       "3            0          0            0             0         0           0   \n",
       "4            0          3            0             1         1           0   \n",
       "...        ...        ...          ...           ...       ...         ...   \n",
       "110522       0          3            0             0         0           0   \n",
       "110523       0          3            0             0         0           0   \n",
       "110524       0          1            0             0         0           0   \n",
       "110525       0          2            0             0         0           0   \n",
       "110526       0          3            0             0         0           0   \n",
       "\n",
       "        Handicap  SMS_received  \n",
       "0              0             0  \n",
       "1              0             0  \n",
       "2              0             0  \n",
       "3              0             0  \n",
       "4              0             0  \n",
       "...          ...           ...  \n",
       "110522         0             1  \n",
       "110523         0             1  \n",
       "110524         0             1  \n",
       "110525         0             1  \n",
       "110526         0             1  \n",
       "\n",
       "[110521 rows x 8 columns]>"
      ]
     },
     "execution_count": 40,
     "metadata": {},
     "output_type": "execute_result"
    }
   ],
   "source": [
    "#check the information of features\n",
    "X.info"
   ]
  },
  {
   "cell_type": "markdown",
   "metadata": {},
   "source": [
    "### select target for model training"
   ]
  },
  {
   "cell_type": "code",
   "execution_count": 41,
   "metadata": {},
   "outputs": [
    {
     "data": {
      "text/plain": [
       "(110521,)"
      ]
     },
     "execution_count": 41,
     "metadata": {},
     "output_type": "execute_result"
    }
   ],
   "source": [
    "y = df['No-show']\n",
    "y.shape"
   ]
  },
  {
   "cell_type": "code",
   "execution_count": 42,
   "metadata": {},
   "outputs": [
    {
     "data": {
      "text/plain": [
       "No-show\n",
       "0    88205\n",
       "1    22316\n",
       "Name: count, dtype: int64"
      ]
     },
     "execution_count": 42,
     "metadata": {},
     "output_type": "execute_result"
    }
   ],
   "source": [
    "y.value_counts()"
   ]
  },
  {
   "cell_type": "markdown",
   "metadata": {},
   "source": [
    "Check the target has class imbalance or not"
   ]
  },
  {
   "cell_type": "code",
   "execution_count": 43,
   "metadata": {},
   "outputs": [
    {
     "name": "stdout",
     "output_type": "stream",
     "text": [
      "Class Counts:\n",
      " No-show\n",
      "0    88205\n",
      "1    22316\n",
      "Name: count, dtype: int64\n",
      "\n",
      "Class Percentages:\n",
      " No-show\n",
      "0    79.808362\n",
      "1    20.191638\n",
      "Name: proportion, dtype: float64\n"
     ]
    }
   ],
   "source": [
    "class_counts = y.value_counts()\n",
    "class_percentages = y.value_counts(normalize=True) * 100\n",
    "\n",
    "print(\"Class Counts:\\n\", class_counts)\n",
    "print(\"\\nClass Percentages:\\n\", class_percentages)"
   ]
  },
  {
   "cell_type": "code",
   "execution_count": 44,
   "metadata": {},
   "outputs": [
    {
     "data": {
      "image/png": "[encoded data removed]",
      "text/plain": [
       "<Figure size 640x480 with 1 Axes>"
      ]
     },
     "metadata": {},
     "output_type": "display_data"
    }
   ],
   "source": [
    "#visualize the class imbalance\n",
    "class_counts.plot(kind='bar')\n",
    "plt.title(\"No-Show Class Distribution\")\n",
    "plt.xlabel(\"No-Show\")\n",
    "plt.ylabel(\"Count\")\n",
    "plt.show()"
   ]
  },
  {
   "cell_type": "markdown",
   "metadata": {},
   "source": [
    "So, it shows that no-show presence (1) has only 20 %, and there is class imbalance. To handle the class imbalance, SMOTE (Synthetic Minority Over-sampling Technique) or SMOTETomek (ynthetic Minority Over-sampling Technique with Tomek Links ) will be used after spliting the data in following steps.\n",
    "\n",
    "SMOTE is popular method to handle imbalanced data in which it creates synthetic data for minority class. It generates a new data point randomly in a position between original data and its nearest neighbours. By this way, it creates  data without duplicating existing ones. \n",
    "\n",
    "SMOTETomek contains 2 steps: first, SMOTE generates synthetic examples for the minority class and then Tomek Links is applied to clean up the data, removing noises and overlap from majority classes to achieve better balanced data. \n",
    "\n",
    "Both methods will be applied and ML models will be developed on each, and their performance will be compared. The method that give ML models having higer performance metrics will be chosen. "
   ]
  },
  {
   "cell_type": "markdown",
   "metadata": {},
   "source": [
    "By this way, we achieve a set of features and target that are in appropiate data types, forms and shape, necessary for ML model training."
   ]
  },
  {
   "cell_type": "markdown",
   "metadata": {},
   "source": [
    "## Machine Learning Model Development"
   ]
  },
  {
   "cell_type": "markdown",
   "metadata": {},
   "source": [
    "### Dataset is split into training and testing set. Several classification models will be trained on training data and its performance will be measured on testing data. After comparing the performance metrics, one classficiation model will be chosen."
   ]
  },
  {
   "cell_type": "markdown",
   "metadata": {},
   "source": [
    "Verify scikit-learn Installation"
   ]
  },
  {
   "cell_type": "code",
   "execution_count": 45,
   "metadata": {},
   "outputs": [
    {
     "name": "stdout",
     "output_type": "stream",
     "text": [
      "Requirement already satisfied: scikit-learn in c:\\users\\lenovo\\appdata\\local\\programs\\python\\python312\\lib\\site-packages (1.5.2)\n",
      "Requirement already satisfied: numpy>=1.19.5 in c:\\users\\lenovo\\appdata\\local\\programs\\python\\python312\\lib\\site-packages (from scikit-learn) (2.0.0)\n",
      "Requirement already satisfied: scipy>=1.6.0 in c:\\users\\lenovo\\appdata\\local\\programs\\python\\python312\\lib\\site-packages (from scikit-learn) (1.14.1)\n",
      "Requirement already satisfied: joblib>=1.2.0 in c:\\users\\lenovo\\appdata\\local\\programs\\python\\python312\\lib\\site-packages (from scikit-learn) (1.4.2)\n",
      "Requirement already satisfied: threadpoolctl>=3.1.0 in c:\\users\\lenovo\\appdata\\local\\programs\\python\\python312\\lib\\site-packages (from scikit-learn) (3.5.0)\n"
     ]
    },
    {
     "name": "stderr",
     "output_type": "stream",
     "text": [
      "\n",
      "[notice] A new release of pip is available: 24.1.1 -> 24.3.1\n",
      "[notice] To update, run: python.exe -m pip install --upgrade pip\n"
     ]
    }
   ],
   "source": [
    "!pip install -U scikit-learn\n",
    "\n"
   ]
  },
  {
   "cell_type": "markdown",
   "metadata": {},
   "source": [
    "Import the necessary ML modules and libraries "
   ]
  },
  {
   "cell_type": "code",
   "execution_count": 46,
   "metadata": {},
   "outputs": [
    {
     "name": "stdout",
     "output_type": "stream",
     "text": [
      "Imports successful\n"
     ]
    }
   ],
   "source": [
    "from sklearn.linear_model import LogisticRegression\n",
    "from sklearn.model_selection import train_test_split\n",
    "from sklearn.metrics import accuracy_score, precision_score, recall_score, f1_score, classification_report\n",
    "from sklearn.tree import DecisionTreeClassifier\n",
    "from sklearn.ensemble import RandomForestClassifier\n",
    "from sklearn.neighbors import KNeighborsClassifier\n",
    "from sklearn.neural_network import MLPClassifier\n",
    "from sklearn.ensemble import GradientBoostingClassifier\n",
    "from sklearn.ensemble import BaggingClassifier\n",
    "from sklearn.ensemble import AdaBoostClassifier\n",
    "print(\"Imports successful\")"
   ]
  },
  {
   "cell_type": "markdown",
   "metadata": {},
   "source": [
    "The dataset of features and target is split into training set (80%) and target set(20%)"
   ]
  },
  {
   "cell_type": "code",
   "execution_count": 47,
   "metadata": {},
   "outputs": [
    {
     "name": "stdout",
     "output_type": "stream",
     "text": [
      "(22105, 8) (88416, 8)\n",
      "(22105,) (88416,)\n"
     ]
    }
   ],
   "source": [
    "X_train, X_test, y_train, y_test = train_test_split(X, y, test_size=0.2, random_state=42)\n",
    "X_train.shape\n",
    "X_test.shape\n",
    "print(X_test.shape, X_train.shape)\n",
    "print(y_test.shape, y_train.shape)"
   ]
  },
  {
   "cell_type": "markdown",
   "metadata": {},
   "source": [
    "As the target has class imbalance, SMOTE (Synthetic Minority Over-sampling Technique) will be used in which samples of the minority class(presence of no-show) are duplicated to achieve a balanced number as the majority one(absence of no-show). It is a popular method to handle class imbalance. SMOTE create these synthetic data by using k-nearest neighbours(KNN) of existing sample without directly copying them."
   ]
  },
  {
   "cell_type": "code",
   "execution_count": 48,
   "metadata": {},
   "outputs": [
    {
     "name": "stdout",
     "output_type": "stream",
     "text": [
      "Requirement already satisfied: imblearn in c:\\users\\lenovo\\appdata\\local\\programs\\python\\python312\\lib\\site-packages (0.0)\n",
      "Requirement already satisfied: imbalanced-learn in c:\\users\\lenovo\\appdata\\local\\programs\\python\\python312\\lib\\site-packages (from imblearn) (0.12.4)\n",
      "Requirement already satisfied: numpy>=1.17.3 in c:\\users\\lenovo\\appdata\\local\\programs\\python\\python312\\lib\\site-packages (from imbalanced-learn->imblearn) (2.0.0)\n",
      "Requirement already satisfied: scipy>=1.5.0 in c:\\users\\lenovo\\appdata\\local\\programs\\python\\python312\\lib\\site-packages (from imbalanced-learn->imblearn) (1.14.1)\n",
      "Requirement already satisfied: scikit-learn>=1.0.2 in c:\\users\\lenovo\\appdata\\local\\programs\\python\\python312\\lib\\site-packages (from imbalanced-learn->imblearn) (1.5.2)\n",
      "Requirement already satisfied: joblib>=1.1.1 in c:\\users\\lenovo\\appdata\\local\\programs\\python\\python312\\lib\\site-packages (from imbalanced-learn->imblearn) (1.4.2)\n",
      "Requirement already satisfied: threadpoolctl>=2.0.0 in c:\\users\\lenovo\\appdata\\local\\programs\\python\\python312\\lib\\site-packages (from imbalanced-learn->imblearn) (3.5.0)\n"
     ]
    },
    {
     "name": "stderr",
     "output_type": "stream",
     "text": [
      "\n",
      "[notice] A new release of pip is available: 24.1.1 -> 24.3.1\n",
      "[notice] To update, run: python.exe -m pip install --upgrade pip\n"
     ]
    }
   ],
   "source": [
    "#import necessary library for SMOTE\n",
    "!pip install imblearn"
   ]
  },
  {
   "cell_type": "code",
   "execution_count": 49,
   "metadata": {},
   "outputs": [
    {
     "name": "stdout",
     "output_type": "stream",
     "text": [
      "Class Counts:\n",
      " No-show\n",
      "0    70544\n",
      "1    70544\n",
      "Name: count, dtype: int64\n",
      "\n",
      "Class Percentages:\n",
      " No-show\n",
      "0    50.0\n",
      "1    50.0\n",
      "Name: proportion, dtype: float64\n"
     ]
    },
    {
     "data": {
      "image/png": "[encoded data removed]",
      "text/plain": [
       "<Figure size 640x480 with 1 Axes>"
      ]
     },
     "metadata": {},
     "output_type": "display_data"
    }
   ],
   "source": [
    "from imblearn.over_sampling import SMOTE\n",
    "# Applying SMOTE to only the training set\n",
    "smote = SMOTE(random_state=42)\n",
    "X_train, y_train = smote.fit_resample(X_train, y_train)\n",
    "\n",
    "#check the class imbalance in training data again\n",
    "class_counts = y_train.value_counts()\n",
    "class_percentages = y_train.value_counts(normalize=True) * 100\n",
    "\n",
    "print(\"Class Counts:\\n\", class_counts)\n",
    "print(\"\\nClass Percentages:\\n\", class_percentages)\n",
    "\n",
    "#visualize the class imbalance\n",
    "class_counts.plot(kind='bar')\n",
    "plt.title(\"No-Show Class Distribution\")\n",
    "plt.xlabel(\"No-Show\")\n",
    "plt.ylabel(\"Count\")\n",
    "plt.show()"
   ]
  },
  {
   "cell_type": "markdown",
   "metadata": {},
   "source": [
    "SMOTE technique is applied to training data as follows. It is not to testing data because it allows to evaluate the models without bias on naturally umbalanced data. "
   ]
  },
  {
   "cell_type": "markdown",
   "metadata": {},
   "source": [
    "### Logistic Regression"
   ]
  },
  {
   "cell_type": "markdown",
   "metadata": {},
   "source": [
    "### Create performance metrics dataframe to store the metrics of trained models <br> A function for both training and testing is executed, so that the ML models can be trained easily"
   ]
  },
  {
   "cell_type": "code",
   "execution_count": 50,
   "metadata": {},
   "outputs": [],
   "source": [
    "# Initialize an empty dataframe to store the performance metrics\n",
    "performance_df = pd.DataFrame(columns=['Model', 'Accuracy', 'Precision', 'Recall', 'F1-Score'])"
   ]
  },
  {
   "cell_type": "code",
   "execution_count": 51,
   "metadata": {},
   "outputs": [],
   "source": [
    "#write a function to train a ML model and test the performance, add the performance metrics into the performance_df dataframe\n",
    "def evaluate_model(model_name, model, X_train=X_train, X_test=X_test, y_train=y_train, y_test=y_test):\n",
    "    # Train the model\n",
    "    model.fit(X_train, y_train)\n",
    "    \n",
    "    # Make predictions\n",
    "    y_pred = model.predict(X_test)\n",
    "    \n",
    "    # Calculate metrics\n",
    "    accuracy = accuracy_score(y_test, y_pred)\n",
    "    precision = precision_score(y_test, y_pred, average='weighted')  # 'weighted' for handling imbalanced classes\n",
    "    recall = recall_score(y_test, y_pred, average='weighted')\n",
    "    f1 = f1_score(y_test, y_pred, average='weighted')\n",
    "  \n",
    "    \n",
    "    # Append the results to the performance dataframe\n",
    "    performance_df.loc[len(performance_df)] = [model_name, accuracy, precision, recall, f1]\n",
    "    return performance_df"
   ]
  },
  {
   "cell_type": "markdown",
   "metadata": {},
   "source": [
    "Several ML models and their variants: Logistic Regression, Decision Trees, Random Forest, KNN, Gradient Boosting, Bagging, Adaboost, and Neural work are trained on the training set and their performance metrics are measured on testing data. Then, the metrics are compared."
   ]
  },
  {
   "cell_type": "code",
   "execution_count": 52,
   "metadata": {},
   "outputs": [
    {
     "name": "stderr",
     "output_type": "stream",
     "text": [
      "c:\\Users\\Lenovo\\AppData\\Local\\Programs\\Python\\Python312\\Lib\\site-packages\\sklearn\\ensemble\\_weight_boosting.py:527: FutureWarning: The SAMME.R algorithm (the default) is deprecated and will be removed in 1.6. Use the SAMME algorithm to circumvent this warning.\n",
      "  warnings.warn(\n"
     ]
    },
    {
     "data": {
      "text/html": [
       "<div>\n",
       "<style scoped>\n",
       "    .dataframe tbody tr th:only-of-type {\n",
       "        vertical-align: middle;\n",
       "    }\n",
       "\n",
       "    .dataframe tbody tr th {\n",
       "        vertical-align: top;\n",
       "    }\n",
       "\n",
       "    .dataframe thead th {\n",
       "        text-align: right;\n",
       "    }\n",
       "</style>\n",
       "<table border=\"1\" class=\"dataframe\">\n",
       "  <thead>\n",
       "    <tr style=\"text-align: right;\">\n",
       "      <th></th>\n",
       "      <th>Model</th>\n",
       "      <th>Accuracy</th>\n",
       "      <th>Precision</th>\n",
       "      <th>Recall</th>\n",
       "      <th>F1-Score</th>\n",
       "    </tr>\n",
       "  </thead>\n",
       "  <tbody>\n",
       "    <tr>\n",
       "      <th>0</th>\n",
       "      <td>Logistic Regression</td>\n",
       "      <td>0.637910</td>\n",
       "      <td>0.722418</td>\n",
       "      <td>0.637910</td>\n",
       "      <td>0.668272</td>\n",
       "    </tr>\n",
       "    <tr>\n",
       "      <th>1</th>\n",
       "      <td>DT_gini</td>\n",
       "      <td>0.664013</td>\n",
       "      <td>0.721708</td>\n",
       "      <td>0.664013</td>\n",
       "      <td>0.686854</td>\n",
       "    </tr>\n",
       "    <tr>\n",
       "      <th>2</th>\n",
       "      <td>DT_entropy</td>\n",
       "      <td>0.664103</td>\n",
       "      <td>0.721790</td>\n",
       "      <td>0.664103</td>\n",
       "      <td>0.686938</td>\n",
       "    </tr>\n",
       "    <tr>\n",
       "      <th>3</th>\n",
       "      <td>RF_gini</td>\n",
       "      <td>0.657905</td>\n",
       "      <td>0.722553</td>\n",
       "      <td>0.657905</td>\n",
       "      <td>0.682825</td>\n",
       "    </tr>\n",
       "    <tr>\n",
       "      <th>4</th>\n",
       "      <td>RF_entropy</td>\n",
       "      <td>0.683511</td>\n",
       "      <td>0.722353</td>\n",
       "      <td>0.683511</td>\n",
       "      <td>0.699985</td>\n",
       "    </tr>\n",
       "    <tr>\n",
       "      <th>5</th>\n",
       "      <td>KNN_5neighbours</td>\n",
       "      <td>0.784574</td>\n",
       "      <td>0.693500</td>\n",
       "      <td>0.784574</td>\n",
       "      <td>0.715822</td>\n",
       "    </tr>\n",
       "    <tr>\n",
       "      <th>6</th>\n",
       "      <td>KNN_3neighbours</td>\n",
       "      <td>0.770504</td>\n",
       "      <td>0.705906</td>\n",
       "      <td>0.770504</td>\n",
       "      <td>0.725186</td>\n",
       "    </tr>\n",
       "    <tr>\n",
       "      <th>7</th>\n",
       "      <td>Gradient Boosting</td>\n",
       "      <td>0.652839</td>\n",
       "      <td>0.722962</td>\n",
       "      <td>0.652839</td>\n",
       "      <td>0.679323</td>\n",
       "    </tr>\n",
       "    <tr>\n",
       "      <th>8</th>\n",
       "      <td>Bagging</td>\n",
       "      <td>0.646053</td>\n",
       "      <td>0.722541</td>\n",
       "      <td>0.646053</td>\n",
       "      <td>0.674318</td>\n",
       "    </tr>\n",
       "    <tr>\n",
       "      <th>9</th>\n",
       "      <td>Adaptive Boosting</td>\n",
       "      <td>0.581950</td>\n",
       "      <td>0.724177</td>\n",
       "      <td>0.581950</td>\n",
       "      <td>0.623188</td>\n",
       "    </tr>\n",
       "    <tr>\n",
       "      <th>10</th>\n",
       "      <td>Neural Network</td>\n",
       "      <td>0.647772</td>\n",
       "      <td>0.724090</td>\n",
       "      <td>0.647772</td>\n",
       "      <td>0.675900</td>\n",
       "    </tr>\n",
       "  </tbody>\n",
       "</table>\n",
       "</div>"
      ],
      "text/plain": [
       "                  Model  Accuracy  Precision    Recall  F1-Score\n",
       "0   Logistic Regression  0.637910   0.722418  0.637910  0.668272\n",
       "1               DT_gini  0.664013   0.721708  0.664013  0.686854\n",
       "2            DT_entropy  0.664103   0.721790  0.664103  0.686938\n",
       "3               RF_gini  0.657905   0.722553  0.657905  0.682825\n",
       "4            RF_entropy  0.683511   0.722353  0.683511  0.699985\n",
       "5       KNN_5neighbours  0.784574   0.693500  0.784574  0.715822\n",
       "6       KNN_3neighbours  0.770504   0.705906  0.770504  0.725186\n",
       "7     Gradient Boosting  0.652839   0.722962  0.652839  0.679323\n",
       "8               Bagging  0.646053   0.722541  0.646053  0.674318\n",
       "9     Adaptive Boosting  0.581950   0.724177  0.581950  0.623188\n",
       "10       Neural Network  0.647772   0.724090  0.647772  0.675900"
      ]
     },
     "execution_count": 52,
     "metadata": {},
     "output_type": "execute_result"
    }
   ],
   "source": [
    "log_reg = LogisticRegression(max_iter=1000)\n",
    "evaluate_model('Logistic Regression', log_reg, X_train, X_test, y_train, y_test)\n",
    "\n",
    "DT_gini = DecisionTreeClassifier( criterion='gini',max_depth = 5)\n",
    "evaluate_model('DT_gini', DT_gini)\n",
    "\n",
    "DT_entropy = DecisionTreeClassifier( criterion='entropy', max_depth = 5)\n",
    "evaluate_model('DT_entropy', DT_entropy)\n",
    "\n",
    "RF_gini = RandomForestClassifier(n_estimators=30, criterion='gini', max_depth=5)\n",
    "evaluate_model('RF_gini', RF_gini)\n",
    "\n",
    "RF_entropy = RandomForestClassifier(n_estimators=30, criterion='entropy', max_depth=5)\n",
    "evaluate_model('RF_entropy', RF_entropy)\n",
    "\n",
    "KNN_5neighbours = KNeighborsClassifier(n_neighbors=5)\n",
    "evaluate_model('KNN_5neighbours',KNN_5neighbours)\n",
    "\n",
    "KNN_3neighbours = KNeighborsClassifier(n_neighbors=3)\n",
    "evaluate_model('KNN_3neighbours',KNN_3neighbours)\n",
    "\n",
    "gradient_boosting = GradientBoostingClassifier(n_estimators=100, learning_rate=0.1, max_depth=3)\n",
    "evaluate_model('Gradient Boosting', gradient_boosting)\n",
    "\n",
    "bagging = BaggingClassifier(estimator=DecisionTreeClassifier(), n_estimators=50)\n",
    "evaluate_model('Bagging', bagging)\n",
    "\n",
    "adaboost = AdaBoostClassifier(estimator=DecisionTreeClassifier(max_depth=1), n_estimators=50, learning_rate=1.0)\n",
    "evaluate_model('Adaptive Boosting', adaboost)\n",
    "\n",
    "neural_network = MLPClassifier(hidden_layer_sizes=(100,), max_iter=200, activation='relu', solver='adam')\n",
    "evaluate_model('Neural Network', neural_network)"
   ]
  },
  {
   "cell_type": "code",
   "execution_count": 53,
   "metadata": {},
   "outputs": [
    {
     "name": "stdout",
     "output_type": "stream",
     "text": [
      "Class Counts:\n",
      " No-show\n",
      "0    70544\n",
      "1    17872\n",
      "Name: count, dtype: int64\n",
      "\n",
      "Class Percentages:\n",
      " No-show\n",
      "0    79.786464\n",
      "1    20.213536\n",
      "Name: proportion, dtype: float64\n"
     ]
    }
   ],
   "source": [
    "X_train, X_test, y_train, y_test = train_test_split(X, y, test_size=0.2 , random_state=42)\n",
    "class_counts = y_train.value_counts()\n",
    "class_percentages = y_train.value_counts(normalize=True) * 100\n",
    "\n",
    "print(\"Class Counts:\\n\", class_counts)\n",
    "print(\"\\nClass Percentages:\\n\", class_percentages)"
   ]
  },
  {
   "cell_type": "markdown",
   "metadata": {},
   "source": [
    "Then, SMOTETomek method  will be used to handle class imbalance."
   ]
  },
  {
   "cell_type": "code",
   "execution_count": 54,
   "metadata": {},
   "outputs": [
    {
     "name": "stdout",
     "output_type": "stream",
     "text": [
      "Class Counts:\n",
      " No-show\n",
      "0    70544\n",
      "1    56435\n",
      "Name: count, dtype: int64\n",
      "\n",
      "Class Percentages:\n",
      " No-show\n",
      "0    55.555643\n",
      "1    44.444357\n",
      "Name: proportion, dtype: float64\n"
     ]
    },
    {
     "data": {
      "image/png": "[encoded data removed]",
      "text/plain": [
       "<Figure size 640x480 with 1 Axes>"
      ]
     },
     "metadata": {},
     "output_type": "display_data"
    }
   ],
   "source": [
    "from imblearn.combine import SMOTETomek\n",
    "\n",
    "smote_tomek = SMOTETomek(sampling_strategy=0.8, random_state=42)\n",
    "X_train, y_train = smote_tomek.fit_resample(X_train, y_train)\n",
    "\n",
    "#check the class imbalance in training data again\n",
    "class_counts = y_train.value_counts()\n",
    "class_percentages = y_train.value_counts(normalize=True) * 100\n",
    "\n",
    "print(\"Class Counts:\\n\", class_counts)\n",
    "print(\"\\nClass Percentages:\\n\", class_percentages)\n",
    "\n",
    "#visualize the class imbalance\n",
    "class_counts.plot(kind='bar')\n",
    "plt.title(\"No-Show Class Distribution\")\n",
    "plt.xlabel(\"No-Show\")\n",
    "plt.ylabel(\"Count\")\n",
    "plt.show()\n"
   ]
  },
  {
   "cell_type": "code",
   "execution_count": 64,
   "metadata": {},
   "outputs": [
    {
     "name": "stderr",
     "output_type": "stream",
     "text": [
      "c:\\Users\\Lenovo\\AppData\\Local\\Programs\\Python\\Python312\\Lib\\site-packages\\sklearn\\ensemble\\_weight_boosting.py:527: FutureWarning: The SAMME.R algorithm (the default) is deprecated and will be removed in 1.6. Use the SAMME algorithm to circumvent this warning.\n",
      "  warnings.warn(\n"
     ]
    },
    {
     "data": {
      "text/html": [
       "<div>\n",
       "<style scoped>\n",
       "    .dataframe tbody tr th:only-of-type {\n",
       "        vertical-align: middle;\n",
       "    }\n",
       "\n",
       "    .dataframe tbody tr th {\n",
       "        vertical-align: top;\n",
       "    }\n",
       "\n",
       "    .dataframe thead th {\n",
       "        text-align: right;\n",
       "    }\n",
       "</style>\n",
       "<table border=\"1\" class=\"dataframe\">\n",
       "  <thead>\n",
       "    <tr style=\"text-align: right;\">\n",
       "      <th></th>\n",
       "      <th>Model</th>\n",
       "      <th>Accuracy</th>\n",
       "      <th>Precision</th>\n",
       "      <th>Recall</th>\n",
       "      <th>F1-Score</th>\n",
       "    </tr>\n",
       "  </thead>\n",
       "  <tbody>\n",
       "    <tr>\n",
       "      <th>0</th>\n",
       "      <td>Logistic Regression</td>\n",
       "      <td>0.678127</td>\n",
       "      <td>0.721362</td>\n",
       "      <td>0.678127</td>\n",
       "      <td>0.696190</td>\n",
       "    </tr>\n",
       "    <tr>\n",
       "      <th>1</th>\n",
       "      <td>DT_gini</td>\n",
       "      <td>0.664013</td>\n",
       "      <td>0.721708</td>\n",
       "      <td>0.664013</td>\n",
       "      <td>0.686854</td>\n",
       "    </tr>\n",
       "    <tr>\n",
       "      <th>2</th>\n",
       "      <td>DT_entropy</td>\n",
       "      <td>0.664103</td>\n",
       "      <td>0.721790</td>\n",
       "      <td>0.664103</td>\n",
       "      <td>0.686938</td>\n",
       "    </tr>\n",
       "    <tr>\n",
       "      <th>3</th>\n",
       "      <td>RF_gini</td>\n",
       "      <td>0.638046</td>\n",
       "      <td>0.721579</td>\n",
       "      <td>0.638046</td>\n",
       "      <td>0.668215</td>\n",
       "    </tr>\n",
       "    <tr>\n",
       "      <th>4</th>\n",
       "      <td>RF_entropy</td>\n",
       "      <td>0.671432</td>\n",
       "      <td>0.721994</td>\n",
       "      <td>0.671432</td>\n",
       "      <td>0.691967</td>\n",
       "    </tr>\n",
       "    <tr>\n",
       "      <th>5</th>\n",
       "      <td>KNN_5neighbours</td>\n",
       "      <td>0.784574</td>\n",
       "      <td>0.693500</td>\n",
       "      <td>0.784574</td>\n",
       "      <td>0.715822</td>\n",
       "    </tr>\n",
       "    <tr>\n",
       "      <th>6</th>\n",
       "      <td>KNN_3neighbours</td>\n",
       "      <td>0.770504</td>\n",
       "      <td>0.705906</td>\n",
       "      <td>0.770504</td>\n",
       "      <td>0.725186</td>\n",
       "    </tr>\n",
       "    <tr>\n",
       "      <th>7</th>\n",
       "      <td>Gradient Boosting</td>\n",
       "      <td>0.652839</td>\n",
       "      <td>0.722962</td>\n",
       "      <td>0.652839</td>\n",
       "      <td>0.679323</td>\n",
       "    </tr>\n",
       "    <tr>\n",
       "      <th>8</th>\n",
       "      <td>Bagging</td>\n",
       "      <td>0.647953</td>\n",
       "      <td>0.721669</td>\n",
       "      <td>0.647953</td>\n",
       "      <td>0.675513</td>\n",
       "    </tr>\n",
       "    <tr>\n",
       "      <th>9</th>\n",
       "      <td>Adaptive Boosting</td>\n",
       "      <td>0.581950</td>\n",
       "      <td>0.724177</td>\n",
       "      <td>0.581950</td>\n",
       "      <td>0.623188</td>\n",
       "    </tr>\n",
       "    <tr>\n",
       "      <th>10</th>\n",
       "      <td>Neural Network</td>\n",
       "      <td>0.647862</td>\n",
       "      <td>0.723732</td>\n",
       "      <td>0.647862</td>\n",
       "      <td>0.675891</td>\n",
       "    </tr>\n",
       "  </tbody>\n",
       "</table>\n",
       "</div>"
      ],
      "text/plain": [
       "                  Model  Accuracy  Precision    Recall  F1-Score\n",
       "0   Logistic Regression  0.678127   0.721362  0.678127  0.696190\n",
       "1               DT_gini  0.664013   0.721708  0.664013  0.686854\n",
       "2            DT_entropy  0.664103   0.721790  0.664103  0.686938\n",
       "3               RF_gini  0.638046   0.721579  0.638046  0.668215\n",
       "4            RF_entropy  0.671432   0.721994  0.671432  0.691967\n",
       "5       KNN_5neighbours  0.784574   0.693500  0.784574  0.715822\n",
       "6       KNN_3neighbours  0.770504   0.705906  0.770504  0.725186\n",
       "7     Gradient Boosting  0.652839   0.722962  0.652839  0.679323\n",
       "8               Bagging  0.647953   0.721669  0.647953  0.675513\n",
       "9     Adaptive Boosting  0.581950   0.724177  0.581950  0.623188\n",
       "10       Neural Network  0.647862   0.723732  0.647862  0.675891"
      ]
     },
     "execution_count": 64,
     "metadata": {},
     "output_type": "execute_result"
    }
   ],
   "source": [
    "performance_df = pd.DataFrame(columns=['Model', 'Accuracy', 'Precision', 'Recall', 'F1-Score'])\n",
    "\n",
    "log_reg_smt = LogisticRegression(max_iter=1000)\n",
    "evaluate_model('Logistic Regression', log_reg_smt, X_train, X_test, y_train, y_test)\n",
    "\n",
    "DT_gini_smt = DecisionTreeClassifier( criterion='gini',max_depth = 5)\n",
    "evaluate_model('DT_gini', DT_gini_smt)\n",
    "\n",
    "DT_entropy_smt = DecisionTreeClassifier( criterion='entropy', max_depth = 5)\n",
    "evaluate_model('DT_entropy', DT_entropy_smt)\n",
    "\n",
    "RF_gini_smt = RandomForestClassifier(n_estimators=30, criterion='gini', max_depth=5)\n",
    "evaluate_model('RF_gini', RF_gini_smt)\n",
    "\n",
    "RF_entropy_smt = RandomForestClassifier(n_estimators=30, criterion='entropy', max_depth=5)\n",
    "evaluate_model('RF_entropy', RF_entropy_smt)\n",
    "\n",
    "KNN_5neighbours_smt = KNeighborsClassifier(n_neighbors=5)\n",
    "evaluate_model('KNN_5neighbours',KNN_5neighbours_smt)\n",
    "\n",
    "KNN_3neighbours_smt = KNeighborsClassifier(n_neighbors=3)\n",
    "evaluate_model('KNN_3neighbours',KNN_3neighbours_smt)\n",
    "\n",
    "gradient_boosting_smt = GradientBoostingClassifier(n_estimators=100, learning_rate=0.1, max_depth=3)\n",
    "evaluate_model('Gradient Boosting', gradient_boosting_smt)\n",
    "\n",
    "bagging_smt = BaggingClassifier(estimator=DecisionTreeClassifier(), n_estimators=50)\n",
    "evaluate_model('Bagging', bagging_smt)\n",
    "\n",
    "adaboost_smt = AdaBoostClassifier(estimator=DecisionTreeClassifier(max_depth=1), n_estimators=50, learning_rate=1.0)\n",
    "evaluate_model('Adaptive Boosting', adaboost_smt)\n",
    "\n",
    "neural_network_smt = MLPClassifier(hidden_layer_sizes=(100,), max_iter=200, activation='relu', solver='adam')\n",
    "evaluate_model('Neural Network', neural_network_smt)"
   ]
  },
  {
   "cell_type": "markdown",
   "metadata": {},
   "source": [
    "By comparing the performance metrics, SMOTETomek methods give better results and so ML models from this method will be used.\n",
    "\n",
    "Among the ML models, 5 models are selected according to their higher performance and uses in previous studies. They are Logistic Regression, Decision Tree (DT_gini), Random Forest (RF_entropy), K Nearest Neighbours (KNN 5 neighbours) and Neural Network. \n",
    "\n",
    "Then, fairness metrics of 8 used features will be calculated for these 5 models."
   ]
  },
  {
   "cell_type": "markdown",
   "metadata": {},
   "source": [
    "## Bias Identification"
   ]
  },
  {
   "cell_type": "markdown",
   "metadata": {},
   "source": [
    "4 fairness metrics: Demographic Parity Difference, Equalized Odds Difference, Disparate Impact, Negative Rate Difference will be used. \n",
    "\n",
    "<br> These metrics will be measured for each feature to detect that this feature has bias on these models."
   ]
  },
  {
   "cell_type": "markdown",
   "metadata": {},
   "source": [
    "### first, the required libraries for fairness metrics will be installed"
   ]
  },
  {
   "cell_type": "code",
   "execution_count": 56,
   "metadata": {},
   "outputs": [
    {
     "name": "stdout",
     "output_type": "stream",
     "text": [
      "Requirement already satisfied: fairlearn in c:\\users\\lenovo\\appdata\\local\\programs\\python\\python312\\lib\\site-packages (0.10.0)\n",
      "Requirement already satisfied: numpy>=1.24.4 in c:\\users\\lenovo\\appdata\\local\\programs\\python\\python312\\lib\\site-packages (from fairlearn) (2.0.0)\n",
      "Requirement already satisfied: pandas>=2.0.3 in c:\\users\\lenovo\\appdata\\local\\programs\\python\\python312\\lib\\site-packages (from fairlearn) (2.2.2)\n",
      "Requirement already satisfied: scikit-learn>=1.2.1 in c:\\users\\lenovo\\appdata\\local\\programs\\python\\python312\\lib\\site-packages (from fairlearn) (1.5.2)\n",
      "Requirement already satisfied: scipy>=1.9.3 in c:\\users\\lenovo\\appdata\\local\\programs\\python\\python312\\lib\\site-packages (from fairlearn) (1.14.1)\n",
      "Requirement already satisfied: python-dateutil>=2.8.2 in c:\\users\\lenovo\\appdata\\local\\programs\\python\\python312\\lib\\site-packages (from pandas>=2.0.3->fairlearn) (2.9.0.post0)\n",
      "Requirement already satisfied: pytz>=2020.1 in c:\\users\\lenovo\\appdata\\local\\programs\\python\\python312\\lib\\site-packages (from pandas>=2.0.3->fairlearn) (2024.1)\n",
      "Requirement already satisfied: tzdata>=2022.7 in c:\\users\\lenovo\\appdata\\local\\programs\\python\\python312\\lib\\site-packages (from pandas>=2.0.3->fairlearn) (2024.1)\n",
      "Requirement already satisfied: joblib>=1.2.0 in c:\\users\\lenovo\\appdata\\local\\programs\\python\\python312\\lib\\site-packages (from scikit-learn>=1.2.1->fairlearn) (1.4.2)\n",
      "Requirement already satisfied: threadpoolctl>=3.1.0 in c:\\users\\lenovo\\appdata\\local\\programs\\python\\python312\\lib\\site-packages (from scikit-learn>=1.2.1->fairlearn) (3.5.0)\n",
      "Requirement already satisfied: six>=1.5 in c:\\users\\lenovo\\appdata\\local\\programs\\python\\python312\\lib\\site-packages (from python-dateutil>=2.8.2->pandas>=2.0.3->fairlearn) (1.16.0)\n",
      "Note: you may need to restart the kernel to use updated packages.\n"
     ]
    },
    {
     "name": "stderr",
     "output_type": "stream",
     "text": [
      "\n",
      "[notice] A new release of pip is available: 24.1.1 -> 24.3.1\n",
      "[notice] To update, run: python.exe -m pip install --upgrade pip\n"
     ]
    }
   ],
   "source": [
    "pip install fairlearn"
   ]
  },
  {
   "cell_type": "code",
   "execution_count": 57,
   "metadata": {},
   "outputs": [
    {
     "name": "stdout",
     "output_type": "stream",
     "text": [
      "Requirement already satisfied: aif360 in c:\\users\\lenovo\\appdata\\local\\programs\\python\\python312\\lib\\site-packages (0.6.1)\n",
      "Requirement already satisfied: numpy>=1.16 in c:\\users\\lenovo\\appdata\\local\\programs\\python\\python312\\lib\\site-packages (from aif360) (2.0.0)\n",
      "Requirement already satisfied: scipy>=1.2.0 in c:\\users\\lenovo\\appdata\\local\\programs\\python\\python312\\lib\\site-packages (from aif360) (1.14.1)\n",
      "Requirement already satisfied: pandas>=0.24.0 in c:\\users\\lenovo\\appdata\\local\\programs\\python\\python312\\lib\\site-packages (from aif360) (2.2.2)\n",
      "Requirement already satisfied: scikit-learn>=1.0 in c:\\users\\lenovo\\appdata\\local\\programs\\python\\python312\\lib\\site-packages (from aif360) (1.5.2)\n",
      "Requirement already satisfied: matplotlib in c:\\users\\lenovo\\appdata\\local\\programs\\python\\python312\\lib\\site-packages (from aif360) (3.9.1)\n",
      "Requirement already satisfied: python-dateutil>=2.8.2 in c:\\users\\lenovo\\appdata\\local\\programs\\python\\python312\\lib\\site-packages (from pandas>=0.24.0->aif360) (2.9.0.post0)\n",
      "Requirement already satisfied: pytz>=2020.1 in c:\\users\\lenovo\\appdata\\local\\programs\\python\\python312\\lib\\site-packages (from pandas>=0.24.0->aif360) (2024.1)\n",
      "Requirement already satisfied: tzdata>=2022.7 in c:\\users\\lenovo\\appdata\\local\\programs\\python\\python312\\lib\\site-packages (from pandas>=0.24.0->aif360) (2024.1)\n",
      "Requirement already satisfied: joblib>=1.2.0 in c:\\users\\lenovo\\appdata\\local\\programs\\python\\python312\\lib\\site-packages (from scikit-learn>=1.0->aif360) (1.4.2)\n",
      "Requirement already satisfied: threadpoolctl>=3.1.0 in c:\\users\\lenovo\\appdata\\local\\programs\\python\\python312\\lib\\site-packages (from scikit-learn>=1.0->aif360) (3.5.0)\n",
      "Requirement already satisfied: contourpy>=1.0.1 in c:\\users\\lenovo\\appdata\\local\\programs\\python\\python312\\lib\\site-packages (from matplotlib->aif360) (1.2.1)\n",
      "Requirement already satisfied: cycler>=0.10 in c:\\users\\lenovo\\appdata\\local\\programs\\python\\python312\\lib\\site-packages (from matplotlib->aif360) (0.12.1)\n",
      "Requirement already satisfied: fonttools>=4.22.0 in c:\\users\\lenovo\\appdata\\local\\programs\\python\\python312\\lib\\site-packages (from matplotlib->aif360) (4.53.1)\n",
      "Requirement already satisfied: kiwisolver>=1.3.1 in c:\\users\\lenovo\\appdata\\local\\programs\\python\\python312\\lib\\site-packages (from matplotlib->aif360) (1.4.5)\n",
      "Requirement already satisfied: packaging>=20.0 in c:\\users\\lenovo\\appdata\\local\\programs\\python\\python312\\lib\\site-packages (from matplotlib->aif360) (24.1)\n",
      "Requirement already satisfied: pillow>=8 in c:\\users\\lenovo\\appdata\\local\\programs\\python\\python312\\lib\\site-packages (from matplotlib->aif360) (10.4.0)\n",
      "Requirement already satisfied: pyparsing>=2.3.1 in c:\\users\\lenovo\\appdata\\local\\programs\\python\\python312\\lib\\site-packages (from matplotlib->aif360) (3.1.2)\n",
      "Requirement already satisfied: six>=1.5 in c:\\users\\lenovo\\appdata\\local\\programs\\python\\python312\\lib\\site-packages (from python-dateutil>=2.8.2->pandas>=0.24.0->aif360) (1.16.0)\n",
      "Note: you may need to restart the kernel to use updated packages.\n"
     ]
    },
    {
     "name": "stderr",
     "output_type": "stream",
     "text": [
      "\n",
      "[notice] A new release of pip is available: 24.1.1 -> 24.3.1\n",
      "[notice] To update, run: python.exe -m pip install --upgrade pip\n"
     ]
    }
   ],
   "source": [
    "pip install aif360"
   ]
  },
  {
   "cell_type": "code",
   "execution_count": 58,
   "metadata": {},
   "outputs": [
    {
     "name": "stdout",
     "output_type": "stream",
     "text": [
      "Requirement already satisfied: aif360[inFairness] in c:\\users\\lenovo\\appdata\\local\\programs\\python\\python312\\lib\\site-packages (0.6.1)\n",
      "Requirement already satisfied: numpy>=1.16 in c:\\users\\lenovo\\appdata\\local\\programs\\python\\python312\\lib\\site-packages (from aif360[inFairness]) (2.0.0)\n",
      "Requirement already satisfied: scipy>=1.2.0 in c:\\users\\lenovo\\appdata\\local\\programs\\python\\python312\\lib\\site-packages (from aif360[inFairness]) (1.14.1)\n",
      "Requirement already satisfied: pandas>=0.24.0 in c:\\users\\lenovo\\appdata\\local\\programs\\python\\python312\\lib\\site-packages (from aif360[inFairness]) (2.2.2)\n",
      "Requirement already satisfied: scikit-learn>=1.0 in c:\\users\\lenovo\\appdata\\local\\programs\\python\\python312\\lib\\site-packages (from aif360[inFairness]) (1.5.2)\n",
      "Requirement already satisfied: matplotlib in c:\\users\\lenovo\\appdata\\local\\programs\\python\\python312\\lib\\site-packages (from aif360[inFairness]) (3.9.1)\n",
      "Requirement already satisfied: skorch in c:\\users\\lenovo\\appdata\\local\\programs\\python\\python312\\lib\\site-packages (from aif360[inFairness]) (1.0.0)\n",
      "Requirement already satisfied: inFairness>=0.2.2 in c:\\users\\lenovo\\appdata\\local\\programs\\python\\python312\\lib\\site-packages (from aif360[inFairness]) (0.2.3)\n",
      "Requirement already satisfied: POT>=0.8.0 in c:\\users\\lenovo\\appdata\\local\\programs\\python\\python312\\lib\\site-packages (from inFairness>=0.2.2->aif360[inFairness]) (0.9.4)\n",
      "Requirement already satisfied: torch>=1.13.0 in c:\\users\\lenovo\\appdata\\local\\programs\\python\\python312\\lib\\site-packages (from inFairness>=0.2.2->aif360[inFairness]) (2.5.0)\n",
      "Requirement already satisfied: python-dateutil>=2.8.2 in c:\\users\\lenovo\\appdata\\local\\programs\\python\\python312\\lib\\site-packages (from pandas>=0.24.0->aif360[inFairness]) (2.9.0.post0)\n",
      "Requirement already satisfied: pytz>=2020.1 in c:\\users\\lenovo\\appdata\\local\\programs\\python\\python312\\lib\\site-packages (from pandas>=0.24.0->aif360[inFairness]) (2024.1)\n",
      "Requirement already satisfied: tzdata>=2022.7 in c:\\users\\lenovo\\appdata\\local\\programs\\python\\python312\\lib\\site-packages (from pandas>=0.24.0->aif360[inFairness]) (2024.1)\n",
      "Requirement already satisfied: joblib>=1.2.0 in c:\\users\\lenovo\\appdata\\local\\programs\\python\\python312\\lib\\site-packages (from scikit-learn>=1.0->aif360[inFairness]) (1.4.2)\n",
      "Requirement already satisfied: threadpoolctl>=3.1.0 in c:\\users\\lenovo\\appdata\\local\\programs\\python\\python312\\lib\\site-packages (from scikit-learn>=1.0->aif360[inFairness]) (3.5.0)\n",
      "Requirement already satisfied: contourpy>=1.0.1 in c:\\users\\lenovo\\appdata\\local\\programs\\python\\python312\\lib\\site-packages (from matplotlib->aif360[inFairness]) (1.2.1)\n",
      "Requirement already satisfied: cycler>=0.10 in c:\\users\\lenovo\\appdata\\local\\programs\\python\\python312\\lib\\site-packages (from matplotlib->aif360[inFairness]) (0.12.1)\n",
      "Requirement already satisfied: fonttools>=4.22.0 in c:\\users\\lenovo\\appdata\\local\\programs\\python\\python312\\lib\\site-packages (from matplotlib->aif360[inFairness]) (4.53.1)\n",
      "Requirement already satisfied: kiwisolver>=1.3.1 in c:\\users\\lenovo\\appdata\\local\\programs\\python\\python312\\lib\\site-packages (from matplotlib->aif360[inFairness]) (1.4.5)\n",
      "Requirement already satisfied: packaging>=20.0 in c:\\users\\lenovo\\appdata\\local\\programs\\python\\python312\\lib\\site-packages (from matplotlib->aif360[inFairness]) (24.1)\n",
      "Requirement already satisfied: pillow>=8 in c:\\users\\lenovo\\appdata\\local\\programs\\python\\python312\\lib\\site-packages (from matplotlib->aif360[inFairness]) (10.4.0)\n",
      "Requirement already satisfied: pyparsing>=2.3.1 in c:\\users\\lenovo\\appdata\\local\\programs\\python\\python312\\lib\\site-packages (from matplotlib->aif360[inFairness]) (3.1.2)\n",
      "Requirement already satisfied: tabulate>=0.7.7 in c:\\users\\lenovo\\appdata\\local\\programs\\python\\python312\\lib\\site-packages (from skorch->aif360[inFairness]) (0.9.0)\n",
      "Requirement already satisfied: tqdm>=4.14.0 in c:\\users\\lenovo\\appdata\\local\\programs\\python\\python312\\lib\\site-packages (from skorch->aif360[inFairness]) (4.66.5)\n",
      "Requirement already satisfied: six>=1.5 in c:\\users\\lenovo\\appdata\\local\\programs\\python\\python312\\lib\\site-packages (from python-dateutil>=2.8.2->pandas>=0.24.0->aif360[inFairness]) (1.16.0)\n",
      "Requirement already satisfied: filelock in c:\\users\\lenovo\\appdata\\local\\programs\\python\\python312\\lib\\site-packages (from torch>=1.13.0->inFairness>=0.2.2->aif360[inFairness]) (3.16.1)\n",
      "Requirement already satisfied: typing-extensions>=4.8.0 in c:\\users\\lenovo\\appdata\\local\\programs\\python\\python312\\lib\\site-packages (from torch>=1.13.0->inFairness>=0.2.2->aif360[inFairness]) (4.12.2)\n",
      "Requirement already satisfied: networkx in c:\\users\\lenovo\\appdata\\local\\programs\\python\\python312\\lib\\site-packages (from torch>=1.13.0->inFairness>=0.2.2->aif360[inFairness]) (3.4.2)\n",
      "Requirement already satisfied: jinja2 in c:\\users\\lenovo\\appdata\\local\\programs\\python\\python312\\lib\\site-packages (from torch>=1.13.0->inFairness>=0.2.2->aif360[inFairness]) (3.1.4)\n",
      "Requirement already satisfied: fsspec in c:\\users\\lenovo\\appdata\\local\\programs\\python\\python312\\lib\\site-packages (from torch>=1.13.0->inFairness>=0.2.2->aif360[inFairness]) (2024.9.0)\n",
      "Requirement already satisfied: setuptools in c:\\users\\lenovo\\appdata\\local\\programs\\python\\python312\\lib\\site-packages (from torch>=1.13.0->inFairness>=0.2.2->aif360[inFairness]) (70.2.0)\n",
      "Requirement already satisfied: sympy==1.13.1 in c:\\users\\lenovo\\appdata\\local\\programs\\python\\python312\\lib\\site-packages (from torch>=1.13.0->inFairness>=0.2.2->aif360[inFairness]) (1.13.1)\n",
      "Requirement already satisfied: mpmath<1.4,>=1.1.0 in c:\\users\\lenovo\\appdata\\local\\programs\\python\\python312\\lib\\site-packages (from sympy==1.13.1->torch>=1.13.0->inFairness>=0.2.2->aif360[inFairness]) (1.3.0)\n",
      "Requirement already satisfied: colorama in c:\\users\\lenovo\\appdata\\local\\programs\\python\\python312\\lib\\site-packages (from tqdm>=4.14.0->skorch->aif360[inFairness]) (0.4.6)\n",
      "Requirement already satisfied: MarkupSafe>=2.0 in c:\\users\\lenovo\\appdata\\local\\programs\\python\\python312\\lib\\site-packages (from jinja2->torch>=1.13.0->inFairness>=0.2.2->aif360[inFairness]) (2.1.5)\n",
      "Note: you may need to restart the kernel to use updated packages.\n"
     ]
    },
    {
     "name": "stderr",
     "output_type": "stream",
     "text": [
      "\n",
      "[notice] A new release of pip is available: 24.1.1 -> 24.3.1\n",
      "[notice] To update, run: python.exe -m pip install --upgrade pip\n"
     ]
    }
   ],
   "source": [
    "pip install aif360[inFairness]"
   ]
  },
  {
   "cell_type": "markdown",
   "metadata": {},
   "source": [
    "### Import required modules"
   ]
  },
  {
   "cell_type": "code",
   "execution_count": 59,
   "metadata": {},
   "outputs": [
    {
     "name": "stderr",
     "output_type": "stream",
     "text": [
      "WARNING:root:No module named 'tensorflow': AdversarialDebiasing will be unavailable. To install, run:\n",
      "pip install 'aif360[AdversarialDebiasing]'\n",
      "WARNING:root:No module named 'tensorflow': AdversarialDebiasing will be unavailable. To install, run:\n",
      "pip install 'aif360[AdversarialDebiasing]'\n",
      "c:\\Users\\Lenovo\\AppData\\Local\\Programs\\Python\\Python312\\Lib\\site-packages\\inFairness\\utils\\ndcg.py:37: FutureWarning: We've integrated functorch into PyTorch. As the final step of the integration, `functorch.vmap` is deprecated as of PyTorch 2.0 and will be deleted in a future version of PyTorch >= 2.3. Please use `torch.vmap` instead; see the PyTorch 2.0 release notes and/or the `torch.func` migration guide for more details https://pytorch.org/docs/main/func.migrating.html\n",
      "  vect_normalized_discounted_cumulative_gain = vmap(\n",
      "c:\\Users\\Lenovo\\AppData\\Local\\Programs\\Python\\Python312\\Lib\\site-packages\\inFairness\\utils\\ndcg.py:48: FutureWarning: We've integrated functorch into PyTorch. As the final step of the integration, `functorch.vmap` is deprecated as of PyTorch 2.0 and will be deleted in a future version of PyTorch >= 2.3. Please use `torch.vmap` instead; see the PyTorch 2.0 release notes and/or the `torch.func` migration guide for more details https://pytorch.org/docs/main/func.migrating.html\n",
      "  monte_carlo_vect_ndcg = vmap(vect_normalized_discounted_cumulative_gain, in_dims=(0,))\n"
     ]
    }
   ],
   "source": [
    "from fairlearn.metrics import demographic_parity_difference, equalized_odds_difference\n",
    "from aif360.metrics import BinaryLabelDatasetMetric\n",
    "from aif360.datasets import BinaryLabelDataset\n",
    "from sklearn.metrics import accuracy_score, confusion_matrix"
   ]
  },
  {
   "cell_type": "markdown",
   "metadata": {},
   "source": [
    " Select a feature to test as demographic data and integrated into the dataframe <br> The dataframe has actual target(no-show), predicted target, and this feature as demographic."
   ]
  },
  {
   "cell_type": "code",
   "execution_count": 66,
   "metadata": {},
   "outputs": [],
   "source": [
    "demographic_data = df['Gender']"
   ]
  },
  {
   "cell_type": "markdown",
   "metadata": {},
   "source": [
    "Frist, Logistic Regression will be used for fairness metrics calculation. "
   ]
  },
  {
   "cell_type": "code",
   "execution_count": 67,
   "metadata": {},
   "outputs": [],
   "source": [
    "y_true = y\n",
    "y_pred_all = log_reg_smt.predict(X)"
   ]
  },
  {
   "cell_type": "code",
   "execution_count": 68,
   "metadata": {},
   "outputs": [],
   "source": [
    "# Create a dataframe for convenience\n",
    "df_results = pd.DataFrame({\n",
    "    'y_true': y_true,\n",
    "    'y_pred': y_pred_all,\n",
    "    'demographic': demographic_data\n",
    "})\n"
   ]
  },
  {
   "cell_type": "code",
   "execution_count": 69,
   "metadata": {},
   "outputs": [
    {
     "data": {
      "text/html": [
       "<div>\n",
       "<style scoped>\n",
       "    .dataframe tbody tr th:only-of-type {\n",
       "        vertical-align: middle;\n",
       "    }\n",
       "\n",
       "    .dataframe tbody tr th {\n",
       "        vertical-align: top;\n",
       "    }\n",
       "\n",
       "    .dataframe thead th {\n",
       "        text-align: right;\n",
       "    }\n",
       "</style>\n",
       "<table border=\"1\" class=\"dataframe\">\n",
       "  <thead>\n",
       "    <tr style=\"text-align: right;\">\n",
       "      <th></th>\n",
       "      <th>y_true</th>\n",
       "      <th>y_pred</th>\n",
       "      <th>demographic</th>\n",
       "    </tr>\n",
       "  </thead>\n",
       "  <tbody>\n",
       "    <tr>\n",
       "      <th>0</th>\n",
       "      <td>0</td>\n",
       "      <td>0</td>\n",
       "      <td>0</td>\n",
       "    </tr>\n",
       "    <tr>\n",
       "      <th>1</th>\n",
       "      <td>0</td>\n",
       "      <td>0</td>\n",
       "      <td>1</td>\n",
       "    </tr>\n",
       "    <tr>\n",
       "      <th>2</th>\n",
       "      <td>0</td>\n",
       "      <td>0</td>\n",
       "      <td>0</td>\n",
       "    </tr>\n",
       "    <tr>\n",
       "      <th>3</th>\n",
       "      <td>0</td>\n",
       "      <td>0</td>\n",
       "      <td>0</td>\n",
       "    </tr>\n",
       "    <tr>\n",
       "      <th>4</th>\n",
       "      <td>0</td>\n",
       "      <td>0</td>\n",
       "      <td>0</td>\n",
       "    </tr>\n",
       "  </tbody>\n",
       "</table>\n",
       "</div>"
      ],
      "text/plain": [
       "   y_true  y_pred  demographic\n",
       "0       0       0            0\n",
       "1       0       0            1\n",
       "2       0       0            0\n",
       "3       0       0            0\n",
       "4       0       0            0"
      ]
     },
     "execution_count": 69,
     "metadata": {},
     "output_type": "execute_result"
    }
   ],
   "source": [
    "df_results.head()"
   ]
  },
  {
   "cell_type": "code",
   "execution_count": 70,
   "metadata": {},
   "outputs": [
    {
     "name": "stdout",
     "output_type": "stream",
     "text": [
      "Overall accuracy: 0.6805946381230716\n"
     ]
    }
   ],
   "source": [
    "# Compute accuracy overall\n",
    "accuracy = accuracy_score(df_results['y_true'], df_results['y_pred'])\n",
    "print(\"Overall accuracy:\", accuracy)"
   ]
  },
  {
   "cell_type": "markdown",
   "metadata": {},
   "source": [
    "### 2 Metrics Demographic Parity Difference, Equalized Odds Difference will be measured on that feature as follows."
   ]
  },
  {
   "cell_type": "code",
   "execution_count": 71,
   "metadata": {},
   "outputs": [
    {
     "name": "stdout",
     "output_type": "stream",
     "text": [
      "Demographic Parity Difference: 0.05475607108483968\n",
      "Equalized Odds Difference: 0.07318118474858931\n"
     ]
    }
   ],
   "source": [
    "# Fairness metrics: Demographic Parity and Equalized Odds\n",
    "demographic_parity_diff = demographic_parity_difference(df_results['y_true'], df_results['y_pred'], sensitive_features=df_results['demographic'])\n",
    "equalized_odds_diff = equalized_odds_difference(df_results['y_true'], df_results['y_pred'], sensitive_features=df_results['demographic'])\n",
    "\n",
    "print(f\"Demographic Parity Difference: {demographic_parity_diff}\")\n",
    "print(f\"Equalized Odds Difference: {equalized_odds_diff}\")\n"
   ]
  },
  {
   "cell_type": "markdown",
   "metadata": {},
   "source": [
    "### Disparate Impact metrics is measured as follows."
   ]
  },
  {
   "cell_type": "code",
   "execution_count": 72,
   "metadata": {},
   "outputs": [
    {
     "name": "stdout",
     "output_type": "stream",
     "text": [
      "Disparate Impact: 1.017235651091653\n"
     ]
    }
   ],
   "source": [
    "# Additional bias metrics using AIF360\n",
    "# Convert the dataframe to a BinaryLabelDataset object\n",
    "dataset = BinaryLabelDataset(\n",
    "    df=df_results,\n",
    "    label_names=['y_true'],\n",
    "    protected_attribute_names=['demographic']\n",
    ")\n",
    "\n",
    "# Compute metrics\n",
    "metric = BinaryLabelDatasetMetric(dataset, privileged_groups=[{'demographic': 1}], unprivileged_groups=[{'demographic': 0}])\n",
    "\n",
    "# Disparate impact\n",
    "disparate_impact = metric.disparate_impact()\n",
    "print(f\"Disparate Impact: {disparate_impact}\")"
   ]
  },
  {
   "cell_type": "markdown",
   "metadata": {},
   "source": [
    "### False Negative Rate Difference metrics is measured as follows."
   ]
  },
  {
   "cell_type": "code",
   "execution_count": 74,
   "metadata": {},
   "outputs": [
    {
     "name": "stdout",
     "output_type": "stream",
     "text": [
      "False Negative Rate for Privileged Group: 0.6533333333333333\n",
      "False Negative Rate for Unprivileged Group: 0.5801521485847441\n",
      "False Negative Rate Difference: 0.07318118474858926\n"
     ]
    }
   ],
   "source": [
    "# Calculate False Negative Rate (FNR) for privileged and unprivileged groups manually\n",
    "# First, separate the privileged and unprivileged groups\n",
    "privileged_group = df_results[df_results['demographic'] == 1]  # Assuming '1' represents privileged (e.g., Male)\n",
    "unprivileged_group = df_results[df_results['demographic'] == 0]  # Assuming '0' represents unprivileged (e.g., Female)\n",
    "\n",
    "# False Negative Rate (FNR) for Privileged Group\n",
    "tn_priv, fp_priv, fn_priv, tp_priv = confusion_matrix(privileged_group['y_true'], privileged_group['y_pred']).ravel()\n",
    "fnr_privileged = fn_priv / (fn_priv + tp_priv) if (fn_priv + tp_priv) > 0 else 0\n",
    "\n",
    "# False Negative Rate (FNR) for Unprivileged Group\n",
    "tn_unpriv, fp_unpriv, fn_unpriv, tp_unpriv = confusion_matrix(unprivileged_group['y_true'], unprivileged_group['y_pred']).ravel()\n",
    "fnr_unprivileged = fn_unpriv / (fn_unpriv + tp_unpriv) if (fn_unpriv + tp_unpriv) > 0 else 0\n",
    "\n",
    "# Difference in False Negative Rates\n",
    "fnr_difference = fnr_privileged - fnr_unprivileged\n",
    "\n",
    "print(f\"False Negative Rate for Privileged Group: {fnr_privileged}\")\n",
    "print(f\"False Negative Rate for Unprivileged Group: {fnr_unprivileged}\")\n",
    "print(f\"False Negative Rate Difference: {fnr_difference}\")"
   ]
  },
  {
   "cell_type": "markdown",
   "metadata": {},
   "source": [
    "### According to the results of 4 metrics, the feature 'Gender' has no bias on the model"
   ]
  },
  {
   "cell_type": "markdown",
   "metadata": {},
   "source": [
    "### A function is structured and executed to calculate these 4 metrics on each feature easily."
   ]
  },
  {
   "cell_type": "code",
   "execution_count": 75,
   "metadata": {},
   "outputs": [],
   "source": [
    "def calculate_bias(y_true, y_pred, demographic_data):\n",
    "    df_results = pd.DataFrame({\n",
    "    'y_true': y_true,\n",
    "    'y_pred': y_pred,\n",
    "    'demographic': demographic_data\n",
    "    })\n",
    "    accuracy = accuracy_score(df_results['y_true'], df_results['y_pred'])\n",
    "    print(\"Overall accuracy:\", accuracy)\n",
    "    demographic_parity_diff = demographic_parity_difference(df_results['y_true'], df_results['y_pred'], sensitive_features=df_results['demographic'])\n",
    "    equalized_odds_diff = equalized_odds_difference(df_results['y_true'], df_results['y_pred'], sensitive_features=df_results['demographic'])\n",
    "\n",
    "    print(f\"Demographic Parity Difference: {demographic_parity_diff}\")\n",
    "    print(f\"Equalized Odds Difference: {equalized_odds_diff}\")\n",
    "\n",
    "    # Additional bias metrics using AIF360\n",
    "    # Convert the dataframe to a BinaryLabelDataset object\n",
    "    dataset = BinaryLabelDataset(\n",
    "    df=df_results,\n",
    "    label_names=['y_true'],\n",
    "    protected_attribute_names=['demographic']\n",
    "    )\n",
    "\n",
    "# Compute metrics\n",
    "    metric = BinaryLabelDatasetMetric(dataset, privileged_groups=[{'demographic': 1}], unprivileged_groups=[{'demographic': 0}])\n",
    "\n",
    "# Disparate impact\n",
    "    disparate_impact = metric.disparate_impact()\n",
    "    print(f\"Disparate Impact: {disparate_impact}\")\n",
    "\n",
    "    # Calculate False Negative Rate (FNR) for privileged and unprivileged groups manually\n",
    "    # First, separate the privileged and unprivileged groups\n",
    "    privileged_group = df_results[df_results['demographic'] == 1]  # Assuming '1' represents privileged (e.g., Male)\n",
    "    unprivileged_group = df_results[df_results['demographic'] == 0]  # Assuming '0' represents unprivileged (e.g., Female)\n",
    "\n",
    "    # False Negative Rate (FNR) for Privileged Group\n",
    "    tn_priv, fp_priv, fn_priv, tp_priv = confusion_matrix(privileged_group['y_true'], privileged_group['y_pred']).ravel()\n",
    "    fnr_privileged = fn_priv / (fn_priv + tp_priv) if (fn_priv + tp_priv) > 0 else 0\n",
    "\n",
    "    # False Negative Rate (FNR) for Unprivileged Group\n",
    "    tn_unpriv, fp_unpriv, fn_unpriv, tp_unpriv = confusion_matrix(unprivileged_group['y_true'], unprivileged_group['y_pred']).ravel()\n",
    "    fnr_unprivileged = fn_unpriv / (fn_unpriv + tp_unpriv) if (fn_unpriv + tp_unpriv) > 0 else 0\n",
    "\n",
    "    # Difference in False Negative Rates\n",
    "    fnr_difference = fnr_privileged - fnr_unprivileged\n",
    "\n",
    "    print(f\"False Negative Rate for Privileged Group: {fnr_privileged}\")\n",
    "    print(f\"False Negative Rate for Unprivileged Group: {fnr_unprivileged}\")\n",
    "    print(f\"False Negative Rate Difference: {fnr_difference}\")"
   ]
  },
  {
   "cell_type": "markdown",
   "metadata": {},
   "source": [
    "### Then, all binary features are used to measure the metrics, one by one."
   ]
  },
  {
   "cell_type": "code",
   "execution_count": 78,
   "metadata": {},
   "outputs": [
    {
     "name": "stdout",
     "output_type": "stream",
     "text": [
      "Overall accuracy: 0.6805946381230716\n",
      "Demographic Parity Difference: 0.05475607108483968\n",
      "Equalized Odds Difference: 0.07318118474858931\n",
      "Disparate Impact: 1.017235651091653\n",
      "False Negative Rate for Privileged Group: 0.6533333333333333\n",
      "False Negative Rate for Unprivileged Group: 0.5801521485847441\n",
      "False Negative Rate Difference: 0.07318118474858926\n"
     ]
    }
   ],
   "source": [
    "demographic_data = df['Gender']\n",
    "calculate_bias(y_true, y_pred_all, demographic_data)"
   ]
  },
  {
   "cell_type": "code",
   "execution_count": 79,
   "metadata": {},
   "outputs": [
    {
     "name": "stdout",
     "output_type": "stream",
     "text": [
      "Overall accuracy: 0.6805946381230716\n",
      "Demographic Parity Difference: 0.050910164811717895\n",
      "Equalized Odds Difference: 0.07321340121927744\n",
      "Disparate Impact: 0.8343901382621783\n",
      "False Negative Rate for Privileged Group: 0.5407292474786657\n",
      "False Negative Rate for Unprivileged Group: 0.613942648697943\n",
      "False Negative Rate Difference: -0.07321340121927733\n"
     ]
    }
   ],
   "source": [
    "demographic_data = df['Scholarship']\n",
    "calculate_bias(y_true, y_pred_all, demographic_data)"
   ]
  },
  {
   "cell_type": "code",
   "execution_count": 81,
   "metadata": {},
   "outputs": [
    {
     "name": "stdout",
     "output_type": "stream",
     "text": [
      "Overall accuracy: 0.6805946381230716\n",
      "Demographic Parity Difference: 0.1268225673741279\n",
      "Equalized Odds Difference: 0.18794833325251134\n",
      "Disparate Impact: 1.2079857187633238\n",
      "False Negative Rate for Privileged Group: 0.7616648992576882\n",
      "False Negative Rate for Unprivileged Group: 0.5737165660051768\n",
      "False Negative Rate Difference: 0.18794833325251137\n"
     ]
    }
   ],
   "source": [
    "demographic_data = df['Hypertension']\n",
    "calculate_bias(y_true, y_pred_all, demographic_data)"
   ]
  },
  {
   "cell_type": "code",
   "execution_count": 83,
   "metadata": {},
   "outputs": [
    {
     "name": "stdout",
     "output_type": "stream",
     "text": [
      "Overall accuracy: 0.6805946381230716\n",
      "Demographic Parity Difference: 0.09640054370014206\n",
      "Equalized Odds Difference: 0.156277601551948\n",
      "Disparate Impact: 1.1309660586445083\n",
      "False Negative Rate for Privileged Group: 0.7517482517482518\n",
      "False Negative Rate for Unprivileged Group: 0.5954706501963037\n",
      "False Negative Rate Difference: 0.15627760155194803\n"
     ]
    }
   ],
   "source": [
    "demographic_data = df['Diabetes']\n",
    "calculate_bias(y_true, y_pred_all, demographic_data)"
   ]
  },
  {
   "cell_type": "code",
   "execution_count": 84,
   "metadata": {},
   "outputs": [
    {
     "name": "stdout",
     "output_type": "stream",
     "text": [
      "Overall accuracy: 0.6805946381230716\n",
      "Demographic Parity Difference: 0.0515898141248082\n",
      "Equalized Odds Difference: 0.06026508596702962\n",
      "Disparate Impact: 1.0021922452249095\n",
      "False Negative Rate for Privileged Group: 0.621861152141802\n",
      "False Negative Rate for Unprivileged Group: 0.6049725033504321\n",
      "False Negative Rate Difference: 0.016888648791369976\n"
     ]
    }
   ],
   "source": [
    "demographic_data = df['Alcoholism']\n",
    "calculate_bias(y_true, y_pred_all, demographic_data)"
   ]
  },
  {
   "cell_type": "code",
   "execution_count": 85,
   "metadata": {},
   "outputs": [
    {
     "name": "stdout",
     "output_type": "stream",
     "text": [
      "Overall accuracy: 0.6805946381230716\n",
      "Demographic Parity Difference: 0.1365216630048499\n",
      "Equalized Odds Difference: 0.18751378149863182\n",
      "Disparate Impact: 1.1204754567289317\n",
      "False Negative Rate for Privileged Group: 0.7896039603960396\n",
      "False Negative Rate for Unprivileged Group: 0.6020901788974078\n",
      "False Negative Rate Difference: 0.18751378149863185\n"
     ]
    }
   ],
   "source": [
    "demographic_data = df['Handicap']\n",
    "calculate_bias(y_true, y_pred_all, demographic_data)"
   ]
  },
  {
   "cell_type": "code",
   "execution_count": 86,
   "metadata": {},
   "outputs": [
    {
     "name": "stdout",
     "output_type": "stream",
     "text": [
      "Overall accuracy: 0.6805946381230716\n",
      "Demographic Parity Difference: 0.8622361263774978\n",
      "Equalized Odds Difference: 0.8998364677023712\n",
      "Disparate Impact: 0.6056294260940362\n",
      "False Negative Rate for Privileged Group: 0.10016353229762878\n",
      "False Negative Rate for Unprivileged Group: 1.0\n",
      "False Negative Rate Difference: -0.8998364677023712\n"
     ]
    }
   ],
   "source": [
    "demographic_data = df['SMS_received']\n",
    "calculate_bias(y_true, y_pred_all, demographic_data)"
   ]
  },
  {
   "cell_type": "markdown",
   "metadata": {},
   "source": [
    "#### age_group is not binary, and it is ordnial feature having 5 categories. So, ordinal encoding of age group needs to be done to measure the metrics."
   ]
  },
  {
   "cell_type": "code",
   "execution_count": null,
   "metadata": {},
   "outputs": [
    {
     "name": "stdout",
     "output_type": "stream",
     "text": [
      "Unique age_group values: ['45-64', 'under 15', '65+', '15-24', '25-44']\n",
      "Categories (5, object): ['under 15' < '15-24' < '25-44' < '45-64' < '65+']\n"
     ]
    }
   ],
   "source": [
    "#check the values of age_group\n",
    "print(\"Unique age_group values:\", df['age_group'].unique())\n"
   ]
  },
  {
   "cell_type": "code",
   "execution_count": null,
   "metadata": {},
   "outputs": [],
   "source": [
    "#create a dataframe with age group\n",
    "demographic_data = df['age_group']\n",
    "df_results = pd.DataFrame({\n",
    "    'y_true': y_true,\n",
    "    'y_pred': y_pred_all,\n",
    "    'demographic_age_group': demographic_data\n",
    "})"
   ]
  },
  {
   "cell_type": "code",
   "execution_count": 100,
   "metadata": {},
   "outputs": [
    {
     "data": {
      "text/html": [
       "<div>\n",
       "<style scoped>\n",
       "    .dataframe tbody tr th:only-of-type {\n",
       "        vertical-align: middle;\n",
       "    }\n",
       "\n",
       "    .dataframe tbody tr th {\n",
       "        vertical-align: top;\n",
       "    }\n",
       "\n",
       "    .dataframe thead th {\n",
       "        text-align: right;\n",
       "    }\n",
       "</style>\n",
       "<table border=\"1\" class=\"dataframe\">\n",
       "  <thead>\n",
       "    <tr style=\"text-align: right;\">\n",
       "      <th></th>\n",
       "      <th>y_true</th>\n",
       "      <th>y_pred</th>\n",
       "      <th>demographic_age_group</th>\n",
       "    </tr>\n",
       "  </thead>\n",
       "  <tbody>\n",
       "    <tr>\n",
       "      <th>0</th>\n",
       "      <td>0</td>\n",
       "      <td>0</td>\n",
       "      <td>45-64</td>\n",
       "    </tr>\n",
       "    <tr>\n",
       "      <th>1</th>\n",
       "      <td>0</td>\n",
       "      <td>0</td>\n",
       "      <td>45-64</td>\n",
       "    </tr>\n",
       "    <tr>\n",
       "      <th>2</th>\n",
       "      <td>0</td>\n",
       "      <td>0</td>\n",
       "      <td>45-64</td>\n",
       "    </tr>\n",
       "    <tr>\n",
       "      <th>3</th>\n",
       "      <td>0</td>\n",
       "      <td>0</td>\n",
       "      <td>under 15</td>\n",
       "    </tr>\n",
       "    <tr>\n",
       "      <th>4</th>\n",
       "      <td>0</td>\n",
       "      <td>0</td>\n",
       "      <td>45-64</td>\n",
       "    </tr>\n",
       "    <tr>\n",
       "      <th>...</th>\n",
       "      <td>...</td>\n",
       "      <td>...</td>\n",
       "      <td>...</td>\n",
       "    </tr>\n",
       "    <tr>\n",
       "      <th>110522</th>\n",
       "      <td>0</td>\n",
       "      <td>1</td>\n",
       "      <td>45-64</td>\n",
       "    </tr>\n",
       "    <tr>\n",
       "      <th>110523</th>\n",
       "      <td>0</td>\n",
       "      <td>1</td>\n",
       "      <td>45-64</td>\n",
       "    </tr>\n",
       "    <tr>\n",
       "      <th>110524</th>\n",
       "      <td>0</td>\n",
       "      <td>1</td>\n",
       "      <td>15-24</td>\n",
       "    </tr>\n",
       "    <tr>\n",
       "      <th>110525</th>\n",
       "      <td>0</td>\n",
       "      <td>1</td>\n",
       "      <td>25-44</td>\n",
       "    </tr>\n",
       "    <tr>\n",
       "      <th>110526</th>\n",
       "      <td>0</td>\n",
       "      <td>1</td>\n",
       "      <td>45-64</td>\n",
       "    </tr>\n",
       "  </tbody>\n",
       "</table>\n",
       "<p>110521 rows × 3 columns</p>\n",
       "</div>"
      ],
      "text/plain": [
       "        y_true  y_pred demographic_age_group\n",
       "0            0       0                 45-64\n",
       "1            0       0                 45-64\n",
       "2            0       0                 45-64\n",
       "3            0       0              under 15\n",
       "4            0       0                 45-64\n",
       "...        ...     ...                   ...\n",
       "110522       0       1                 45-64\n",
       "110523       0       1                 45-64\n",
       "110524       0       1                 15-24\n",
       "110525       0       1                 25-44\n",
       "110526       0       1                 45-64\n",
       "\n",
       "[110521 rows x 3 columns]"
      ]
     },
     "execution_count": 100,
     "metadata": {},
     "output_type": "execute_result"
    }
   ],
   "source": [
    "df_results"
   ]
  },
  {
   "cell_type": "markdown",
   "metadata": {},
   "source": [
    "Ordinal encoding is done to the age_group required for the calculation of fairness metrics."
   ]
  },
  {
   "cell_type": "code",
   "execution_count": 101,
   "metadata": {},
   "outputs": [
    {
     "name": "stdout",
     "output_type": "stream",
     "text": [
      "y_true                      int64\n",
      "y_pred                      int64\n",
      "demographic_age_group    category\n",
      "dtype: object\n"
     ]
    }
   ],
   "source": [
    "# Indicate that the column is an ordered categorical feature\n",
    "categ = ['under 15', '15-24', '25-44', '45-64', '65+']\n",
    "df_results['demographic_age_group'] = pd.Categorical(df_results['demographic_age_group'], categories=categ, ordered=True)\n",
    "print(df_results.dtypes)"
   ]
  },
  {
   "cell_type": "code",
   "execution_count": 102,
   "metadata": {},
   "outputs": [
    {
     "name": "stdout",
     "output_type": "stream",
     "text": [
      "[3 3 3 ... 1 2 3] CategoricalIndex(['under 15', '15-24', '25-44', '45-64', '65+'], categories=['under 15', '15-24', '25-44', '45-64', '65+'], ordered=True, dtype='category')\n"
     ]
    }
   ],
   "source": [
    "labels, unique = pd.factorize(df_results[\"demographic_age_group\"], sort=True)\n",
    "print(labels, unique)"
   ]
  },
  {
   "cell_type": "code",
   "execution_count": 103,
   "metadata": {},
   "outputs": [
    {
     "data": {
      "text/html": [
       "<div>\n",
       "<style scoped>\n",
       "    .dataframe tbody tr th:only-of-type {\n",
       "        vertical-align: middle;\n",
       "    }\n",
       "\n",
       "    .dataframe tbody tr th {\n",
       "        vertical-align: top;\n",
       "    }\n",
       "\n",
       "    .dataframe thead th {\n",
       "        text-align: right;\n",
       "    }\n",
       "</style>\n",
       "<table border=\"1\" class=\"dataframe\">\n",
       "  <thead>\n",
       "    <tr style=\"text-align: right;\">\n",
       "      <th></th>\n",
       "      <th>y_true</th>\n",
       "      <th>y_pred</th>\n",
       "      <th>demographic_age_group</th>\n",
       "    </tr>\n",
       "  </thead>\n",
       "  <tbody>\n",
       "    <tr>\n",
       "      <th>0</th>\n",
       "      <td>0</td>\n",
       "      <td>0</td>\n",
       "      <td>3</td>\n",
       "    </tr>\n",
       "    <tr>\n",
       "      <th>1</th>\n",
       "      <td>0</td>\n",
       "      <td>0</td>\n",
       "      <td>3</td>\n",
       "    </tr>\n",
       "    <tr>\n",
       "      <th>2</th>\n",
       "      <td>0</td>\n",
       "      <td>0</td>\n",
       "      <td>3</td>\n",
       "    </tr>\n",
       "    <tr>\n",
       "      <th>3</th>\n",
       "      <td>0</td>\n",
       "      <td>0</td>\n",
       "      <td>0</td>\n",
       "    </tr>\n",
       "    <tr>\n",
       "      <th>4</th>\n",
       "      <td>0</td>\n",
       "      <td>0</td>\n",
       "      <td>3</td>\n",
       "    </tr>\n",
       "    <tr>\n",
       "      <th>...</th>\n",
       "      <td>...</td>\n",
       "      <td>...</td>\n",
       "      <td>...</td>\n",
       "    </tr>\n",
       "    <tr>\n",
       "      <th>110522</th>\n",
       "      <td>0</td>\n",
       "      <td>1</td>\n",
       "      <td>3</td>\n",
       "    </tr>\n",
       "    <tr>\n",
       "      <th>110523</th>\n",
       "      <td>0</td>\n",
       "      <td>1</td>\n",
       "      <td>3</td>\n",
       "    </tr>\n",
       "    <tr>\n",
       "      <th>110524</th>\n",
       "      <td>0</td>\n",
       "      <td>1</td>\n",
       "      <td>1</td>\n",
       "    </tr>\n",
       "    <tr>\n",
       "      <th>110525</th>\n",
       "      <td>0</td>\n",
       "      <td>1</td>\n",
       "      <td>2</td>\n",
       "    </tr>\n",
       "    <tr>\n",
       "      <th>110526</th>\n",
       "      <td>0</td>\n",
       "      <td>1</td>\n",
       "      <td>3</td>\n",
       "    </tr>\n",
       "  </tbody>\n",
       "</table>\n",
       "<p>110521 rows × 3 columns</p>\n",
       "</div>"
      ],
      "text/plain": [
       "        y_true  y_pred  demographic_age_group\n",
       "0            0       0                      3\n",
       "1            0       0                      3\n",
       "2            0       0                      3\n",
       "3            0       0                      0\n",
       "4            0       0                      3\n",
       "...        ...     ...                    ...\n",
       "110522       0       1                      3\n",
       "110523       0       1                      3\n",
       "110524       0       1                      1\n",
       "110525       0       1                      2\n",
       "110526       0       1                      3\n",
       "\n",
       "[110521 rows x 3 columns]"
      ]
     },
     "execution_count": 103,
     "metadata": {},
     "output_type": "execute_result"
    }
   ],
   "source": [
    "df_results[\"demographic_age_group\"] = labels\n",
    "df_results"
   ]
  },
  {
   "cell_type": "code",
   "execution_count": null,
   "metadata": {},
   "outputs": [
    {
     "name": "stdout",
     "output_type": "stream",
     "text": [
      "Unique values in demographic_age_group: [3 0 4 1 2]\n"
     ]
    }
   ],
   "source": [
    "#check the values of age group again\n",
    "print(\"Unique values in demographic_age_group:\", df_results['demographic_age_group'].unique())"
   ]
  },
  {
   "cell_type": "code",
   "execution_count": 107,
   "metadata": {},
   "outputs": [
    {
     "data": {
      "text/plain": [
       "y_true                   int64\n",
       "y_pred                   int64\n",
       "demographic_age_group    int64\n",
       "dtype: object"
      ]
     },
     "execution_count": 107,
     "metadata": {},
     "output_type": "execute_result"
    }
   ],
   "source": [
    "#check the data types\n",
    "df_results.dtypes"
   ]
  },
  {
   "cell_type": "markdown",
   "metadata": {},
   "source": [
    "By this way, apporpiate dataframe of age group as demographic is obtained."
   ]
  },
  {
   "cell_type": "markdown",
   "metadata": {},
   "source": [
    "#### Calculate Demographic Parity Difference, Equalized Odds Difference for age group as follows. "
   ]
  },
  {
   "cell_type": "code",
   "execution_count": 108,
   "metadata": {},
   "outputs": [
    {
     "name": "stdout",
     "output_type": "stream",
     "text": [
      "Overall accuracy: 0.6805946381230716\n",
      "Demographic Parity Difference: 0.3272220749744558\n",
      "Equalized Odds Difference: 0.4597254447693404\n"
     ]
    }
   ],
   "source": [
    "accuracy = accuracy_score(df_results['y_true'], df_results['y_pred'])\n",
    "print(\"Overall accuracy:\", accuracy)\n",
    "demographic_parity_diff = demographic_parity_difference(df_results['y_true'], df_results['y_pred'], sensitive_features=df_results['demographic_age_group'])\n",
    "equalized_odds_diff = equalized_odds_difference(df_results['y_true'], df_results['y_pred'], sensitive_features=df_results['demographic_age_group'])\n",
    "\n",
    "print(f\"Demographic Parity Difference: {demographic_parity_diff}\")\n",
    "print(f\"Equalized Odds Difference: {equalized_odds_diff}\")"
   ]
  },
  {
   "cell_type": "markdown",
   "metadata": {},
   "source": [
    "#### To measure the Disparate Impact and False Negative Rate Difference, age group has 5 categories or subgroups. So, it is needed that one subgroup is selected as a reference group and the metrics of other 4 subgroups will be measured on this reference group. "
   ]
  },
  {
   "cell_type": "markdown",
   "metadata": {},
   "source": [
    "#### Calcuate the Disparate Impact"
   ]
  },
  {
   "cell_type": "code",
   "execution_count": 127,
   "metadata": {},
   "outputs": [
    {
     "name": "stdout",
     "output_type": "stream",
     "text": [
      "Positive prediction rates by age group:\n",
      "demographic_age_group\n",
      "0    0.293847\n",
      "1    0.325268\n",
      "2    0.337571\n",
      "3    0.310383\n",
      "4    0.010349\n",
      "dtype: float64\n",
      "\n",
      "Reference group: 2 with rate 0.3375714533171661\n",
      "\n",
      "Disparate Impact Ratios relative to the reference group:\n",
      "demographic_age_group\n",
      "0    0.870474\n",
      "1    0.963552\n",
      "2    1.000000\n",
      "3    0.919458\n",
      "4    0.030658\n",
      "dtype: float64\n"
     ]
    }
   ],
   "source": [
    "# Step 1: Calculate positive prediction rate for each age group\n",
    "positive_rate_by_group = df_results[df_results['y_pred'] == 1].groupby('demographic_age_group').size() / df_results.groupby('demographic_age_group').size()\n",
    "\n",
    "# Step 2: Choose the reference group (group with the highest positive outcome rate)\n",
    "reference_group = positive_rate_by_group.idxmax()\n",
    "reference_rate = positive_rate_by_group[reference_group]\n",
    "\n",
    "# Step 3: Calculate disparate impact for each group relative to the reference group\n",
    "disparate_impact_ratios = positive_rate_by_group / reference_rate\n",
    "\n",
    "# Display the results\n",
    "print(\"Positive prediction rates by age group:\")\n",
    "print(positive_rate_by_group)\n",
    "print(f\"\\nReference group: {reference_group} with rate {reference_rate}\")\n",
    "print(\"\\nDisparate Impact Ratios relative to the reference group:\")\n",
    "print(disparate_impact_ratios)"
   ]
  },
  {
   "cell_type": "markdown",
   "metadata": {},
   "source": [
    "#### Calcuate the False Negative Rate Difference"
   ]
  },
  {
   "cell_type": "code",
   "execution_count": 134,
   "metadata": {},
   "outputs": [
    {
     "name": "stdout",
     "output_type": "stream",
     "text": [
      "False Negative Rates by age group:\n",
      "demographic_age_group\n",
      "0    0.590946\n",
      "1    0.534181\n",
      "2    0.525925\n",
      "3    0.603605\n",
      "4    0.985650\n",
      "dtype: float64\n",
      "\n",
      "Reference group: 2 with FNR 0.5259247794459062\n",
      "\n",
      "False Negative Rate Differences relative to the reference group:\n",
      "demographic_age_group\n",
      "0    0.065021\n",
      "1    0.008256\n",
      "2    0.000000\n",
      "3    0.077681\n",
      "4    0.459725\n",
      "dtype: float64\n"
     ]
    }
   ],
   "source": [
    "# Step 1: Calculate false negative rate for each age group\n",
    "fnr_by_group = (\n",
    "    df_results[(df_results['y_true'] == 1) & (df_results['y_pred'] == 0)].groupby('demographic_age_group').size() / \n",
    "    df_results[df_results['y_true'] == 1].groupby('demographic_age_group').size()\n",
    ").fillna(0)  # Fill NaN for groups with no positive cases\n",
    "\n",
    "# Step 2: Choose the reference group (group with the lowest FNR)\n",
    "reference_group = fnr_by_group.idxmin()\n",
    "reference_fnr = fnr_by_group[reference_group]\n",
    "\n",
    "# Step 3: Calculate FNR difference relative to the reference group\n",
    "fnr_difference = fnr_by_group - reference_fnr\n",
    "\n",
    "# Display the results\n",
    "print(\"False Negative Rates by age group:\")\n",
    "print(fnr_by_group)\n",
    "print(f\"\\nReference group: {reference_group} with FNR {reference_fnr}\")\n",
    "print(\"\\nFalse Negative Rate Differences relative to the reference group:\")\n",
    "print(fnr_difference)\n"
   ]
  },
  {
   "cell_type": "markdown",
   "metadata": {},
   "source": [
    "#### A function will be created to calcuate all 4 metrics of age group"
   ]
  },
  {
   "cell_type": "code",
   "execution_count": 149,
   "metadata": {},
   "outputs": [],
   "source": [
    "#A function will be created to calcuate all fairness metrics of age_group column in just one cell\n",
    "def age_group_fairness_metrics(y_true,y_pred,demographic_data):\n",
    "    df_results = pd.DataFrame({\n",
    "    'y_true': y_true,\n",
    "    'y_pred': y_pred,\n",
    "    'demographic_age_group': demographic_data\n",
    "    })\n",
    "    categ = ['under 15', '15-24', '25-44', '45-64', '65+']\n",
    "    df_results['demographic_age_group'] = pd.Categorical(df_results['demographic_age_group'], categories=categ, ordered=True)\n",
    "    labels, unique = pd.factorize(df_results[\"demographic_age_group\"], sort=True)\n",
    "    df_results[\"demographic_age_group\"] = labels\n",
    "    accuracy = accuracy_score(df_results['y_true'], df_results['y_pred'])\n",
    "    print(\"Overall accuracy:\", accuracy)\n",
    "\n",
    "    #CALCULATE DEMOGRAPHIC PARITY DIFFERENCE AND EQUALIZED ODDS DIFFERENCE\n",
    "    demographic_parity_diff = demographic_parity_difference(df_results['y_true'], df_results['y_pred'], sensitive_features=df_results['demographic_age_group'])\n",
    "    equalized_odds_diff = equalized_odds_difference(df_results['y_true'], df_results['y_pred'], sensitive_features=df_results['demographic_age_group'])\n",
    "\n",
    "    print(f\"Demographic Parity Difference: {demographic_parity_diff}\")\n",
    "    print(f\"Equalized Odds Difference: {equalized_odds_diff}\")\n",
    "    print('-------------------------')\n",
    "    #CALCULATE DISPARATE IMPACT\n",
    "    # Step 1: Calculate positive prediction rate for each age group\n",
    "    positive_rate_by_group = df_results[df_results['y_pred'] == 1].groupby('demographic_age_group').size() / df_results.groupby('demographic_age_group').size()\n",
    "\n",
    "    # Step 2: Choose the reference group (group with the highest positive outcome rate)\n",
    "    reference_group = positive_rate_by_group.idxmax()\n",
    "    reference_rate = positive_rate_by_group[reference_group]\n",
    "\n",
    "    # Step 3: Calculate disparate impact for each group relative to the reference group\n",
    "    disparate_impact_ratios = positive_rate_by_group / reference_rate\n",
    "\n",
    "    # Display the results\n",
    "    print('DISPARATE IMPACT')\n",
    "    print(\"Positive prediction rates by age group:\")\n",
    "    print(positive_rate_by_group)\n",
    "    print(f\"\\nReference group: {reference_group} with rate {reference_rate}\")\n",
    "    print(\"\\nDisparate Impact Ratios relative to the reference group:\") \n",
    "    print(disparate_impact_ratios)\n",
    "    print('-------------------------')\n",
    "\n",
    "    #CALCULATE FALSE NEGATIVE RATE DIFFERENCE\n",
    "    # Step 1: Calculate false negative rate for each age group\n",
    "    fnr_by_group = (\n",
    "        df_results[(df_results['y_true'] == 1) & (df_results['y_pred'] == 0)].groupby('demographic_age_group').size() / \n",
    "        df_results[df_results['y_true'] == 1].groupby('demographic_age_group').size()\n",
    "        ).fillna(0)  # Fill NaN for groups with no positive cases\n",
    "\n",
    "    # Step 2: Choose the reference group (group with the lowest FNR)\n",
    "    reference_group = fnr_by_group.idxmin()\n",
    "    reference_fnr = fnr_by_group[reference_group]\n",
    "\n",
    "    # Step 3: Calculate FNR difference relative to the reference group\n",
    "    fnr_difference = fnr_by_group - reference_fnr\n",
    "\n",
    "    # Display the results\n",
    "    print('FALSE NEGATIVE RATE DIFFERENCE')\n",
    "    print(\"False Negative Rates by age group:\")\n",
    "    print(fnr_by_group)\n",
    "    print(f\"\\nReference group: {reference_group} with FNR {reference_fnr}\")\n",
    "    print(\"\\nFalse Negative Rate Differences relative to the reference group:\")\n",
    "    print(fnr_difference)\n",
    "    print('-------------------------')\n"
   ]
  },
  {
   "cell_type": "code",
   "execution_count": null,
   "metadata": {},
   "outputs": [
    {
     "name": "stdout",
     "output_type": "stream",
     "text": [
      "Overall accuracy: 0.6805946381230716\n",
      "Demographic Parity Difference: 0.3272220749744558\n",
      "Equalized Odds Difference: 0.4597254447693404\n",
      "-------------------------\n",
      "DISPARATE IMPACT\n",
      "Positive prediction rates by age group:\n",
      "demographic_age_group\n",
      "0    0.293847\n",
      "1    0.325268\n",
      "2    0.337571\n",
      "3    0.310383\n",
      "4    0.010349\n",
      "dtype: float64\n",
      "\n",
      "Reference group: 2 with rate 0.3375714533171661\n",
      "\n",
      "Disparate Impact Ratios relative to the reference group:\n",
      "demographic_age_group\n",
      "0    0.870474\n",
      "1    0.963552\n",
      "2    1.000000\n",
      "3    0.919458\n",
      "4    0.030658\n",
      "dtype: float64\n",
      "-------------------------\n",
      "FALSE NEGATIVE RATE DIFFERENCE\n",
      "False Negative Rates by age group:\n",
      "demographic_age_group\n",
      "0    0.590946\n",
      "1    0.534181\n",
      "2    0.525925\n",
      "3    0.603605\n",
      "4    0.985650\n",
      "dtype: float64\n",
      "\n",
      "Reference group: 2 with FNR 0.5259247794459062\n",
      "\n",
      "False Negative Rate Differences relative to the reference group:\n",
      "demographic_age_group\n",
      "0    0.065021\n",
      "1    0.008256\n",
      "2    0.000000\n",
      "3    0.077681\n",
      "4    0.459725\n",
      "dtype: float64\n",
      "-------------------------\n"
     ]
    }
   ],
   "source": [
    "#calcuate the metrics of age group using the function\n",
    "demographic_data = df['age_group']\n",
    "age_group_fairness_metrics(y_true,y_pred_all,demographic_data)"
   ]
  },
  {
   "cell_type": "markdown",
   "metadata": {},
   "source": [
    "#### By this way, it can be seen how to calculate the fairness metrics step by step. From now, the fairness metrics of all 8 features for all 5 ML models: Logistic regression, Decision Tree (DT_gini), Random Forest (RF_entropy), K Nearest Neighbour(KNN 5neighbours) and Neural Network will be calculated as follows. "
   ]
  },
  {
   "cell_type": "markdown",
   "metadata": {},
   "source": [
    "#### Now, fairness metrics of features for the Logistics Regreession Model will be calculated using the functions. Although it is seen above, it will be calcuated again for better understanding and comparison."
   ]
  },
  {
   "cell_type": "code",
   "execution_count": 189,
   "metadata": {},
   "outputs": [],
   "source": [
    "y_true = y\n",
    "y_pred_all = log_reg_smt.predict(X)"
   ]
  },
  {
   "cell_type": "code",
   "execution_count": 190,
   "metadata": {},
   "outputs": [
    {
     "name": "stdout",
     "output_type": "stream",
     "text": [
      "Overall accuracy: 0.6805946381230716\n",
      "Demographic Parity Difference: 0.05475607108483968\n",
      "Equalized Odds Difference: 0.07318118474858931\n",
      "Disparate Impact: 1.017235651091653\n",
      "False Negative Rate for Privileged Group: 0.6533333333333333\n",
      "False Negative Rate for Unprivileged Group: 0.5801521485847441\n",
      "False Negative Rate Difference: 0.07318118474858926\n"
     ]
    }
   ],
   "source": [
    "demographic_data = df['Gender']\n",
    "calculate_bias(y_true, y_pred_all, demographic_data)"
   ]
  },
  {
   "cell_type": "code",
   "execution_count": 191,
   "metadata": {},
   "outputs": [
    {
     "name": "stdout",
     "output_type": "stream",
     "text": [
      "Overall accuracy: 0.6805946381230716\n",
      "Demographic Parity Difference: 0.050910164811717895\n",
      "Equalized Odds Difference: 0.07321340121927744\n",
      "Disparate Impact: 0.8343901382621783\n",
      "False Negative Rate for Privileged Group: 0.5407292474786657\n",
      "False Negative Rate for Unprivileged Group: 0.613942648697943\n",
      "False Negative Rate Difference: -0.07321340121927733\n"
     ]
    }
   ],
   "source": [
    "demographic_data = df['Scholarship']\n",
    "calculate_bias(y_true, y_pred_all, demographic_data)"
   ]
  },
  {
   "cell_type": "code",
   "execution_count": 192,
   "metadata": {},
   "outputs": [
    {
     "name": "stdout",
     "output_type": "stream",
     "text": [
      "Overall accuracy: 0.6805946381230716\n",
      "Demographic Parity Difference: 0.1268225673741279\n",
      "Equalized Odds Difference: 0.18794833325251134\n",
      "Disparate Impact: 1.2079857187633238\n",
      "False Negative Rate for Privileged Group: 0.7616648992576882\n",
      "False Negative Rate for Unprivileged Group: 0.5737165660051768\n",
      "False Negative Rate Difference: 0.18794833325251137\n"
     ]
    }
   ],
   "source": [
    "demographic_data = df['Hypertension']\n",
    "calculate_bias(y_true, y_pred_all, demographic_data)"
   ]
  },
  {
   "cell_type": "code",
   "execution_count": 193,
   "metadata": {},
   "outputs": [
    {
     "name": "stdout",
     "output_type": "stream",
     "text": [
      "Overall accuracy: 0.6805946381230716\n",
      "Demographic Parity Difference: 0.09640054370014206\n",
      "Equalized Odds Difference: 0.156277601551948\n",
      "Disparate Impact: 1.1309660586445083\n",
      "False Negative Rate for Privileged Group: 0.7517482517482518\n",
      "False Negative Rate for Unprivileged Group: 0.5954706501963037\n",
      "False Negative Rate Difference: 0.15627760155194803\n"
     ]
    }
   ],
   "source": [
    "demographic_data = df['Diabetes']\n",
    "calculate_bias(y_true, y_pred_all, demographic_data)"
   ]
  },
  {
   "cell_type": "code",
   "execution_count": 194,
   "metadata": {},
   "outputs": [
    {
     "name": "stdout",
     "output_type": "stream",
     "text": [
      "Overall accuracy: 0.6805946381230716\n",
      "Demographic Parity Difference: 0.0515898141248082\n",
      "Equalized Odds Difference: 0.06026508596702962\n",
      "Disparate Impact: 1.0021922452249095\n",
      "False Negative Rate for Privileged Group: 0.621861152141802\n",
      "False Negative Rate for Unprivileged Group: 0.6049725033504321\n",
      "False Negative Rate Difference: 0.016888648791369976\n"
     ]
    }
   ],
   "source": [
    "demographic_data = df['Alcoholism']\n",
    "calculate_bias(y_true, y_pred_all, demographic_data)"
   ]
  },
  {
   "cell_type": "code",
   "execution_count": 195,
   "metadata": {},
   "outputs": [
    {
     "name": "stdout",
     "output_type": "stream",
     "text": [
      "Overall accuracy: 0.6805946381230716\n",
      "Demographic Parity Difference: 0.1365216630048499\n",
      "Equalized Odds Difference: 0.18751378149863182\n",
      "Disparate Impact: 1.1204754567289317\n",
      "False Negative Rate for Privileged Group: 0.7896039603960396\n",
      "False Negative Rate for Unprivileged Group: 0.6020901788974078\n",
      "False Negative Rate Difference: 0.18751378149863185\n"
     ]
    }
   ],
   "source": [
    "demographic_data = df['Handicap']\n",
    "calculate_bias(y_true, y_pred_all, demographic_data)"
   ]
  },
  {
   "cell_type": "code",
   "execution_count": 196,
   "metadata": {},
   "outputs": [
    {
     "name": "stdout",
     "output_type": "stream",
     "text": [
      "Overall accuracy: 0.6805946381230716\n",
      "Demographic Parity Difference: 0.8622361263774978\n",
      "Equalized Odds Difference: 0.8998364677023712\n",
      "Disparate Impact: 0.6056294260940362\n",
      "False Negative Rate for Privileged Group: 0.10016353229762878\n",
      "False Negative Rate for Unprivileged Group: 1.0\n",
      "False Negative Rate Difference: -0.8998364677023712\n"
     ]
    }
   ],
   "source": [
    "demographic_data = df['SMS_received']\n",
    "calculate_bias(y_true, y_pred_all, demographic_data)"
   ]
  },
  {
   "cell_type": "code",
   "execution_count": 197,
   "metadata": {},
   "outputs": [
    {
     "name": "stdout",
     "output_type": "stream",
     "text": [
      "Overall accuracy: 0.6805946381230716\n",
      "Demographic Parity Difference: 0.3272220749744558\n",
      "Equalized Odds Difference: 0.4597254447693404\n",
      "-------------------------\n",
      "DISPARATE IMPACT\n",
      "Positive prediction rates by age group:\n",
      "demographic_age_group\n",
      "0    0.293847\n",
      "1    0.325268\n",
      "2    0.337571\n",
      "3    0.310383\n",
      "4    0.010349\n",
      "dtype: float64\n",
      "\n",
      "Reference group: 2 with rate 0.3375714533171661\n",
      "\n",
      "Disparate Impact Ratios relative to the reference group:\n",
      "demographic_age_group\n",
      "0    0.870474\n",
      "1    0.963552\n",
      "2    1.000000\n",
      "3    0.919458\n",
      "4    0.030658\n",
      "dtype: float64\n",
      "-------------------------\n",
      "FALSE NEGATIVE RATE DIFFERENCE\n",
      "False Negative Rates by age group:\n",
      "demographic_age_group\n",
      "0    0.590946\n",
      "1    0.534181\n",
      "2    0.525925\n",
      "3    0.603605\n",
      "4    0.985650\n",
      "dtype: float64\n",
      "\n",
      "Reference group: 2 with FNR 0.5259247794459062\n",
      "\n",
      "False Negative Rate Differences relative to the reference group:\n",
      "demographic_age_group\n",
      "0    0.065021\n",
      "1    0.008256\n",
      "2    0.000000\n",
      "3    0.077681\n",
      "4    0.459725\n",
      "dtype: float64\n",
      "-------------------------\n"
     ]
    }
   ],
   "source": [
    "demographic_data = df['age_group']\n",
    "age_group_fairness_metrics(y_true,y_pred_all,demographic_data)"
   ]
  },
  {
   "cell_type": "markdown",
   "metadata": {},
   "source": [
    "### Now, fairness metrics of features for the Decision Tree Model will be calculated using the functions.  "
   ]
  },
  {
   "cell_type": "code",
   "execution_count": 151,
   "metadata": {},
   "outputs": [],
   "source": [
    "y_true = y\n",
    "y_pred_all = DT_gini_smt.predict(X)"
   ]
  },
  {
   "cell_type": "code",
   "execution_count": 152,
   "metadata": {},
   "outputs": [
    {
     "name": "stdout",
     "output_type": "stream",
     "text": [
      "Overall accuracy: 0.6655658200703939\n",
      "Demographic Parity Difference: 0.04269283544224922\n",
      "Equalized Odds Difference: 0.06165359281855487\n",
      "Disparate Impact: 1.017235651091653\n",
      "False Negative Rate for Privileged Group: 0.6186407766990292\n",
      "False Negative Rate for Unprivileged Group: 0.5569871838804743\n",
      "False Negative Rate Difference: 0.06165359281855487\n"
     ]
    }
   ],
   "source": [
    "demographic_data = df['Gender']\n",
    "calculate_bias(y_true, y_pred_all, demographic_data)"
   ]
  },
  {
   "cell_type": "code",
   "execution_count": 154,
   "metadata": {},
   "outputs": [
    {
     "name": "stdout",
     "output_type": "stream",
     "text": [
      "Overall accuracy: 0.6655658200703939\n",
      "Demographic Parity Difference: 0.012484122658231234\n",
      "Equalized Odds Difference: 0.034617099205173474\n",
      "Disparate Impact: 0.8343901382621783\n",
      "False Negative Rate for Privileged Group: 0.547711404189294\n",
      "False Negative Rate for Unprivileged Group: 0.5823285033944675\n",
      "False Negative Rate Difference: -0.03461709920517353\n"
     ]
    }
   ],
   "source": [
    "demographic_data = df['Scholarship']\n",
    "calculate_bias(y_true, y_pred_all, demographic_data)"
   ]
  },
  {
   "cell_type": "code",
   "execution_count": 155,
   "metadata": {},
   "outputs": [
    {
     "name": "stdout",
     "output_type": "stream",
     "text": [
      "Overall accuracy: 0.6655658200703939\n",
      "Demographic Parity Difference: 0.011023565369182808\n",
      "Equalized Odds Difference: 0.024279914467376817\n",
      "Disparate Impact: 1.2079857187633238\n",
      "False Negative Rate for Privileged Group: 0.5946447507953341\n",
      "False Negative Rate for Unprivileged Group: 0.5750107851596203\n",
      "False Negative Rate Difference: 0.019633965635713735\n"
     ]
    }
   ],
   "source": [
    "demographic_data = df['Hypertension']\n",
    "calculate_bias(y_true, y_pred_all, demographic_data)"
   ]
  },
  {
   "cell_type": "code",
   "execution_count": 156,
   "metadata": {},
   "outputs": [
    {
     "name": "stdout",
     "output_type": "stream",
     "text": [
      "Overall accuracy: 0.6655658200703939\n",
      "Demographic Parity Difference: 0.021317770198275632\n",
      "Equalized Odds Difference: 0.06424914738617699\n",
      "Disparate Impact: 1.1309660586445083\n",
      "False Negative Rate for Privileged Group: 0.6384615384615384\n",
      "False Negative Rate for Unprivileged Group: 0.5742123910753615\n",
      "False Negative Rate Difference: 0.06424914738617693\n"
     ]
    }
   ],
   "source": [
    "demographic_data = df['Diabetes']\n",
    "calculate_bias(y_true, y_pred_all, demographic_data)"
   ]
  },
  {
   "cell_type": "code",
   "execution_count": 157,
   "metadata": {},
   "outputs": [
    {
     "name": "stdout",
     "output_type": "stream",
     "text": [
      "Overall accuracy: 0.6655658200703939\n",
      "Demographic Parity Difference: 0.06949836772084372\n",
      "Equalized Odds Difference: 0.0775470449990383\n",
      "Disparate Impact: 1.0021922452249095\n",
      "False Negative Rate for Privileged Group: 0.6144756277695717\n",
      "False Negative Rate for Unprivileged Group: 0.5771985766440224\n",
      "False Negative Rate Difference: 0.03727705112554924\n"
     ]
    }
   ],
   "source": [
    "demographic_data = df['Alcoholism']\n",
    "calculate_bias(y_true, y_pred_all, demographic_data)"
   ]
  },
  {
   "cell_type": "code",
   "execution_count": 158,
   "metadata": {},
   "outputs": [
    {
     "name": "stdout",
     "output_type": "stream",
     "text": [
      "Overall accuracy: 0.6655658200703939\n",
      "Demographic Parity Difference: 0.06085100279440342\n",
      "Equalized Odds Difference: 0.07904209095608361\n",
      "Disparate Impact: 1.1204754567289317\n",
      "False Negative Rate for Privileged Group: 0.655940594059406\n",
      "False Negative Rate for Unprivileged Group: 0.5768985031033224\n",
      "False Negative Rate Difference: 0.07904209095608361\n"
     ]
    }
   ],
   "source": [
    "demographic_data = df['Handicap']\n",
    "calculate_bias(y_true, y_pred_all, demographic_data)"
   ]
  },
  {
   "cell_type": "code",
   "execution_count": 160,
   "metadata": {},
   "outputs": [
    {
     "name": "stdout",
     "output_type": "stream",
     "text": [
      "Overall accuracy: 0.6655658200703939\n",
      "Demographic Parity Difference: 0.9417561800997549\n",
      "Equalized Odds Difference: 0.9599542913395999\n",
      "Disparate Impact: 0.6056294260940362\n",
      "False Negative Rate for Privileged Group: 0.039247751430907606\n",
      "False Negative Rate for Unprivileged Group: 0.9992020427705075\n",
      "False Negative Rate Difference: -0.9599542913395999\n"
     ]
    }
   ],
   "source": [
    "demographic_data = df['SMS_received']\n",
    "calculate_bias(y_true, y_pred_all, demographic_data)"
   ]
  },
  {
   "cell_type": "code",
   "execution_count": 161,
   "metadata": {},
   "outputs": [
    {
     "name": "stdout",
     "output_type": "stream",
     "text": [
      "Overall accuracy: 0.6655658200703939\n",
      "Demographic Parity Difference: 0.16913358431667988\n",
      "Equalized Odds Difference: 0.24851468243750185\n",
      "-------------------------\n",
      "DISPARATE IMPACT\n",
      "Positive prediction rates by age group:\n",
      "demographic_age_group\n",
      "0    0.294707\n",
      "1    0.323626\n",
      "2    0.337571\n",
      "3    0.330388\n",
      "4    0.168438\n",
      "dtype: float64\n",
      "\n",
      "Reference group: 2 with rate 0.3375714533171661\n",
      "\n",
      "Disparate Impact Ratios relative to the reference group:\n",
      "demographic_age_group\n",
      "0    0.873021\n",
      "1    0.958689\n",
      "2    1.000000\n",
      "3    0.978721\n",
      "4    0.498970\n",
      "dtype: float64\n",
      "-------------------------\n",
      "FALSE NEGATIVE RATE DIFFERENCE\n",
      "False Negative Rates by age group:\n",
      "demographic_age_group\n",
      "0    0.589931\n",
      "1    0.535876\n",
      "2    0.525925\n",
      "3    0.577244\n",
      "4    0.774439\n",
      "dtype: float64\n",
      "\n",
      "Reference group: 2 with FNR 0.5259247794459062\n",
      "\n",
      "False Negative Rate Differences relative to the reference group:\n",
      "demographic_age_group\n",
      "0    0.064006\n",
      "1    0.009951\n",
      "2    0.000000\n",
      "3    0.051319\n",
      "4    0.248515\n",
      "dtype: float64\n",
      "-------------------------\n"
     ]
    }
   ],
   "source": [
    "demographic_data = df['age_group']\n",
    "age_group_fairness_metrics(y_true,y_pred_all,demographic_data)"
   ]
  },
  {
   "cell_type": "markdown",
   "metadata": {},
   "source": [
    "### Now, fairness metrics of features for the Random Forest Model will be calculated using the functions.  "
   ]
  },
  {
   "cell_type": "code",
   "execution_count": 162,
   "metadata": {},
   "outputs": [],
   "source": [
    "y_true = y\n",
    "y_pred_all = RF_entropy_smt.predict(X)"
   ]
  },
  {
   "cell_type": "code",
   "execution_count": 163,
   "metadata": {},
   "outputs": [
    {
     "name": "stdout",
     "output_type": "stream",
     "text": [
      "Overall accuracy: 0.6733019064250233\n",
      "Demographic Parity Difference: 0.005185998346844689\n",
      "Equalized Odds Difference: 0.013649288174494234\n",
      "Disparate Impact: 1.017235651091653\n",
      "False Negative Rate for Privileged Group: 0.5981877022653722\n",
      "False Negative Rate for Unprivileged Group: 0.5845384140908779\n",
      "False Negative Rate Difference: 0.01364928817449429\n"
     ]
    }
   ],
   "source": [
    "demographic_data = df['Gender']\n",
    "calculate_bias(y_true, y_pred_all, demographic_data)"
   ]
  },
  {
   "cell_type": "code",
   "execution_count": 164,
   "metadata": {},
   "outputs": [
    {
     "name": "stdout",
     "output_type": "stream",
     "text": [
      "Overall accuracy: 0.6733019064250233\n",
      "Demographic Parity Difference: 0.1567585836406899\n",
      "Equalized Odds Difference: 0.1776703048885317\n",
      "Disparate Impact: 0.8343901382621783\n",
      "False Negative Rate for Privileged Group: 0.4321179208688906\n",
      "False Negative Rate for Unprivileged Group: 0.6097882257574222\n",
      "False Negative Rate Difference: -0.17767030488853158\n"
     ]
    }
   ],
   "source": [
    "demographic_data = df['Scholarship']\n",
    "calculate_bias(y_true, y_pred_all, demographic_data)"
   ]
  },
  {
   "cell_type": "code",
   "execution_count": 165,
   "metadata": {},
   "outputs": [
    {
     "name": "stdout",
     "output_type": "stream",
     "text": [
      "Overall accuracy: 0.6733019064250233\n",
      "Demographic Parity Difference: 0.20675334356573316\n",
      "Equalized Odds Difference: 0.2773386068913396\n",
      "Disparate Impact: 1.2079857187633238\n",
      "False Negative Rate for Privileged Group: 0.8197242841993637\n",
      "False Negative Rate for Unprivileged Group: 0.5423856773080241\n",
      "False Negative Rate Difference: 0.2773386068913396\n"
     ]
    }
   ],
   "source": [
    "demographic_data = df['Hypertension']\n",
    "calculate_bias(y_true, y_pred_all, demographic_data)"
   ]
  },
  {
   "cell_type": "code",
   "execution_count": 166,
   "metadata": {},
   "outputs": [
    {
     "name": "stdout",
     "output_type": "stream",
     "text": [
      "Overall accuracy: 0.6733019064250233\n",
      "Demographic Parity Difference: 0.11674185046453209\n",
      "Equalized Odds Difference: 0.17734568409661775\n",
      "Disparate Impact: 1.1309660586445083\n",
      "False Negative Rate for Privileged Group: 0.7552447552447552\n",
      "False Negative Rate for Unprivileged Group: 0.5778990711481375\n",
      "False Negative Rate Difference: 0.17734568409661766\n"
     ]
    }
   ],
   "source": [
    "demographic_data = df['Diabetes']\n",
    "calculate_bias(y_true, y_pred_all, demographic_data)"
   ]
  },
  {
   "cell_type": "code",
   "execution_count": 167,
   "metadata": {},
   "outputs": [
    {
     "name": "stdout",
     "output_type": "stream",
     "text": [
      "Overall accuracy: 0.6733019064250233\n",
      "Demographic Parity Difference: 0.02749854635726129\n",
      "Equalized Odds Difference: 0.04547605011700609\n",
      "Disparate Impact: 1.0021922452249095\n",
      "False Negative Rate for Privileged Group: 0.5465288035450517\n",
      "False Negative Rate for Unprivileged Group: 0.5906003050048524\n",
      "False Negative Rate Difference: -0.044071501459800655\n"
     ]
    }
   ],
   "source": [
    "demographic_data = df['Alcoholism']\n",
    "calculate_bias(y_true, y_pred_all, demographic_data)"
   ]
  },
  {
   "cell_type": "code",
   "execution_count": 168,
   "metadata": {},
   "outputs": [
    {
     "name": "stdout",
     "output_type": "stream",
     "text": [
      "Overall accuracy: 0.6733019064250233\n",
      "Demographic Parity Difference: 0.14335097839623606\n",
      "Equalized Odds Difference: 0.14099468471033919\n",
      "Disparate Impact: 1.1204754567289317\n",
      "False Negative Rate for Privileged Group: 0.7227722772277227\n",
      "False Negative Rate for Unprivileged Group: 0.586801752464403\n",
      "False Negative Rate Difference: 0.13597052476331972\n"
     ]
    }
   ],
   "source": [
    "demographic_data = df['Handicap']\n",
    "calculate_bias(y_true, y_pred_all, demographic_data)"
   ]
  },
  {
   "cell_type": "code",
   "execution_count": 169,
   "metadata": {},
   "outputs": [
    {
     "name": "stdout",
     "output_type": "stream",
     "text": [
      "Overall accuracy: 0.6733019064250233\n",
      "Demographic Parity Difference: 0.8457904814096424\n",
      "Equalized Odds Difference: 0.8714964262216445\n",
      "Disparate Impact: 0.6056294260940362\n",
      "False Negative Rate for Privileged Group: 0.09985690923957481\n",
      "False Negative Rate for Unprivileged Group: 0.9713533354612193\n",
      "False Negative Rate Difference: -0.8714964262216445\n"
     ]
    }
   ],
   "source": [
    "demographic_data = df['SMS_received']\n",
    "calculate_bias(y_true, y_pred_all, demographic_data)"
   ]
  },
  {
   "cell_type": "code",
   "execution_count": 170,
   "metadata": {},
   "outputs": [
    {
     "name": "stdout",
     "output_type": "stream",
     "text": [
      "Overall accuracy: 0.6733019064250233\n",
      "Demographic Parity Difference: 0.25510133981109606\n",
      "Equalized Odds Difference: 0.3731113830273813\n",
      "-------------------------\n",
      "DISPARATE IMPACT\n",
      "Positive prediction rates by age group:\n",
      "demographic_age_group\n",
      "0    0.333663\n",
      "1    0.341256\n",
      "2    0.346648\n",
      "3    0.275340\n",
      "4    0.091547\n",
      "dtype: float64\n",
      "\n",
      "Reference group: 2 with rate 0.34664818984929846\n",
      "\n",
      "Disparate Impact Ratios relative to the reference group:\n",
      "demographic_age_group\n",
      "0    0.962541\n",
      "1    0.984445\n",
      "2    1.000000\n",
      "3    0.794293\n",
      "4    0.264092\n",
      "dtype: float64\n",
      "-------------------------\n",
      "FALSE NEGATIVE RATE DIFFERENCE\n",
      "False Negative Rates by age group:\n",
      "demographic_age_group\n",
      "0    0.545270\n",
      "1    0.517232\n",
      "2    0.514781\n",
      "3    0.644892\n",
      "4    0.887892\n",
      "dtype: float64\n",
      "\n",
      "Reference group: 2 with FNR 0.5147809936542331\n",
      "\n",
      "False Negative Rate Differences relative to the reference group:\n",
      "demographic_age_group\n",
      "0    0.030489\n",
      "1    0.002451\n",
      "2    0.000000\n",
      "3    0.130111\n",
      "4    0.373111\n",
      "dtype: float64\n",
      "-------------------------\n"
     ]
    }
   ],
   "source": [
    "demographic_data = df['age_group']\n",
    "age_group_fairness_metrics(y_true,y_pred_all,demographic_data)"
   ]
  },
  {
   "cell_type": "markdown",
   "metadata": {},
   "source": [
    "### Now, fairness metrics of features for the K Nearest Neighbours (5 neighbours) Model will be calculated using the functions.  "
   ]
  },
  {
   "cell_type": "code",
   "execution_count": 171,
   "metadata": {},
   "outputs": [],
   "source": [
    "y_true = y\n",
    "y_pred_all = KNN_5neighbours_smt.predict(X)"
   ]
  },
  {
   "cell_type": "code",
   "execution_count": 172,
   "metadata": {},
   "outputs": [
    {
     "name": "stdout",
     "output_type": "stream",
     "text": [
      "Overall accuracy: 0.7849458473955176\n",
      "Demographic Parity Difference: 0.003438373059641297\n",
      "Equalized Odds Difference: 0.0250659991451928\n",
      "Disparate Impact: 1.017235651091653\n",
      "False Negative Rate for Privileged Group: 0.9403236245954693\n",
      "False Negative Rate for Unprivileged Group: 0.9653896237406621\n",
      "False Negative Rate Difference: -0.025065999145192808\n"
     ]
    }
   ],
   "source": [
    "demographic_data = df['Gender']\n",
    "calculate_bias(y_true, y_pred_all, demographic_data)"
   ]
  },
  {
   "cell_type": "code",
   "execution_count": 173,
   "metadata": {},
   "outputs": [
    {
     "name": "stdout",
     "output_type": "stream",
     "text": [
      "Overall accuracy: 0.7849458473955176\n",
      "Demographic Parity Difference: 0.034149699808924044\n",
      "Equalized Odds Difference: 0.04798091617725171\n",
      "Disparate Impact: 0.8343901382621783\n",
      "False Negative Rate for Privileged Group: 0.9142746314972847\n",
      "False Negative Rate for Unprivileged Group: 0.9622555476745365\n",
      "False Negative Rate Difference: -0.04798091617725175\n"
     ]
    }
   ],
   "source": [
    "demographic_data = df['Scholarship']\n",
    "calculate_bias(y_true, y_pred_all, demographic_data)"
   ]
  },
  {
   "cell_type": "code",
   "execution_count": 174,
   "metadata": {},
   "outputs": [
    {
     "name": "stdout",
     "output_type": "stream",
     "text": [
      "Overall accuracy: 0.7849458473955176\n",
      "Demographic Parity Difference: 0.014199187350429222\n",
      "Equalized Odds Difference: 0.0141675180459651\n",
      "Disparate Impact: 1.2079857187633238\n",
      "False Negative Rate for Privileged Group: 0.9660657476139979\n",
      "False Negative Rate for Unprivileged Group: 0.9548101811906816\n",
      "False Negative Rate Difference: 0.011255566423316266\n"
     ]
    }
   ],
   "source": [
    "demographic_data = df['Hypertension']\n",
    "calculate_bias(y_true, y_pred_all, demographic_data)"
   ]
  },
  {
   "cell_type": "code",
   "execution_count": 175,
   "metadata": {},
   "outputs": [
    {
     "name": "stdout",
     "output_type": "stream",
     "text": [
      "Overall accuracy: 0.7849458473955176\n",
      "Demographic Parity Difference: 0.018339794826868063\n",
      "Equalized Odds Difference: 0.018657489897060404\n",
      "Disparate Impact: 1.1309660586445083\n",
      "False Negative Rate for Privileged Group: 0.9706293706293706\n",
      "False Negative Rate for Unprivileged Group: 0.9557598391266877\n",
      "False Negative Rate Difference: 0.014869531502682887\n"
     ]
    }
   ],
   "source": [
    "demographic_data = df['Diabetes']\n",
    "calculate_bias(y_true, y_pred_all, demographic_data)"
   ]
  },
  {
   "cell_type": "code",
   "execution_count": 176,
   "metadata": {},
   "outputs": [
    {
     "name": "stdout",
     "output_type": "stream",
     "text": [
      "Overall accuracy: 0.7849458473955176\n",
      "Demographic Parity Difference: 0.02766285186819476\n",
      "Equalized Odds Difference: 0.06960721051621672\n",
      "Disparate Impact: 1.0021922452249095\n",
      "False Negative Rate for Privileged Group: 0.8892171344165436\n",
      "False Negative Rate for Unprivileged Group: 0.9588243449327603\n",
      "False Negative Rate Difference: -0.06960721051621666\n"
     ]
    }
   ],
   "source": [
    "demographic_data = df['Alcoholism']\n",
    "calculate_bias(y_true, y_pred_all, demographic_data)"
   ]
  },
  {
   "cell_type": "code",
   "execution_count": 177,
   "metadata": {},
   "outputs": [
    {
     "name": "stdout",
     "output_type": "stream",
     "text": [
      "Overall accuracy: 0.7849458473955176\n",
      "Demographic Parity Difference: 0.13209072875088468\n",
      "Equalized Odds Difference: 0.2533789523530666\n",
      "Disparate Impact: 1.1204754567289317\n",
      "False Negative Rate for Privileged Group: 0.7079207920792079\n",
      "False Negative Rate for Unprivileged Group: 0.9612997444322745\n",
      "False Negative Rate Difference: -0.2533789523530666\n"
     ]
    }
   ],
   "source": [
    "demographic_data = df['Handicap']\n",
    "calculate_bias(y_true, y_pred_all, demographic_data)"
   ]
  },
  {
   "cell_type": "code",
   "execution_count": 178,
   "metadata": {},
   "outputs": [
    {
     "name": "stdout",
     "output_type": "stream",
     "text": [
      "Overall accuracy: 0.7849458473955176\n",
      "Demographic Parity Difference: 0.08566157348757307\n",
      "Equalized Odds Difference: 0.08607928904639452\n",
      "Disparate Impact: 0.6056294260940362\n",
      "False Negative Rate for Privileged Group: 0.9102616516762061\n",
      "False Negative Rate for Unprivileged Group: 0.992977976380466\n",
      "False Negative Rate Difference: -0.08271632470425994\n"
     ]
    }
   ],
   "source": [
    "demographic_data = df['SMS_received']\n",
    "calculate_bias(y_true, y_pred_all, demographic_data)"
   ]
  },
  {
   "cell_type": "code",
   "execution_count": 179,
   "metadata": {},
   "outputs": [
    {
     "name": "stdout",
     "output_type": "stream",
     "text": [
      "Overall accuracy: 0.7849458473955176\n",
      "Demographic Parity Difference: 0.08243136907540151\n",
      "Equalized Odds Difference: 0.09853512242825703\n",
      "-------------------------\n",
      "DISPARATE IMPACT\n",
      "Positive prediction rates by age group:\n",
      "demographic_age_group\n",
      "0    0.020467\n",
      "1    0.074590\n",
      "2    0.007448\n",
      "3    0.011803\n",
      "4    0.089880\n",
      "dtype: float64\n",
      "\n",
      "Reference group: 4 with rate 0.08987983607696048\n",
      "\n",
      "Disparate Impact Ratios relative to the reference group:\n",
      "demographic_age_group\n",
      "0    0.227715\n",
      "1    0.829881\n",
      "2    0.082871\n",
      "3    0.131321\n",
      "4    1.000000\n",
      "dtype: float64\n",
      "-------------------------\n",
      "FALSE NEGATIVE RATE DIFFERENCE\n",
      "False Negative Rates by age group:\n",
      "demographic_age_group\n",
      "0    0.963662\n",
      "1    0.897175\n",
      "2    0.987773\n",
      "3    0.981198\n",
      "4    0.889238\n",
      "dtype: float64\n",
      "\n",
      "Reference group: 4 with FNR 0.889237668161435\n",
      "\n",
      "False Negative Rate Differences relative to the reference group:\n",
      "demographic_age_group\n",
      "0    0.074425\n",
      "1    0.007937\n",
      "2    0.098535\n",
      "3    0.091960\n",
      "4    0.000000\n",
      "dtype: float64\n",
      "-------------------------\n"
     ]
    }
   ],
   "source": [
    "demographic_data = df['age_group']\n",
    "age_group_fairness_metrics(y_true,y_pred_all,demographic_data)"
   ]
  },
  {
   "cell_type": "markdown",
   "metadata": {},
   "source": [
    "### Now, fairness metrics of features for the Neural Network Model will be calculated using the functions.  "
   ]
  },
  {
   "cell_type": "code",
   "execution_count": 180,
   "metadata": {},
   "outputs": [],
   "source": [
    "y_true = y\n",
    "y_pred_all = neural_network_smt.predict(X)"
   ]
  },
  {
   "cell_type": "code",
   "execution_count": 181,
   "metadata": {},
   "outputs": [
    {
     "name": "stdout",
     "output_type": "stream",
     "text": [
      "Overall accuracy: 0.64932456275278\n",
      "Demographic Parity Difference: 0.04169406390804842\n",
      "Equalized Odds Difference: 0.043071815106657196\n",
      "Disparate Impact: 1.017235651091653\n",
      "False Negative Rate for Privileged Group: 0.5143042071197411\n",
      "False Negative Rate for Unprivileged Group: 0.5532177369611404\n",
      "False Negative Rate Difference: -0.038913529841399286\n"
     ]
    }
   ],
   "source": [
    "demographic_data = df['Gender']\n",
    "calculate_bias(y_true, y_pred_all, demographic_data)"
   ]
  },
  {
   "cell_type": "code",
   "execution_count": 182,
   "metadata": {},
   "outputs": [
    {
     "name": "stdout",
     "output_type": "stream",
     "text": [
      "Overall accuracy: 0.64932456275278\n",
      "Demographic Parity Difference: 0.19692768875182892\n",
      "Equalized Odds Difference: 0.2015050772568278\n",
      "Disparate Impact: 0.8343901382621783\n",
      "False Negative Rate for Privileged Group: 0.36152055857253684\n",
      "False Negative Rate for Unprivileged Group: 0.5630256358293647\n",
      "False Negative Rate Difference: -0.20150507725682787\n"
     ]
    }
   ],
   "source": [
    "demographic_data = df['Scholarship']\n",
    "calculate_bias(y_true, y_pred_all, demographic_data)"
   ]
  },
  {
   "cell_type": "code",
   "execution_count": 183,
   "metadata": {},
   "outputs": [
    {
     "name": "stdout",
     "output_type": "stream",
     "text": [
      "Overall accuracy: 0.64932456275278\n",
      "Demographic Parity Difference: 0.12547468463399694\n",
      "Equalized Odds Difference: 0.1723034470422357\n",
      "Disparate Impact: 1.2079857187633238\n",
      "False Negative Rate for Privileged Group: 0.6829268292682927\n",
      "False Negative Rate for Unprivileged Group: 0.510623382226057\n",
      "False Negative Rate Difference: 0.17230344704223577\n"
     ]
    }
   ],
   "source": [
    "demographic_data = df['Hypertension']\n",
    "calculate_bias(y_true, y_pred_all, demographic_data)"
   ]
  },
  {
   "cell_type": "code",
   "execution_count": 184,
   "metadata": {},
   "outputs": [
    {
     "name": "stdout",
     "output_type": "stream",
     "text": [
      "Overall accuracy: 0.64932456275278\n",
      "Demographic Parity Difference: 0.049771109533479796\n",
      "Equalized Odds Difference: 0.08604626246108577\n",
      "Disparate Impact: 1.1309660586445083\n",
      "False Negative Rate for Privileged Group: 0.6202797202797202\n",
      "False Negative Rate for Unprivileged Group: 0.5342334578186345\n",
      "False Negative Rate Difference: 0.08604626246108571\n"
     ]
    }
   ],
   "source": [
    "demographic_data = df['Diabetes']\n",
    "calculate_bias(y_true, y_pred_all, demographic_data)"
   ]
  },
  {
   "cell_type": "code",
   "execution_count": 185,
   "metadata": {},
   "outputs": [
    {
     "name": "stdout",
     "output_type": "stream",
     "text": [
      "Overall accuracy: 0.64932456275278\n",
      "Demographic Parity Difference: 0.07898988271319385\n",
      "Equalized Odds Difference: 0.09399580117325224\n",
      "Disparate Impact: 1.0021922452249095\n",
      "False Negative Rate for Privileged Group: 0.5583456425406204\n",
      "False Negative Rate for Unprivileged Group: 0.5391653958131152\n",
      "False Negative Rate Difference: 0.01918024672750518\n"
     ]
    }
   ],
   "source": [
    "demographic_data = df['Alcoholism']\n",
    "calculate_bias(y_true, y_pred_all, demographic_data)"
   ]
  },
  {
   "cell_type": "code",
   "execution_count": 186,
   "metadata": {},
   "outputs": [
    {
     "name": "stdout",
     "output_type": "stream",
     "text": [
      "Overall accuracy: 0.64932456275278\n",
      "Demographic Parity Difference: 0.1371315841633485\n",
      "Equalized Odds Difference: 0.136556107459306\n",
      "Disparate Impact: 1.1204754567289317\n",
      "False Negative Rate for Privileged Group: 0.6584158415841584\n",
      "False Negative Rate for Unprivileged Group: 0.5375593282219788\n",
      "False Negative Rate Difference: 0.12085651336217962\n"
     ]
    }
   ],
   "source": [
    "demographic_data = df['Handicap']\n",
    "calculate_bias(y_true, y_pred_all, demographic_data)"
   ]
  },
  {
   "cell_type": "code",
   "execution_count": 187,
   "metadata": {},
   "outputs": [
    {
     "name": "stdout",
     "output_type": "stream",
     "text": [
      "Overall accuracy: 0.64932456275278\n",
      "Demographic Parity Difference: 0.8269354419335758\n",
      "Equalized Odds Difference: 0.8337370966466484\n",
      "Disparate Impact: 0.6056294260940362\n",
      "False Negative Rate for Privileged Group: 0.07154538021259199\n",
      "False Negative Rate for Unprivileged Group: 0.9052824768592403\n",
      "False Negative Rate Difference: -0.8337370966466484\n"
     ]
    }
   ],
   "source": [
    "demographic_data = df['SMS_received']\n",
    "calculate_bias(y_true, y_pred_all, demographic_data)"
   ]
  },
  {
   "cell_type": "code",
   "execution_count": 188,
   "metadata": {},
   "outputs": [
    {
     "name": "stdout",
     "output_type": "stream",
     "text": [
      "Overall accuracy: 0.64932456275278\n",
      "Demographic Parity Difference: 0.5297505621784457\n",
      "Equalized Odds Difference: 0.6024435661624992\n",
      "-------------------------\n",
      "DISPARATE IMPACT\n",
      "Positive prediction rates by age group:\n",
      "demographic_age_group\n",
      "0    0.335641\n",
      "1    0.596431\n",
      "2    0.348276\n",
      "3    0.327021\n",
      "4    0.066681\n",
      "dtype: float64\n",
      "\n",
      "Reference group: 1 with rate 0.5964311206281228\n",
      "\n",
      "Disparate Impact Ratios relative to the reference group:\n",
      "demographic_age_group\n",
      "0    0.562749\n",
      "1    1.000000\n",
      "2    0.583934\n",
      "3    0.548296\n",
      "4    0.111799\n",
      "dtype: float64\n",
      "-------------------------\n",
      "FALSE NEGATIVE RATE DIFFERENCE\n",
      "False Negative Rates by age group:\n",
      "demographic_age_group\n",
      "0    0.544458\n",
      "1    0.295763\n",
      "2    0.512614\n",
      "3    0.581702\n",
      "4    0.898206\n",
      "dtype: float64\n",
      "\n",
      "Reference group: 1 with FNR 0.2957627118644068\n",
      "\n",
      "False Negative Rate Differences relative to the reference group:\n",
      "demographic_age_group\n",
      "0    0.248695\n",
      "1    0.000000\n",
      "2    0.216851\n",
      "3    0.285939\n",
      "4    0.602444\n",
      "dtype: float64\n",
      "-------------------------\n"
     ]
    }
   ],
   "source": [
    "demographic_data = df['age_group']\n",
    "age_group_fairness_metrics(y_true,y_pred_all,demographic_data)"
   ]
  },
  {
   "cell_type": "markdown",
   "metadata": {},
   "source": [
    "### SHAP visualization is done to know the impact of each feature on the model.(It is optional)"
   ]
  },
  {
   "cell_type": "code",
   "execution_count": 142,
   "metadata": {},
   "outputs": [
    {
     "name": "stderr",
     "output_type": "stream",
     "text": [
      "c:\\Users\\drpra\\AppData\\Local\\Programs\\Python\\Python312\\Lib\\site-packages\\tqdm\\auto.py:21: TqdmWarning: IProgress not found. Please update jupyter and ipywidgets. See https://ipywidgets.readthedocs.io/en/stable/user_install.html\n",
      "  from .autonotebook import tqdm as notebook_tqdm\n"
     ]
    }
   ],
   "source": [
    "import shap"
   ]
  },
  {
   "cell_type": "code",
   "execution_count": 143,
   "metadata": {},
   "outputs": [],
   "source": [
    "# Create a SHAP explainer for linear models\n",
    "explainer = shap.LinearExplainer(log_reg, X_train)  # For linear models\n",
    "\n",
    "# Calculate SHAP values\n",
    "shap_values = explainer.shap_values(X_test)"
   ]
  },
  {
   "cell_type": "code",
   "execution_count": 144,
   "metadata": {},
   "outputs": [
    {
     "data": {
      "text/plain": [
       "(22106, 8)"
      ]
     },
     "execution_count": 144,
     "metadata": {},
     "output_type": "execute_result"
    }
   ],
   "source": [
    "shap_values.shape"
   ]
  },
  {
   "cell_type": "code",
   "execution_count": 145,
   "metadata": {},
   "outputs": [],
   "source": [
    "feat_names=list(X.columns)"
   ]
  },
  {
   "cell_type": "code",
   "execution_count": 146,
   "metadata": {},
   "outputs": [
    {
     "data": {
      "text/plain": [
       "['Gender',\n",
       " 'age_group',\n",
       " 'Scholarship',\n",
       " 'Hypertension',\n",
       " 'Diabetes',\n",
       " 'Alcoholism',\n",
       " 'Handicap',\n",
       " 'SMS_received']"
      ]
     },
     "execution_count": 146,
     "metadata": {},
     "output_type": "execute_result"
    }
   ],
   "source": [
    "feat_names"
   ]
  },
  {
   "cell_type": "code",
   "execution_count": 147,
   "metadata": {},
   "outputs": [],
   "source": [
    "X_train = np.array(X_train, dtype=np.float64)\n",
    "X_test = np.array(X_test, dtype=np.float64)\n",
    "\n",
    "# Create SHAP explainer for linear models\n",
    "explainer = shap.LinearExplainer(log_reg, X_train)\n",
    "\n",
    "# Calculate SHAP values\n",
    "shap_values = explainer.shap_values(X_test)"
   ]
  },
  {
   "cell_type": "markdown",
   "metadata": {},
   "source": [
    "### Visulization "
   ]
  },
  {
   "cell_type": "code",
   "execution_count": 148,
   "metadata": {},
   "outputs": [
    {
     "data": {
      "image/png": "[encoded data removed]",
      "text/plain": [
       "<Figure size 800x470 with 2 Axes>"
      ]
     },
     "metadata": {},
     "output_type": "display_data"
    }
   ],
   "source": [
    "shap.summary_plot(shap_values, X_test, feature_names=feat_names)"
   ]
  },
  {
   "cell_type": "markdown",
   "metadata": {},
   "source": [
    "This SHAP summary plot shows the impact of features on the model’s predictions:\n",
    "\n",
    "Y-axis: Lists features, ordered by their overall impact.\n",
    "X-axis (SHAP values): Indicates impact direction; positive values increase predictions, negative values decrease them.\n",
    "Color: Represents feature values (red = high, blue = low).\n",
    "Key insights:\n",
    "\n",
    "SMS_received: Lower values reduce predictions.\n",
    "Scholarship: Higher values increase predictions.\n",
    "Gender, Alcoholism, Handicap: Vary in impact, depending on value."
   ]
  },
  {
   "cell_type": "code",
   "execution_count": null,
   "metadata": {},
   "outputs": [],
   "source": []
  }
 ],
 "metadata": {
  "kernelspec": {
   "display_name": "Python 3",
   "language": "python",
   "name": "python3"
  },
  "language_info": {
   "codemirror_mode": {
    "name": "ipython",
    "version": 3
   },
   "file_extension": ".py",
   "mimetype": "text/x-python",
   "name": "python",
   "nbconvert_exporter": "python",
   "pygments_lexer": "ipython3",
   "version": "3.12.4"
  }
 },
 "nbformat": 4,
 "nbformat_minor": 2
}
