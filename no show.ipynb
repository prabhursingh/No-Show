{
 "cells": [
  {
   "cell_type": "markdown",
   "metadata": {},
   "source": [
    "Dataset appears to be related to healthcare appointments, potentially for predicting no-shows.\n",
    "\n",
    "Research Question\n"
   ]
  },
  {
   "cell_type": "markdown",
   "metadata": {},
   "source": [
    "Which demographic factors affect biases in Machine Learning prediction models for no-show in healthcare appointments?\n",
    "\n",
    "Which techniques can be used to mitigate these biases?"
   ]
  },
  {
   "cell_type": "code",
   "execution_count": 63,
   "metadata": {},
   "outputs": [],
   "source": [
    "# Import required libraries\n",
    "import pandas as pd\n",
    "import numpy as np\n",
    "import matplotlib.pyplot as plt\n",
    "import seaborn as sns\n",
    "from sklearn.preprocessing import LabelEncoder\n",
    "import math\n",
    "\n",
    "\n"
   ]
  },
  {
   "cell_type": "code",
   "execution_count": 64,
   "metadata": {},
   "outputs": [],
   "source": [
    "import pandas as pd\n",
    "df = pd.read_csv(r\"D:\\Daily file\\Semester 3\\Group Project\\KaggleV2-May-.csv\")\n",
    "\n",
    "\n"
   ]
  },
  {
   "cell_type": "markdown",
   "metadata": {},
   "source": [
    "# General Data Overview"
   ]
  },
  {
   "cell_type": "code",
   "execution_count": 65,
   "metadata": {},
   "outputs": [
    {
     "name": "stdout",
     "output_type": "stream",
     "text": [
      "\n",
      "Data Overview\n",
      "Shape of dataset: (110527, 14)\n",
      "Columns: Index(['PatientId', 'AppointmentID', 'Gender', 'ScheduledDay',\n",
      "       'AppointmentDay', 'Age', 'Neighbourhood', 'Scholarship', 'Hypertension',\n",
      "       'Diabetes', 'Alcoholism', 'Handicap', 'SMS_received', 'No-show'],\n",
      "      dtype='object')\n",
      "      PatientId  AppointmentID Gender          ScheduledDay  \\\n",
      "0  2.990000e+13        5642903      F  2016-04-29T18:38:08Z   \n",
      "1  5.590000e+14        5642503      M  2016-04-29T16:08:27Z   \n",
      "2  4.260000e+12        5642549      F  2016-04-29T16:19:04Z   \n",
      "3  8.680000e+11        5642828      F  2016-04-29T17:29:31Z   \n",
      "4  8.840000e+12        5642494      F  2016-04-29T16:07:23Z   \n",
      "\n",
      "         AppointmentDay  Age      Neighbourhood  Scholarship  Hypertension  \\\n",
      "0  2016-04-29T00:00:00Z   62    JARDIM DA PENHA            0             1   \n",
      "1  2016-04-29T00:00:00Z   56    JARDIM DA PENHA            0             0   \n",
      "2  2016-04-29T00:00:00Z   62      MATA DA PRAIA            0             0   \n",
      "3  2016-04-29T00:00:00Z    8  PONTAL DE CAMBURI            0             0   \n",
      "4  2016-04-29T00:00:00Z   56    JARDIM DA PENHA            0             1   \n",
      "\n",
      "   Diabetes  Alcoholism  Handicap  SMS_received No-show  \n",
      "0         0           0         0             0      No  \n",
      "1         0           0         0             0      No  \n",
      "2         0           0         0             0      No  \n",
      "3         0           0         0             0      No  \n",
      "4         1           0         0             0      No  \n"
     ]
    }
   ],
   "source": [
    "print(\"\\nData Overview\")\n",
    "print(\"Shape of dataset:\", df.shape)\n",
    "print(\"Columns:\", df.columns)\n",
    "print(df.head())"
   ]
  },
  {
   "cell_type": "markdown",
   "metadata": {},
   "source": [
    "# Data Information and Summary"
   ]
  },
  {
   "cell_type": "code",
   "execution_count": 66,
   "metadata": {},
   "outputs": [
    {
     "name": "stdout",
     "output_type": "stream",
     "text": [
      "\n",
      "Dataset Information\n",
      "<class 'pandas.core.frame.DataFrame'>\n",
      "RangeIndex: 110527 entries, 0 to 110526\n",
      "Data columns (total 14 columns):\n",
      " #   Column          Non-Null Count   Dtype  \n",
      "---  ------          --------------   -----  \n",
      " 0   PatientId       110527 non-null  float64\n",
      " 1   AppointmentID   110527 non-null  int64  \n",
      " 2   Gender          110527 non-null  object \n",
      " 3   ScheduledDay    110527 non-null  object \n",
      " 4   AppointmentDay  110527 non-null  object \n",
      " 5   Age             110527 non-null  int64  \n",
      " 6   Neighbourhood   110527 non-null  object \n",
      " 7   Scholarship     110527 non-null  int64  \n",
      " 8   Hypertension    110527 non-null  int64  \n",
      " 9   Diabetes        110527 non-null  int64  \n",
      " 10  Alcoholism      110527 non-null  int64  \n",
      " 11  Handicap        110527 non-null  int64  \n",
      " 12  SMS_received    110527 non-null  int64  \n",
      " 13  No-show         110527 non-null  object \n",
      "dtypes: float64(1), int64(8), object(5)\n",
      "memory usage: 11.8+ MB\n"
     ]
    }
   ],
   "source": [
    "\n",
    "print(\"\\nDataset Information\")\n",
    "df.info()"
   ]
  },
  {
   "cell_type": "code",
   "execution_count": 67,
   "metadata": {},
   "outputs": [
    {
     "name": "stdout",
     "output_type": "stream",
     "text": [
      "\n",
      "Summary Statistics\n",
      "          PatientId  AppointmentID            Age    Scholarship  \\\n",
      "count  1.105270e+05   1.105270e+05  110527.000000  110527.000000   \n",
      "mean   1.474961e+14   5.675305e+06      37.088874       0.098266   \n",
      "std    2.560943e+14   7.129575e+04      23.110205       0.297675   \n",
      "min    3.920000e+04   5.030230e+06      -1.000000       0.000000   \n",
      "25%    4.170000e+12   5.640286e+06      18.000000       0.000000   \n",
      "50%    3.170000e+13   5.680573e+06      37.000000       0.000000   \n",
      "75%    9.440000e+13   5.725524e+06      55.000000       0.000000   \n",
      "max    1.000000e+15   5.790484e+06     115.000000       1.000000   \n",
      "\n",
      "        Hypertension       Diabetes     Alcoholism       Handicap  \\\n",
      "count  110527.000000  110527.000000  110527.000000  110527.000000   \n",
      "mean        0.197246       0.071865       0.030400       0.022248   \n",
      "std         0.397921       0.258265       0.171686       0.161543   \n",
      "min         0.000000       0.000000       0.000000       0.000000   \n",
      "25%         0.000000       0.000000       0.000000       0.000000   \n",
      "50%         0.000000       0.000000       0.000000       0.000000   \n",
      "75%         0.000000       0.000000       0.000000       0.000000   \n",
      "max         1.000000       1.000000       1.000000       4.000000   \n",
      "\n",
      "        SMS_received  \n",
      "count  110527.000000  \n",
      "mean        0.321026  \n",
      "std         0.466873  \n",
      "min         0.000000  \n",
      "25%         0.000000  \n",
      "50%         0.000000  \n",
      "75%         1.000000  \n",
      "max         1.000000  \n"
     ]
    }
   ],
   "source": [
    "print(\"\\nSummary Statistics\")\n",
    "print(df.describe())"
   ]
  },
  {
   "cell_type": "markdown",
   "metadata": {},
   "source": [
    "# Check for Missing Values\n"
   ]
  },
  {
   "cell_type": "code",
   "execution_count": 68,
   "metadata": {},
   "outputs": [
    {
     "name": "stdout",
     "output_type": "stream",
     "text": [
      "\n",
      "Missing Values Count\n",
      "PatientId         0\n",
      "AppointmentID     0\n",
      "Gender            0\n",
      "ScheduledDay      0\n",
      "AppointmentDay    0\n",
      "Age               0\n",
      "Neighbourhood     0\n",
      "Scholarship       0\n",
      "Hypertension      0\n",
      "Diabetes          0\n",
      "Alcoholism        0\n",
      "Handicap          0\n",
      "SMS_received      0\n",
      "No-show           0\n",
      "dtype: int64\n"
     ]
    }
   ],
   "source": [
    "print(\"\\nMissing Values Count\")\n",
    "print(df.isnull().sum())"
   ]
  },
  {
   "cell_type": "markdown",
   "metadata": {},
   "source": [
    "# Unique Values and Data Types"
   ]
  },
  {
   "cell_type": "code",
   "execution_count": 69,
   "metadata": {},
   "outputs": [
    {
     "name": "stdout",
     "output_type": "stream",
     "text": [
      "\n",
      "Unique values in PatientId: 6100\n",
      "[2.99000000e+13 5.59000000e+14 4.26000000e+12 ... 3.36537936e+10\n",
      " 3.32769558e+09 9.48159186e+10]\n",
      "\n",
      "Unique values in AppointmentID: 110527\n",
      "[5642903 5642503 5642549 ... 5630692 5630323 5629448]\n",
      "\n",
      "Unique values in Gender: 2\n",
      "['F' 'M']\n",
      "\n",
      "Unique values in ScheduledDay: 103549\n",
      "['2016-04-29T18:38:08Z' '2016-04-29T16:08:27Z' '2016-04-29T16:19:04Z' ...\n",
      " '2016-04-27T16:03:52Z' '2016-04-27T15:09:23Z' '2016-04-27T13:30:56Z']\n",
      "\n",
      "Unique values in AppointmentDay: 27\n",
      "['2016-04-29T00:00:00Z' '2016-05-03T00:00:00Z' '2016-05-10T00:00:00Z'\n",
      " '2016-05-17T00:00:00Z' '2016-05-24T00:00:00Z' '2016-05-31T00:00:00Z'\n",
      " '2016-05-02T00:00:00Z' '2016-05-30T00:00:00Z' '2016-05-16T00:00:00Z'\n",
      " '2016-05-04T00:00:00Z' '2016-05-19T00:00:00Z' '2016-05-12T00:00:00Z'\n",
      " '2016-05-06T00:00:00Z' '2016-05-20T00:00:00Z' '2016-05-05T00:00:00Z'\n",
      " '2016-05-13T00:00:00Z' '2016-05-09T00:00:00Z' '2016-05-25T00:00:00Z'\n",
      " '2016-05-11T00:00:00Z' '2016-05-18T00:00:00Z' '2016-05-14T00:00:00Z'\n",
      " '2016-06-02T00:00:00Z' '2016-06-03T00:00:00Z' '2016-06-06T00:00:00Z'\n",
      " '2016-06-07T00:00:00Z' '2016-06-01T00:00:00Z' '2016-06-08T00:00:00Z']\n",
      "\n",
      "Unique values in Age: 104\n",
      "[ 62  56   8  76  23  39  21  19  30  29  22  28  54  15  50  40  46   4\n",
      "  13  65  45  51  32  12  61  38  79  18  63  64  85  59  55  71  49  78\n",
      "  31  58  27   6   2  11   7   0   3   1  69  68  60  67  36  10  35  20\n",
      "  26  34  33  16  42   5  47  17  41  44  37  24  66  77  81  70  53  75\n",
      "  73  52  74  43  89  57  14   9  48  83  72  25  80  87  88  84  82  90\n",
      "  94  86  91  98  92  96  93  95  97 102 115 100  99  -1]\n",
      "\n",
      "Unique values in Neighbourhood: 81\n",
      "['JARDIM DA PENHA' 'MATA DA PRAIA' 'PONTAL DE CAMBURI' 'REPÚBLICA'\n",
      " 'GOIABEIRAS' 'ANDORINHAS' 'CONQUISTA' 'NOVA PALESTINA' 'DA PENHA'\n",
      " 'TABUAZEIRO' 'BENTO FERREIRA' 'SÃO PEDRO' 'SANTA MARTHA' 'SÃO CRISTÓVÃO'\n",
      " 'MARUÍPE' 'GRANDE VITÓRIA' 'SÃO BENEDITO' 'ILHA DAS CAIEIRAS'\n",
      " 'SANTO ANDRÉ' 'SOLON BORGES' 'BONFIM' 'JARDIM CAMBURI' 'MARIA ORTIZ'\n",
      " 'JABOUR' 'ANTÔNIO HONÓRIO' 'RESISTÊNCIA' 'ILHA DE SANTA MARIA'\n",
      " 'JUCUTUQUARA' 'MONTE BELO' 'MÁRIO CYPRESTE' 'SANTO ANTÔNIO' 'BELA VISTA'\n",
      " 'PRAIA DO SUÁ' 'SANTA HELENA' 'ITARARÉ' 'INHANGUETÁ' 'UNIVERSITÁRIO'\n",
      " 'SÃO JOSÉ' 'REDENÇÃO' 'SANTA CLARA' 'CENTRO' 'PARQUE MOSCOSO'\n",
      " 'DO MOSCOSO' 'SANTOS DUMONT' 'CARATOÍRA' 'ARIOVALDO FAVALESSA'\n",
      " 'ILHA DO FRADE' 'GURIGICA' 'JOANA D´ARC' 'CONSOLAÇÃO' 'PRAIA DO CANTO'\n",
      " 'BOA VISTA' 'MORADA DE CAMBURI' 'SANTA LUÍZA' 'SANTA LÚCIA'\n",
      " 'BARRO VERMELHO' 'ESTRELINHA' 'FORTE SÃO JOÃO' 'FONTE GRANDE'\n",
      " 'ENSEADA DO SUÁ' 'SANTOS REIS' 'PIEDADE' 'JESUS DE NAZARETH'\n",
      " 'SANTA TEREZA' 'CRUZAMENTO' 'ILHA DO PRÍNCIPE' 'ROMÃO' 'COMDUSA'\n",
      " 'SANTA CECÍLIA' 'VILA RUBIM' 'DE LOURDES' 'DO QUADRO' 'DO CABRAL' 'HORTO'\n",
      " 'SEGURANÇA DO LAR' 'ILHA DO BOI' 'FRADINHOS' 'NAZARETH' 'AEROPORTO'\n",
      " 'ILHAS OCEÂNICAS DE TRINDADE' 'PARQUE INDUSTRIAL']\n",
      "\n",
      "Unique values in Scholarship: 2\n",
      "[0 1]\n",
      "\n",
      "Unique values in Hypertension: 2\n",
      "[1 0]\n",
      "\n",
      "Unique values in Diabetes: 2\n",
      "[0 1]\n",
      "\n",
      "Unique values in Alcoholism: 2\n",
      "[0 1]\n",
      "\n",
      "Unique values in Handicap: 5\n",
      "[0 1 2 3 4]\n",
      "\n",
      "Unique values in SMS_received: 2\n",
      "[0 1]\n",
      "\n",
      "Unique values in No-show: 2\n",
      "['No' 'Yes']\n"
     ]
    }
   ],
   "source": [
    "\n",
    "for column in df.columns:\n",
    "    print(f\"\\nUnique values in {column}: {df[column].nunique()}\")\n",
    "    print(df[column].unique())"
   ]
  },
  {
   "cell_type": "code",
   "execution_count": 70,
   "metadata": {},
   "outputs": [
    {
     "data": {
      "text/plain": [
       "PatientId         float64\n",
       "AppointmentID       int64\n",
       "Gender             object\n",
       "ScheduledDay       object\n",
       "AppointmentDay     object\n",
       "Age                 int64\n",
       "Neighbourhood      object\n",
       "Scholarship         int64\n",
       "Hypertension        int64\n",
       "Diabetes            int64\n",
       "Alcoholism          int64\n",
       "Handicap            int64\n",
       "SMS_received        int64\n",
       "No-show            object\n",
       "dtype: object"
      ]
     },
     "execution_count": 70,
     "metadata": {},
     "output_type": "execute_result"
    }
   ],
   "source": [
    "df.dtypes"
   ]
  },
  {
   "cell_type": "markdown",
   "metadata": {},
   "source": [
    "### convert data type"
   ]
  },
  {
   "cell_type": "code",
   "execution_count": 71,
   "metadata": {},
   "outputs": [
    {
     "data": {
      "text/plain": [
       "PatientId          float64\n",
       "AppointmentID        int64\n",
       "Gender              object\n",
       "ScheduledDay        object\n",
       "AppointmentDay      object\n",
       "Age                  int64\n",
       "Neighbourhood     category\n",
       "Scholarship           bool\n",
       "Hypertension          bool\n",
       "Diabetes              bool\n",
       "Alcoholism            bool\n",
       "Handicap              bool\n",
       "SMS_received          bool\n",
       "No-show             object\n",
       "dtype: object"
      ]
     },
     "execution_count": 71,
     "metadata": {},
     "output_type": "execute_result"
    }
   ],
   "source": [
    "df[\"Neighbourhood\"] = df[\"Neighbourhood\"].astype(\"category\")\n",
    "df['Scholarship'] = df['Scholarship'].astype(bool)\n",
    "df['Hypertension'] = df['Hypertension'].astype(bool)\n",
    "df['Diabetes'] = df['Diabetes'].astype(bool)\n",
    "df['Alcoholism'] = df['Alcoholism'].astype(bool)\n",
    "df['Handicap'] = df['Handicap'].astype(bool)\n",
    "df['SMS_received'] = df['SMS_received'].astype(bool)\n",
    "\n",
    "df.dtypes"
   ]
  },
  {
   "cell_type": "code",
   "execution_count": 72,
   "metadata": {},
   "outputs": [],
   "source": [
    "df['Gender']= df['Gender'].map({'M': 1, 'F': 0})"
   ]
  },
  {
   "cell_type": "code",
   "execution_count": 73,
   "metadata": {},
   "outputs": [
    {
     "data": {
      "text/html": [
       "<div>\n",
       "<style scoped>\n",
       "    .dataframe tbody tr th:only-of-type {\n",
       "        vertical-align: middle;\n",
       "    }\n",
       "\n",
       "    .dataframe tbody tr th {\n",
       "        vertical-align: top;\n",
       "    }\n",
       "\n",
       "    .dataframe thead th {\n",
       "        text-align: right;\n",
       "    }\n",
       "</style>\n",
       "<table border=\"1\" class=\"dataframe\">\n",
       "  <thead>\n",
       "    <tr style=\"text-align: right;\">\n",
       "      <th></th>\n",
       "      <th>PatientId</th>\n",
       "      <th>AppointmentID</th>\n",
       "      <th>Gender</th>\n",
       "      <th>ScheduledDay</th>\n",
       "      <th>AppointmentDay</th>\n",
       "      <th>Age</th>\n",
       "      <th>Neighbourhood</th>\n",
       "      <th>Scholarship</th>\n",
       "      <th>Hypertension</th>\n",
       "      <th>Diabetes</th>\n",
       "      <th>Alcoholism</th>\n",
       "      <th>Handicap</th>\n",
       "      <th>SMS_received</th>\n",
       "      <th>No-show</th>\n",
       "      <th>age_group</th>\n",
       "    </tr>\n",
       "  </thead>\n",
       "  <tbody>\n",
       "    <tr>\n",
       "      <th>0</th>\n",
       "      <td>2.990000e+13</td>\n",
       "      <td>5642903</td>\n",
       "      <td>0</td>\n",
       "      <td>2016-04-29T18:38:08Z</td>\n",
       "      <td>2016-04-29T00:00:00Z</td>\n",
       "      <td>62</td>\n",
       "      <td>JARDIM DA PENHA</td>\n",
       "      <td>False</td>\n",
       "      <td>True</td>\n",
       "      <td>False</td>\n",
       "      <td>False</td>\n",
       "      <td>False</td>\n",
       "      <td>False</td>\n",
       "      <td>No</td>\n",
       "      <td>45-64</td>\n",
       "    </tr>\n",
       "    <tr>\n",
       "      <th>1</th>\n",
       "      <td>5.590000e+14</td>\n",
       "      <td>5642503</td>\n",
       "      <td>1</td>\n",
       "      <td>2016-04-29T16:08:27Z</td>\n",
       "      <td>2016-04-29T00:00:00Z</td>\n",
       "      <td>56</td>\n",
       "      <td>JARDIM DA PENHA</td>\n",
       "      <td>False</td>\n",
       "      <td>False</td>\n",
       "      <td>False</td>\n",
       "      <td>False</td>\n",
       "      <td>False</td>\n",
       "      <td>False</td>\n",
       "      <td>No</td>\n",
       "      <td>45-64</td>\n",
       "    </tr>\n",
       "    <tr>\n",
       "      <th>2</th>\n",
       "      <td>4.260000e+12</td>\n",
       "      <td>5642549</td>\n",
       "      <td>0</td>\n",
       "      <td>2016-04-29T16:19:04Z</td>\n",
       "      <td>2016-04-29T00:00:00Z</td>\n",
       "      <td>62</td>\n",
       "      <td>MATA DA PRAIA</td>\n",
       "      <td>False</td>\n",
       "      <td>False</td>\n",
       "      <td>False</td>\n",
       "      <td>False</td>\n",
       "      <td>False</td>\n",
       "      <td>False</td>\n",
       "      <td>No</td>\n",
       "      <td>45-64</td>\n",
       "    </tr>\n",
       "    <tr>\n",
       "      <th>3</th>\n",
       "      <td>8.680000e+11</td>\n",
       "      <td>5642828</td>\n",
       "      <td>0</td>\n",
       "      <td>2016-04-29T17:29:31Z</td>\n",
       "      <td>2016-04-29T00:00:00Z</td>\n",
       "      <td>8</td>\n",
       "      <td>PONTAL DE CAMBURI</td>\n",
       "      <td>False</td>\n",
       "      <td>False</td>\n",
       "      <td>False</td>\n",
       "      <td>False</td>\n",
       "      <td>False</td>\n",
       "      <td>False</td>\n",
       "      <td>No</td>\n",
       "      <td>under 15</td>\n",
       "    </tr>\n",
       "    <tr>\n",
       "      <th>4</th>\n",
       "      <td>8.840000e+12</td>\n",
       "      <td>5642494</td>\n",
       "      <td>0</td>\n",
       "      <td>2016-04-29T16:07:23Z</td>\n",
       "      <td>2016-04-29T00:00:00Z</td>\n",
       "      <td>56</td>\n",
       "      <td>JARDIM DA PENHA</td>\n",
       "      <td>False</td>\n",
       "      <td>True</td>\n",
       "      <td>True</td>\n",
       "      <td>False</td>\n",
       "      <td>False</td>\n",
       "      <td>False</td>\n",
       "      <td>No</td>\n",
       "      <td>45-64</td>\n",
       "    </tr>\n",
       "  </tbody>\n",
       "</table>\n",
       "</div>"
      ],
      "text/plain": [
       "      PatientId  AppointmentID  Gender          ScheduledDay  \\\n",
       "0  2.990000e+13        5642903       0  2016-04-29T18:38:08Z   \n",
       "1  5.590000e+14        5642503       1  2016-04-29T16:08:27Z   \n",
       "2  4.260000e+12        5642549       0  2016-04-29T16:19:04Z   \n",
       "3  8.680000e+11        5642828       0  2016-04-29T17:29:31Z   \n",
       "4  8.840000e+12        5642494       0  2016-04-29T16:07:23Z   \n",
       "\n",
       "         AppointmentDay  Age      Neighbourhood  Scholarship  Hypertension  \\\n",
       "0  2016-04-29T00:00:00Z   62    JARDIM DA PENHA        False          True   \n",
       "1  2016-04-29T00:00:00Z   56    JARDIM DA PENHA        False         False   \n",
       "2  2016-04-29T00:00:00Z   62      MATA DA PRAIA        False         False   \n",
       "3  2016-04-29T00:00:00Z    8  PONTAL DE CAMBURI        False         False   \n",
       "4  2016-04-29T00:00:00Z   56    JARDIM DA PENHA        False          True   \n",
       "\n",
       "   Diabetes  Alcoholism  Handicap  SMS_received No-show age_group  \n",
       "0     False       False     False         False      No     45-64  \n",
       "1     False       False     False         False      No     45-64  \n",
       "2     False       False     False         False      No     45-64  \n",
       "3     False       False     False         False      No  under 15  \n",
       "4      True       False     False         False      No     45-64  "
      ]
     },
     "execution_count": 73,
     "metadata": {},
     "output_type": "execute_result"
    }
   ],
   "source": [
    "# Define age bins and corresponding labels for Medium Level classification\n",
    "bins = [-1, 14, 24, 44, 64, 105]\n",
    "labels = ['under 15', '15-24', '25-44', '45-64', '65+']\n",
    "\n",
    "# Apply the binning and labeling to the 'Age' column\n",
    "df['age_group'] = pd.cut(df['Age'], bins=bins, labels=labels)\n",
    "\n",
    "# Display the first few rows to check the result\n",
    "df.head()\n"
   ]
  },
  {
   "cell_type": "markdown",
   "metadata": {},
   "source": [
    "# Univariate Analysis - Categorical Features\n"
   ]
  },
  {
   "cell_type": "code",
   "execution_count": 74,
   "metadata": {},
   "outputs": [
    {
     "name": "stdout",
     "output_type": "stream",
     "text": [
      "\n",
      "Value counts for Neighbourhood:\n",
      "Neighbourhood\n",
      "JARDIM CAMBURI                 7717\n",
      "MARIA ORTIZ                    5805\n",
      "RESISTÊNCIA                    4431\n",
      "JARDIM DA PENHA                3877\n",
      "ITARARÉ                        3514\n",
      "                               ... \n",
      "ILHA DO BOI                      35\n",
      "ILHA DO FRADE                    10\n",
      "AEROPORTO                         8\n",
      "ILHAS OCEÂNICAS DE TRINDADE       2\n",
      "PARQUE INDUSTRIAL                 1\n",
      "Name: count, Length: 81, dtype: int64\n"
     ]
    },
    {
     "data": {
      "image/png": "[encoded data removed]",
      "text/plain": [
       "<Figure size 1000x500 with 1 Axes>"
      ]
     },
     "metadata": {},
     "output_type": "display_data"
    },
    {
     "name": "stdout",
     "output_type": "stream",
     "text": [
      "\n",
      "Value counts for age_group:\n",
      "age_group\n",
      "45-64       29992\n",
      "25-44       28865\n",
      "under 15    23257\n",
      "65+         14397\n",
      "15-24       14010\n",
      "Name: count, dtype: int64\n"
     ]
    },
    {
     "data": {
      "image/png": "[encoded data removed]",
      "text/plain": [
       "<Figure size 1000x500 with 1 Axes>"
      ]
     },
     "metadata": {},
     "output_type": "display_data"
    }
   ],
   "source": [
    "categorical_cols = df.select_dtypes(include=['category']).columns\n",
    "for col in categorical_cols:\n",
    "    # Get the value counts for the column\n",
    "    value_counts = df[col].value_counts()\n",
    "    print(f\"\\nValue counts for {col}:\")\n",
    "    print(value_counts)\n",
    "    \n",
    "    # Plot the value counts, limiting to the top 10 categories for faster plotting\n",
    "    plt.figure(figsize=(10, 5))\n",
    "    sns.countplot(x=col, data=df, order=value_counts.index[:10])\n",
    "    plt.title(f\"Distribution of {col}\")\n",
    "    plt.xticks(rotation=45)\n",
    "    plt.show(block=False)\n",
    "    plt.pause(0.1)\n",
    "    plt.close()"
   ]
  },
  {
   "cell_type": "markdown",
   "metadata": {},
   "source": [
    "# Univariate Analysis - Numerical Features"
   ]
  },
  {
   "cell_type": "code",
   "execution_count": 75,
   "metadata": {},
   "outputs": [
    {
     "data": {
      "image/png": "[encoded data removed]",
      "text/plain": [
       "<Figure size 1500x500 with 2 Axes>"
      ]
     },
     "metadata": {},
     "output_type": "display_data"
    }
   ],
   "source": [
    "# Select numerical columns from the DataFrame\n",
    "numerical_cols = df.select_dtypes(include=['int64', 'float64']).columns\n",
    "\n",
    "# List of columns to exclude from plotting\n",
    "exclude_cols = ['PatientId', 'AppointmentID']\n",
    "\n",
    "# Filter out the columns you want to exclude\n",
    "filtered_numerical_cols = [col for col in numerical_cols if col not in exclude_cols]\n",
    "\n",
    "# Set up the figure for subplots\n",
    "num_plots = len(filtered_numerical_cols)\n",
    "cols = 3  # Number of columns for the subplot grid\n",
    "rows = math.ceil(num_plots / cols)  # Calculate the number of rows needed\n",
    "\n",
    "fig, axes = plt.subplots(rows, cols, figsize=(15, rows * 5))\n",
    "axes = axes.flatten()  # Flatten the axes array for easy indexing\n",
    "\n",
    "# Iterate through each filtered numerical column and plot\n",
    "for i, col in enumerate(filtered_numerical_cols):\n",
    "    sns.histplot(df[col], kde=True, ax=axes[i])\n",
    "    axes[i].set_title(f\"Distribution of {col}\")\n",
    "\n",
    "# Remove any empty subplots\n",
    "for j in range(i + 1, len(axes)):\n",
    "    fig.delaxes(axes[j])\n",
    "\n",
    "plt.tight_layout()\n",
    "plt.show()\n"
   ]
  },
  {
   "cell_type": "markdown",
   "metadata": {},
   "source": [
    "# Bivariate Analysis - Target vs Features\n"
   ]
  },
  {
   "cell_type": "code",
   "execution_count": 76,
   "metadata": {},
   "outputs": [
    {
     "name": "stdout",
     "output_type": "stream",
     "text": [
      "Feature: Gender, Unique values: [0, 1]\n",
      "Categories (2, int64): [0, 1]\n",
      "Target: No-show, Unique values: ['No' 'Yes']\n"
     ]
    },
    {
     "data": {
      "image/png": "[encoded data removed]",
      "text/plain": [
       "<Figure size 1000x500 with 1 Axes>"
      ]
     },
     "metadata": {},
     "output_type": "display_data"
    },
    {
     "name": "stdout",
     "output_type": "stream",
     "text": [
      "Feature: age_group, Unique values: ['45-64', 'under 15', '65+', '15-24', '25-44', NaN]\n",
      "Categories (5, object): ['under 15' < '15-24' < '25-44' < '45-64' < '65+']\n",
      "Target: No-show, Unique values: ['No' 'Yes']\n"
     ]
    },
    {
     "data": {
      "image/png": "[encoded data removed]",
      "text/plain": [
       "<Figure size 1000x500 with 1 Axes>"
      ]
     },
     "metadata": {},
     "output_type": "display_data"
    },
    {
     "name": "stdout",
     "output_type": "stream",
     "text": [
      "Feature: Scholarship, Unique values: [False, True]\n",
      "Categories (2, bool): [False, True]\n",
      "Target: No-show, Unique values: ['No' 'Yes']\n"
     ]
    },
    {
     "data": {
      "image/png": "[encoded data removed]",
      "text/plain": [
       "<Figure size 1000x500 with 1 Axes>"
      ]
     },
     "metadata": {},
     "output_type": "display_data"
    },
    {
     "name": "stdout",
     "output_type": "stream",
     "text": [
      "Feature: Hypertension, Unique values: [True, False]\n",
      "Categories (2, bool): [False, True]\n",
      "Target: No-show, Unique values: ['No' 'Yes']\n"
     ]
    },
    {
     "data": {
      "image/png": "[encoded data removed]",
      "text/plain": [
       "<Figure size 1000x500 with 1 Axes>"
      ]
     },
     "metadata": {},
     "output_type": "display_data"
    },
    {
     "name": "stdout",
     "output_type": "stream",
     "text": [
      "Feature: Diabetes, Unique values: [False, True]\n",
      "Categories (2, bool): [False, True]\n",
      "Target: No-show, Unique values: ['No' 'Yes']\n"
     ]
    },
    {
     "data": {
      "image/png": "[encoded data removed]",
      "text/plain": [
       "<Figure size 1000x500 with 1 Axes>"
      ]
     },
     "metadata": {},
     "output_type": "display_data"
    },
    {
     "name": "stdout",
     "output_type": "stream",
     "text": [
      "Feature: Alcoholism, Unique values: [False, True]\n",
      "Categories (2, bool): [False, True]\n",
      "Target: No-show, Unique values: ['No' 'Yes']\n"
     ]
    },
    {
     "data": {
      "image/png": "[encoded data removed]",
      "text/plain": [
       "<Figure size 1000x500 with 1 Axes>"
      ]
     },
     "metadata": {},
     "output_type": "display_data"
    },
    {
     "name": "stdout",
     "output_type": "stream",
     "text": [
      "Feature: Handicap, Unique values: [False, True]\n",
      "Categories (2, bool): [False, True]\n",
      "Target: No-show, Unique values: ['No' 'Yes']\n"
     ]
    },
    {
     "data": {
      "image/png": "[encoded data removed]",
      "text/plain": [
       "<Figure size 1000x500 with 1 Axes>"
      ]
     },
     "metadata": {},
     "output_type": "display_data"
    },
    {
     "name": "stdout",
     "output_type": "stream",
     "text": [
      "Feature: SMS_received, Unique values: [False, True]\n",
      "Categories (2, bool): [False, True]\n",
      "Target: No-show, Unique values: ['No' 'Yes']\n"
     ]
    },
    {
     "data": {
      "image/png": "[encoded data removed]",
      "text/plain": [
       "<Figure size 1000x500 with 1 Axes>"
      ]
     },
     "metadata": {},
     "output_type": "display_data"
    }
   ],
   "source": [
    "if 'No-show' in df.columns:\n",
    "    target = 'No-show'\n",
    "    features = ['Gender', 'age_group', 'Scholarship', 'Hypertension', 'Diabetes', 'Alcoholism', 'Handicap', 'SMS_received']\n",
    "\n",
    "    # Convert features to categorical where necessary\n",
    "    for col in features:\n",
    "        if col in df.columns:\n",
    "            df[col] = df[col].astype('category')\n",
    "    \n",
    "    # Iterate through each feature\n",
    "    for col in features:\n",
    "        if col in df.columns:\n",
    "            # Print unique values for each feature to check for issues\n",
    "            print(f\"Feature: {col}, Unique values: {df[col].unique()}\")\n",
    "            print(f\"Target: {target}, Unique values: {df[target].unique()}\")\n",
    "\n",
    "            # Drop rows with NaN values in target and feature columns\n",
    "            df_subset = df.dropna(subset=[target, col])\n",
    "\n",
    "            # Proceed to plot only if data is available\n",
    "            if not df_subset.empty:\n",
    "                plt.figure(figsize=(10, 5))\n",
    "                sns.countplot(x=target, hue=col, data=df_subset)  # Removed order to check the actual categories\n",
    "                plt.title(f\"Relationship between No-show and {col}\")\n",
    "                plt.xticks(rotation=45)\n",
    "                plt.show()"
   ]
  },
  {
   "cell_type": "markdown",
   "metadata": {},
   "source": []
  },
  {
   "cell_type": "code",
   "execution_count": 77,
   "metadata": {},
   "outputs": [
    {
     "data": {
      "text/plain": [
       "PatientId          float64\n",
       "AppointmentID        int64\n",
       "Gender            category\n",
       "ScheduledDay        object\n",
       "AppointmentDay      object\n",
       "Age                  int64\n",
       "Neighbourhood     category\n",
       "Scholarship       category\n",
       "Hypertension      category\n",
       "Diabetes          category\n",
       "Alcoholism        category\n",
       "Handicap          category\n",
       "SMS_received      category\n",
       "No-show             object\n",
       "age_group         category\n",
       "dtype: object"
      ]
     },
     "execution_count": 77,
     "metadata": {},
     "output_type": "execute_result"
    }
   ],
   "source": [
    "df.dtypes"
   ]
  },
  {
   "cell_type": "code",
   "execution_count": 78,
   "metadata": {},
   "outputs": [],
   "source": [
    "# Define categorical columns, including 'No-show'\n",
    "categorical_cols = ['Gender', 'age_group', 'Scholarship', 'Hypertension', 'Diabetes', 'Alcoholism', 'Handicap', 'SMS_received']\n",
    "\n",
    "# Label encode categorical columns\n",
    "le = LabelEncoder()\n",
    "for col in categorical_cols:\n",
    "    if col in df.columns:\n",
    "        # Only apply encoding if the column is not numeric\n",
    "        if df[col].dtype == 'object' or df[col].dtype.name == 'category':\n",
    "            df[col] = le.fit_transform(df[col])\n",
    "\n",
    "# Select all numerical columns, including encoded categorical columns\n",
    "numerical_cols = df.select_dtypes(include=['int64', 'bool', 'float64']).columns"
   ]
  },
  {
   "cell_type": "code",
   "execution_count": 79,
   "metadata": {},
   "outputs": [
    {
     "data": {
      "text/plain": [
       "PatientId          float64\n",
       "AppointmentID        int64\n",
       "Gender               int64\n",
       "ScheduledDay        object\n",
       "AppointmentDay      object\n",
       "Age                  int64\n",
       "Neighbourhood     category\n",
       "Scholarship          int64\n",
       "Hypertension         int64\n",
       "Diabetes             int64\n",
       "Alcoholism           int64\n",
       "Handicap             int64\n",
       "SMS_received         int64\n",
       "No-show             object\n",
       "age_group            int32\n",
       "dtype: object"
      ]
     },
     "execution_count": 79,
     "metadata": {},
     "output_type": "execute_result"
    }
   ],
   "source": [
    "df.dtypes"
   ]
  },
  {
   "cell_type": "markdown",
   "metadata": {},
   "source": [
    "# Correlation Matrix for Numerical Features\n"
   ]
  },
  {
   "cell_type": "code",
   "execution_count": 80,
   "metadata": {},
   "outputs": [
    {
     "name": "stdout",
     "output_type": "stream",
     "text": [
      "0    0\n",
      "1    0\n",
      "2    0\n",
      "3    0\n",
      "4    0\n",
      "Name: No-show, dtype: int32\n"
     ]
    },
    {
     "data": {
      "image/png": "[encoded data removed]",
      "text/plain": [
       "<Figure size 1200x800 with 2 Axes>"
      ]
     },
     "metadata": {},
     "output_type": "display_data"
    }
   ],
   "source": [
    "# Define categorical columns, including 'No-show'\n",
    "categorical_cols = ['Gender', 'age_group', 'Scholarship', 'Hypertension', 'Diabetes', 'Alcoholism', 'Handicap', 'SMS_received', 'No-show']\n",
    "\n",
    "# Label encode categorical columns\n",
    "le = LabelEncoder()\n",
    "for col in categorical_cols:\n",
    "    if col in df.columns:\n",
    "        # Only apply encoding if the column is not numeric\n",
    "        if df[col].dtype == 'object' or df[col].dtype.name == 'category':\n",
    "            df[col] = le.fit_transform(df[col])\n",
    "\n",
    "# Explicitly check if 'No-show' is correctly encoded\n",
    "print(df['No-show'].head())  # Check first few values to verify encoding\n",
    "\n",
    "# Select all numerical columns, including encoded categorical columns\n",
    "numerical_cols = df.select_dtypes(include=['int64', 'bool', 'float64']).columns\n",
    "\n",
    "# Make sure 'No-show' is in the numerical columns list\n",
    "if 'No-show' not in numerical_cols:\n",
    "    numerical_cols = numerical_cols.append(pd.Index(['No-show']))\n",
    "\n",
    "# Correlation Matrix for Numerical Features including encoded categorical columns and 'No-show'\n",
    "plt.figure(figsize=(12, 8))\n",
    "sns.heatmap(df[numerical_cols].corr(), annot=True, cmap='coolwarm')\n",
    "plt.title(\"Correlation Matrix including Encoded Categorical Features and 'No-show'\")\n",
    "plt.show()\n"
   ]
  },
  {
   "cell_type": "code",
   "execution_count": 81,
   "metadata": {},
   "outputs": [
    {
     "data": {
      "image/png": "[encoded data removed]",
      "text/plain": [
       "<Figure size 1000x500 with 1 Axes>"
      ]
     },
     "metadata": {},
     "output_type": "display_data"
    }
   ],
   "source": [
    "# Plot a combined box plot\n",
    "df_melted = df[['Age', 'Hypertension', 'Diabetes']].melt(var_name='Feature', value_name='Value')\n",
    "plt.figure(figsize=(10, 5))\n",
    "sns.boxplot(x='Feature', y='Value', data=df_melted)\n",
    "plt.title(\"Box Plot for Age, Hypertension, and Diabetes\")\n",
    "plt.show()"
   ]
  },
  {
   "cell_type": "code",
   "execution_count": 82,
   "metadata": {},
   "outputs": [
    {
     "name": "stdout",
     "output_type": "stream",
     "text": [
      "\n",
      "Dataset after Encoding\n",
      "   Gender  age_group  Scholarship  Hypertension  Diabetes  Alcoholism  \\\n",
      "0       0          2            0             1         0           0   \n",
      "1       1          2            0             0         0           0   \n",
      "2       0          2            0             0         0           0   \n",
      "3       0          4            0             0         0           0   \n",
      "4       0          2            0             1         1           0   \n",
      "\n",
      "   Handicap  SMS_received  \n",
      "0         0             0  \n",
      "1         0             0  \n",
      "2         0             0  \n",
      "3         0             0  \n",
      "4         0             0  \n",
      "\n",
      "Summary Insights\n",
      "1. Description of trends seen in visualizations.\n",
      "2. Mention any noticeable relationships or outliers.\n",
      "3. Data quality issues or next steps for modeling.\n"
     ]
    }
   ],
   "source": [
    "# Feature Engineering and Transformation\n",
    "# Creating new features, encoding categorical variables, etc.\n",
    "# Example: One-hot encoding categorical variables\n",
    "if 'df' in locals() or 'df' in globals():\n",
    "    X = df[['Gender', 'age_group', 'Scholarship', 'Hypertension', 'Diabetes', 'Alcoholism', 'Handicap', 'SMS_received']]\n",
    "else:\n",
    "    raise NameError(\"DataFrame 'df' is not defined. Please run the previous cells to define 'df'.\")\n",
    "encoded_df = pd.get_dummies(X, drop_first=True)\n",
    "print(\"\\nDataset after Encoding\")\n",
    "print(encoded_df.head())\n",
    "\n",
    "# Summary Insights\n",
    "print(\"\\nSummary Insights\")\n",
    "print(\"1. Description of trends seen in visualizations.\")\n",
    "print(\"2. Mention any noticeable relationships or outliers.\")\n",
    "print(\"3. Data quality issues or next steps for modeling.\")"
   ]
  },
  {
   "cell_type": "markdown",
   "metadata": {},
   "source": []
  },
  {
   "cell_type": "code",
   "execution_count": 83,
   "metadata": {},
   "outputs": [
    {
     "data": {
      "text/plain": [
       "<bound method DataFrame.info of         Gender  age_group  Scholarship  Hypertension  Diabetes  Alcoholism  \\\n",
       "0            0          2            0             1         0           0   \n",
       "1            1          2            0             0         0           0   \n",
       "2            0          2            0             0         0           0   \n",
       "3            0          4            0             0         0           0   \n",
       "4            0          2            0             1         1           0   \n",
       "...        ...        ...          ...           ...       ...         ...   \n",
       "110522       0          2            0             0         0           0   \n",
       "110523       0          2            0             0         0           0   \n",
       "110524       0          0            0             0         0           0   \n",
       "110525       0          1            0             0         0           0   \n",
       "110526       0          2            0             0         0           0   \n",
       "\n",
       "        Handicap  SMS_received  \n",
       "0              0             0  \n",
       "1              0             0  \n",
       "2              0             0  \n",
       "3              0             0  \n",
       "4              0             0  \n",
       "...          ...           ...  \n",
       "110522         0             1  \n",
       "110523         0             1  \n",
       "110524         0             1  \n",
       "110525         0             1  \n",
       "110526         0             1  \n",
       "\n",
       "[110527 rows x 8 columns]>"
      ]
     },
     "execution_count": 83,
     "metadata": {},
     "output_type": "execute_result"
    }
   ],
   "source": [
    "X.info"
   ]
  },
  {
   "cell_type": "code",
   "execution_count": 84,
   "metadata": {},
   "outputs": [],
   "source": [
    "X = df[['Gender','age_group','Scholarship','Hypertension','Diabetes','Alcoholism','Handicap','SMS_received']]"
   ]
  },
  {
   "cell_type": "code",
   "execution_count": 85,
   "metadata": {},
   "outputs": [
    {
     "name": "stdout",
     "output_type": "stream",
     "text": [
      "Gender             int64\n",
      "age_group       category\n",
      "Scholarship        int64\n",
      "Hypertension       int64\n",
      "Diabetes           int64\n",
      "Alcoholism         int64\n",
      "Handicap           int64\n",
      "SMS_received       int64\n",
      "dtype: object\n"
     ]
    },
    {
     "name": "stderr",
     "output_type": "stream",
     "text": [
      "C:\\Users\\drpra\\AppData\\Local\\Temp\\ipykernel_25368\\160855242.py:3: SettingWithCopyWarning: \n",
      "A value is trying to be set on a copy of a slice from a DataFrame.\n",
      "Try using .loc[row_indexer,col_indexer] = value instead\n",
      "\n",
      "See the caveats in the documentation: https://pandas.pydata.org/pandas-docs/stable/user_guide/indexing.html#returning-a-view-versus-a-copy\n",
      "  X[\"age_group\"] = pd.Categorical(X[\"age_group\"], categories=categ, ordered=True)\n"
     ]
    }
   ],
   "source": [
    "# Indicate that the column is an ordered categorical feature\n",
    "categ = [\"under 15\",\"15-24\",\"25-44\" \"45-64\" \"65+\"]\n",
    "X[\"age_group\"] = pd.Categorical(X[\"age_group\"], categories=categ, ordered=True)\n",
    "print(X.dtypes)"
   ]
  },
  {
   "cell_type": "code",
   "execution_count": 86,
   "metadata": {},
   "outputs": [
    {
     "name": "stdout",
     "output_type": "stream",
     "text": [
      "[-1 -1 -1 ... -1 -1 -1] CategoricalIndex([], categories=['under 15', '15-24', '25-4445-6465+'], ordered=True, dtype='category')\n"
     ]
    }
   ],
   "source": [
    "# Get the factors and replace with numbers\n",
    "labels, unique = pd.factorize(X[\"age_group\"], sort=True)\n",
    "print(labels, unique)"
   ]
  },
  {
   "cell_type": "code",
   "execution_count": 87,
   "metadata": {},
   "outputs": [
    {
     "name": "stderr",
     "output_type": "stream",
     "text": [
      "C:\\Users\\drpra\\AppData\\Local\\Temp\\ipykernel_25368\\2037895327.py:2: SettingWithCopyWarning: \n",
      "A value is trying to be set on a copy of a slice from a DataFrame.\n",
      "Try using .loc[row_indexer,col_indexer] = value instead\n",
      "\n",
      "See the caveats in the documentation: https://pandas.pydata.org/pandas-docs/stable/user_guide/indexing.html#returning-a-view-versus-a-copy\n",
      "  X[\"age_group\"] = labels\n"
     ]
    },
    {
     "data": {
      "text/html": [
       "<div>\n",
       "<style scoped>\n",
       "    .dataframe tbody tr th:only-of-type {\n",
       "        vertical-align: middle;\n",
       "    }\n",
       "\n",
       "    .dataframe tbody tr th {\n",
       "        vertical-align: top;\n",
       "    }\n",
       "\n",
       "    .dataframe thead th {\n",
       "        text-align: right;\n",
       "    }\n",
       "</style>\n",
       "<table border=\"1\" class=\"dataframe\">\n",
       "  <thead>\n",
       "    <tr style=\"text-align: right;\">\n",
       "      <th></th>\n",
       "      <th>Gender</th>\n",
       "      <th>age_group</th>\n",
       "      <th>Scholarship</th>\n",
       "      <th>Hypertension</th>\n",
       "      <th>Diabetes</th>\n",
       "      <th>Alcoholism</th>\n",
       "      <th>Handicap</th>\n",
       "      <th>SMS_received</th>\n",
       "    </tr>\n",
       "  </thead>\n",
       "  <tbody>\n",
       "    <tr>\n",
       "      <th>0</th>\n",
       "      <td>0</td>\n",
       "      <td>-1</td>\n",
       "      <td>0</td>\n",
       "      <td>1</td>\n",
       "      <td>0</td>\n",
       "      <td>0</td>\n",
       "      <td>0</td>\n",
       "      <td>0</td>\n",
       "    </tr>\n",
       "    <tr>\n",
       "      <th>1</th>\n",
       "      <td>1</td>\n",
       "      <td>-1</td>\n",
       "      <td>0</td>\n",
       "      <td>0</td>\n",
       "      <td>0</td>\n",
       "      <td>0</td>\n",
       "      <td>0</td>\n",
       "      <td>0</td>\n",
       "    </tr>\n",
       "    <tr>\n",
       "      <th>2</th>\n",
       "      <td>0</td>\n",
       "      <td>-1</td>\n",
       "      <td>0</td>\n",
       "      <td>0</td>\n",
       "      <td>0</td>\n",
       "      <td>0</td>\n",
       "      <td>0</td>\n",
       "      <td>0</td>\n",
       "    </tr>\n",
       "    <tr>\n",
       "      <th>3</th>\n",
       "      <td>0</td>\n",
       "      <td>-1</td>\n",
       "      <td>0</td>\n",
       "      <td>0</td>\n",
       "      <td>0</td>\n",
       "      <td>0</td>\n",
       "      <td>0</td>\n",
       "      <td>0</td>\n",
       "    </tr>\n",
       "    <tr>\n",
       "      <th>4</th>\n",
       "      <td>0</td>\n",
       "      <td>-1</td>\n",
       "      <td>0</td>\n",
       "      <td>1</td>\n",
       "      <td>1</td>\n",
       "      <td>0</td>\n",
       "      <td>0</td>\n",
       "      <td>0</td>\n",
       "    </tr>\n",
       "    <tr>\n",
       "      <th>...</th>\n",
       "      <td>...</td>\n",
       "      <td>...</td>\n",
       "      <td>...</td>\n",
       "      <td>...</td>\n",
       "      <td>...</td>\n",
       "      <td>...</td>\n",
       "      <td>...</td>\n",
       "      <td>...</td>\n",
       "    </tr>\n",
       "    <tr>\n",
       "      <th>110522</th>\n",
       "      <td>0</td>\n",
       "      <td>-1</td>\n",
       "      <td>0</td>\n",
       "      <td>0</td>\n",
       "      <td>0</td>\n",
       "      <td>0</td>\n",
       "      <td>0</td>\n",
       "      <td>1</td>\n",
       "    </tr>\n",
       "    <tr>\n",
       "      <th>110523</th>\n",
       "      <td>0</td>\n",
       "      <td>-1</td>\n",
       "      <td>0</td>\n",
       "      <td>0</td>\n",
       "      <td>0</td>\n",
       "      <td>0</td>\n",
       "      <td>0</td>\n",
       "      <td>1</td>\n",
       "    </tr>\n",
       "    <tr>\n",
       "      <th>110524</th>\n",
       "      <td>0</td>\n",
       "      <td>-1</td>\n",
       "      <td>0</td>\n",
       "      <td>0</td>\n",
       "      <td>0</td>\n",
       "      <td>0</td>\n",
       "      <td>0</td>\n",
       "      <td>1</td>\n",
       "    </tr>\n",
       "    <tr>\n",
       "      <th>110525</th>\n",
       "      <td>0</td>\n",
       "      <td>-1</td>\n",
       "      <td>0</td>\n",
       "      <td>0</td>\n",
       "      <td>0</td>\n",
       "      <td>0</td>\n",
       "      <td>0</td>\n",
       "      <td>1</td>\n",
       "    </tr>\n",
       "    <tr>\n",
       "      <th>110526</th>\n",
       "      <td>0</td>\n",
       "      <td>-1</td>\n",
       "      <td>0</td>\n",
       "      <td>0</td>\n",
       "      <td>0</td>\n",
       "      <td>0</td>\n",
       "      <td>0</td>\n",
       "      <td>1</td>\n",
       "    </tr>\n",
       "  </tbody>\n",
       "</table>\n",
       "<p>110527 rows × 8 columns</p>\n",
       "</div>"
      ],
      "text/plain": [
       "        Gender  age_group  Scholarship  Hypertension  Diabetes  Alcoholism  \\\n",
       "0            0         -1            0             1         0           0   \n",
       "1            1         -1            0             0         0           0   \n",
       "2            0         -1            0             0         0           0   \n",
       "3            0         -1            0             0         0           0   \n",
       "4            0         -1            0             1         1           0   \n",
       "...        ...        ...          ...           ...       ...         ...   \n",
       "110522       0         -1            0             0         0           0   \n",
       "110523       0         -1            0             0         0           0   \n",
       "110524       0         -1            0             0         0           0   \n",
       "110525       0         -1            0             0         0           0   \n",
       "110526       0         -1            0             0         0           0   \n",
       "\n",
       "        Handicap  SMS_received  \n",
       "0              0             0  \n",
       "1              0             0  \n",
       "2              0             0  \n",
       "3              0             0  \n",
       "4              0             0  \n",
       "...          ...           ...  \n",
       "110522         0             1  \n",
       "110523         0             1  \n",
       "110524         0             1  \n",
       "110525         0             1  \n",
       "110526         0             1  \n",
       "\n",
       "[110527 rows x 8 columns]"
      ]
     },
     "execution_count": 87,
     "metadata": {},
     "output_type": "execute_result"
    }
   ],
   "source": [
    "# We can replace the column with the labels\n",
    "X[\"age_group\"] = labels\n",
    "X"
   ]
  },
  {
   "cell_type": "code",
   "execution_count": 88,
   "metadata": {},
   "outputs": [
    {
     "data": {
      "text/plain": [
       "<bound method DataFrame.info of         Gender  age_group  Scholarship  Hypertension  Diabetes  Alcoholism  \\\n",
       "0            0         -1            0             1         0           0   \n",
       "1            1         -1            0             0         0           0   \n",
       "2            0         -1            0             0         0           0   \n",
       "3            0         -1            0             0         0           0   \n",
       "4            0         -1            0             1         1           0   \n",
       "...        ...        ...          ...           ...       ...         ...   \n",
       "110522       0         -1            0             0         0           0   \n",
       "110523       0         -1            0             0         0           0   \n",
       "110524       0         -1            0             0         0           0   \n",
       "110525       0         -1            0             0         0           0   \n",
       "110526       0         -1            0             0         0           0   \n",
       "\n",
       "        Handicap  SMS_received  \n",
       "0              0             0  \n",
       "1              0             0  \n",
       "2              0             0  \n",
       "3              0             0  \n",
       "4              0             0  \n",
       "...          ...           ...  \n",
       "110522         0             1  \n",
       "110523         0             1  \n",
       "110524         0             1  \n",
       "110525         0             1  \n",
       "110526         0             1  \n",
       "\n",
       "[110527 rows x 8 columns]>"
      ]
     },
     "execution_count": 88,
     "metadata": {},
     "output_type": "execute_result"
    }
   ],
   "source": [
    "X.info"
   ]
  },
  {
   "cell_type": "code",
   "execution_count": 89,
   "metadata": {},
   "outputs": [
    {
     "name": "stderr",
     "output_type": "stream",
     "text": [
      "C:\\Users\\drpra\\AppData\\Local\\Temp\\ipykernel_25368\\1338757708.py:7: SettingWithCopyWarning: \n",
      "A value is trying to be set on a copy of a slice from a DataFrame.\n",
      "Try using .loc[row_indexer,col_indexer] = value instead\n",
      "\n",
      "See the caveats in the documentation: https://pandas.pydata.org/pandas-docs/stable/user_guide/indexing.html#returning-a-view-versus-a-copy\n",
      "  X[numerical_features] = (min_max_scaler.fit_transform(X[numerical_features]))\n"
     ]
    }
   ],
   "source": [
    "#If age is used as feature, following normalization process will be required.\n",
    "\n",
    "from sklearn.preprocessing import MinMaxScaler\n",
    "\n",
    "min_max_scaler = MinMaxScaler()\n",
    "numerical_features = ['age_group']\n",
    "X[numerical_features] = (min_max_scaler.fit_transform(X[numerical_features]))"
   ]
  },
  {
   "cell_type": "markdown",
   "metadata": {},
   "source": [
    "### select target for model training"
   ]
  },
  {
   "cell_type": "code",
   "execution_count": 90,
   "metadata": {},
   "outputs": [
    {
     "data": {
      "text/plain": [
       "(110527,)"
      ]
     },
     "execution_count": 90,
     "metadata": {},
     "output_type": "execute_result"
    }
   ],
   "source": [
    "y = df['No-show']\n",
    "y.shape"
   ]
  },
  {
   "cell_type": "markdown",
   "metadata": {},
   "source": [
    "## Machine Learning Model Development"
   ]
  },
  {
   "cell_type": "markdown",
   "metadata": {},
   "source": [
    "### Dataset is split into training and testing set. Several classification models will be trained on training data and its performance will be measured on testing data. After comparing the performance metrics, one classficiation model will be chosen."
   ]
  },
  {
   "cell_type": "markdown",
   "metadata": {},
   "source": [
    "Verify scikit-learn Installation"
   ]
  },
  {
   "cell_type": "code",
   "execution_count": 91,
   "metadata": {},
   "outputs": [
    {
     "name": "stdout",
     "output_type": "stream",
     "text": [
      "Requirement already satisfied: scikit-learn in c:\\users\\drpra\\appdata\\local\\programs\\python\\python312\\lib\\site-packages (1.5.2)\n",
      "Requirement already satisfied: numpy>=1.19.5 in c:\\users\\drpra\\appdata\\local\\programs\\python\\python312\\lib\\site-packages (from scikit-learn) (1.26.4)\n",
      "Requirement already satisfied: scipy>=1.6.0 in c:\\users\\drpra\\appdata\\local\\programs\\python\\python312\\lib\\site-packages (from scikit-learn) (1.12.0)\n",
      "Requirement already satisfied: joblib>=1.2.0 in c:\\users\\drpra\\appdata\\local\\programs\\python\\python312\\lib\\site-packages (from scikit-learn) (1.3.2)\n",
      "Requirement already satisfied: threadpoolctl>=3.1.0 in c:\\users\\drpra\\appdata\\local\\programs\\python\\python312\\lib\\site-packages (from scikit-learn) (3.4.0)\n"
     ]
    },
    {
     "name": "stderr",
     "output_type": "stream",
     "text": [
      "\n",
      "[notice] A new release of pip is available: 24.2 -> 24.3.1\n",
      "[notice] To update, run: python.exe -m pip install --upgrade pip\n"
     ]
    }
   ],
   "source": [
    "!pip install -U scikit-learn\n",
    "\n"
   ]
  },
  {
   "cell_type": "code",
   "execution_count": 92,
   "metadata": {},
   "outputs": [],
   "source": [
    "from sklearn.linear_model import LogisticRegression\n",
    "from sklearn.model_selection import train_test_split\n",
    "from sklearn.metrics import accuracy_score, precision_score, recall_score, f1_score, classification_report\n",
    "from sklearn.tree import DecisionTreeClassifier\n",
    "from sklearn.ensemble import RandomForestClassifier\n",
    "from sklearn.neighbors import KNeighborsClassifier\n",
    "from sklearn.neural_network import MLPClassifier"
   ]
  },
  {
   "cell_type": "code",
   "execution_count": 93,
   "metadata": {},
   "outputs": [
    {
     "name": "stdout",
     "output_type": "stream",
     "text": [
      "Imports successful\n"
     ]
    }
   ],
   "source": [
    "from sklearn.ensemble import BaggingClassifier, AdaBoostClassifier, GradientBoostingClassifier\n",
    "print(\"Imports successful\")\n"
   ]
  },
  {
   "cell_type": "code",
   "execution_count": 94,
   "metadata": {},
   "outputs": [
    {
     "name": "stdout",
     "output_type": "stream",
     "text": [
      "(22106, 8) (88421, 8)\n"
     ]
    }
   ],
   "source": [
    "X_train, X_test, y_train, y_test = train_test_split(X, y, test_size=0.2, random_state=42)\n",
    "X_train.shape\n",
    "X_test.shape\n",
    "print(X_test.shape, X_train.shape)"
   ]
  },
  {
   "cell_type": "markdown",
   "metadata": {},
   "source": [
    "### Logistic Regression"
   ]
  },
  {
   "cell_type": "code",
   "execution_count": 95,
   "metadata": {},
   "outputs": [
    {
     "name": "stdout",
     "output_type": "stream",
     "text": [
      "Accuracy: 0.7993\n",
      "Classification Report:\n",
      "              precision    recall  f1-score   support\n",
      "\n",
      "           0       0.80      1.00      0.89     17669\n",
      "           1       0.00      0.00      0.00      4437\n",
      "\n",
      "    accuracy                           0.80     22106\n",
      "   macro avg       0.40      0.50      0.44     22106\n",
      "weighted avg       0.64      0.80      0.71     22106\n",
      "\n"
     ]
    },
    {
     "name": "stderr",
     "output_type": "stream",
     "text": [
      "c:\\Users\\drpra\\AppData\\Local\\Programs\\Python\\Python312\\Lib\\site-packages\\sklearn\\metrics\\_classification.py:1531: UndefinedMetricWarning: Precision is ill-defined and being set to 0.0 in labels with no predicted samples. Use `zero_division` parameter to control this behavior.\n",
      "  _warn_prf(average, modifier, f\"{metric.capitalize()} is\", len(result))\n",
      "c:\\Users\\drpra\\AppData\\Local\\Programs\\Python\\Python312\\Lib\\site-packages\\sklearn\\metrics\\_classification.py:1531: UndefinedMetricWarning: Precision is ill-defined and being set to 0.0 in labels with no predicted samples. Use `zero_division` parameter to control this behavior.\n",
      "  _warn_prf(average, modifier, f\"{metric.capitalize()} is\", len(result))\n",
      "c:\\Users\\drpra\\AppData\\Local\\Programs\\Python\\Python312\\Lib\\site-packages\\sklearn\\metrics\\_classification.py:1531: UndefinedMetricWarning: Precision is ill-defined and being set to 0.0 in labels with no predicted samples. Use `zero_division` parameter to control this behavior.\n",
      "  _warn_prf(average, modifier, f\"{metric.capitalize()} is\", len(result))\n"
     ]
    }
   ],
   "source": [
    "log_reg = LogisticRegression(max_iter=1000)  # Increased max_iter to ensure convergence\n",
    "log_reg.fit(X_train, y_train)\n",
    "\n",
    "# Step 7: Make predictions on the test set\n",
    "y_pred = log_reg.predict(X_test)\n",
    "\n",
    "# Step 8: Evaluate the model\n",
    "accuracy = accuracy_score(y_test, y_pred)\n",
    "print(f\"Accuracy: {accuracy:.4f}\")\n",
    "\n",
    "# Print detailed classification report\n",
    "print(\"Classification Report:\")\n",
    "print(classification_report(y_test, y_pred))"
   ]
  },
  {
   "cell_type": "markdown",
   "metadata": {},
   "source": [
    "#import classes for training different classifciation algorithm"
   ]
  },
  {
   "cell_type": "markdown",
   "metadata": {},
   "source": [
    "### Create performance metrics dataframe to store the metrics of trained models <br> A function for both training and testing is executed, so that the ML models can be trained easily"
   ]
  },
  {
   "cell_type": "code",
   "execution_count": 96,
   "metadata": {},
   "outputs": [],
   "source": [
    "# Initialize an empty dataframe to store the performance metrics\n",
    "performance_df = pd.DataFrame(columns=['Model', 'Accuracy', 'Precision', 'Recall', 'F1-Score'])"
   ]
  },
  {
   "cell_type": "code",
   "execution_count": 97,
   "metadata": {},
   "outputs": [],
   "source": [
    "def evaluate_model(model_name, model, X_train=X_train, X_test=X_test, y_train=y_train, y_test=y_test):\n",
    "    # Train the model\n",
    "    model.fit(X_train, y_train)\n",
    "    \n",
    "    # Make predictions\n",
    "    y_pred = model.predict(X_test)\n",
    "    \n",
    "    # Calculate metrics\n",
    "    accuracy = accuracy_score(y_test, y_pred)\n",
    "    precision = precision_score(y_test, y_pred, average='weighted')  # 'weighted' for handling imbalanced classes\n",
    "    recall = recall_score(y_test, y_pred, average='weighted')\n",
    "    f1 = f1_score(y_test, y_pred, average='weighted')\n",
    "    \n",
    "    # Append the results to the performance dataframe\n",
    "    performance_df.loc[len(performance_df)] = [model_name, accuracy, precision, recall, f1]\n",
    "    return performance_df"
   ]
  },
  {
   "cell_type": "markdown",
   "metadata": {},
   "source": [
    "### Logistic Regression"
   ]
  },
  {
   "cell_type": "code",
   "execution_count": 98,
   "metadata": {},
   "outputs": [
    {
     "name": "stderr",
     "output_type": "stream",
     "text": [
      "c:\\Users\\drpra\\AppData\\Local\\Programs\\Python\\Python312\\Lib\\site-packages\\sklearn\\metrics\\_classification.py:1531: UndefinedMetricWarning: Precision is ill-defined and being set to 0.0 in labels with no predicted samples. Use `zero_division` parameter to control this behavior.\n",
      "  _warn_prf(average, modifier, f\"{metric.capitalize()} is\", len(result))\n"
     ]
    },
    {
     "data": {
      "text/html": [
       "<div>\n",
       "<style scoped>\n",
       "    .dataframe tbody tr th:only-of-type {\n",
       "        vertical-align: middle;\n",
       "    }\n",
       "\n",
       "    .dataframe tbody tr th {\n",
       "        vertical-align: top;\n",
       "    }\n",
       "\n",
       "    .dataframe thead th {\n",
       "        text-align: right;\n",
       "    }\n",
       "</style>\n",
       "<table border=\"1\" class=\"dataframe\">\n",
       "  <thead>\n",
       "    <tr style=\"text-align: right;\">\n",
       "      <th></th>\n",
       "      <th>Model</th>\n",
       "      <th>Accuracy</th>\n",
       "      <th>Precision</th>\n",
       "      <th>Recall</th>\n",
       "      <th>F1-Score</th>\n",
       "    </tr>\n",
       "  </thead>\n",
       "  <tbody>\n",
       "    <tr>\n",
       "      <th>0</th>\n",
       "      <td>Logistic Regression</td>\n",
       "      <td>0.799285</td>\n",
       "      <td>0.638857</td>\n",
       "      <td>0.799285</td>\n",
       "      <td>0.710123</td>\n",
       "    </tr>\n",
       "  </tbody>\n",
       "</table>\n",
       "</div>"
      ],
      "text/plain": [
       "                 Model  Accuracy  Precision    Recall  F1-Score\n",
       "0  Logistic Regression  0.799285   0.638857  0.799285  0.710123"
      ]
     },
     "execution_count": 98,
     "metadata": {},
     "output_type": "execute_result"
    }
   ],
   "source": [
    "log_reg = LogisticRegression(max_iter=1000)\n",
    "evaluate_model('Logistic Regression', log_reg, X_train, X_test, y_train, y_test)"
   ]
  },
  {
   "cell_type": "markdown",
   "metadata": {},
   "source": [
    "### Decision Tree (2 variants)"
   ]
  },
  {
   "cell_type": "code",
   "execution_count": 99,
   "metadata": {},
   "outputs": [
    {
     "data": {
      "text/html": [
       "<div>\n",
       "<style scoped>\n",
       "    .dataframe tbody tr th:only-of-type {\n",
       "        vertical-align: middle;\n",
       "    }\n",
       "\n",
       "    .dataframe tbody tr th {\n",
       "        vertical-align: top;\n",
       "    }\n",
       "\n",
       "    .dataframe thead th {\n",
       "        text-align: right;\n",
       "    }\n",
       "</style>\n",
       "<table border=\"1\" class=\"dataframe\">\n",
       "  <thead>\n",
       "    <tr style=\"text-align: right;\">\n",
       "      <th></th>\n",
       "      <th>Model</th>\n",
       "      <th>Accuracy</th>\n",
       "      <th>Precision</th>\n",
       "      <th>Recall</th>\n",
       "      <th>F1-Score</th>\n",
       "    </tr>\n",
       "  </thead>\n",
       "  <tbody>\n",
       "    <tr>\n",
       "      <th>0</th>\n",
       "      <td>Logistic Regression</td>\n",
       "      <td>0.799285</td>\n",
       "      <td>0.638857</td>\n",
       "      <td>0.799285</td>\n",
       "      <td>0.710123</td>\n",
       "    </tr>\n",
       "    <tr>\n",
       "      <th>1</th>\n",
       "      <td>DT_gini</td>\n",
       "      <td>0.799602</td>\n",
       "      <td>0.776521</td>\n",
       "      <td>0.799602</td>\n",
       "      <td>0.711392</td>\n",
       "    </tr>\n",
       "  </tbody>\n",
       "</table>\n",
       "</div>"
      ],
      "text/plain": [
       "                 Model  Accuracy  Precision    Recall  F1-Score\n",
       "0  Logistic Regression  0.799285   0.638857  0.799285  0.710123\n",
       "1              DT_gini  0.799602   0.776521  0.799602  0.711392"
      ]
     },
     "execution_count": 99,
     "metadata": {},
     "output_type": "execute_result"
    }
   ],
   "source": [
    "DT_gini = DecisionTreeClassifier( criterion='gini',max_depth = 5)\n",
    "evaluate_model('DT_gini', DT_gini)"
   ]
  },
  {
   "cell_type": "code",
   "execution_count": 100,
   "metadata": {},
   "outputs": [
    {
     "data": {
      "text/html": [
       "<div>\n",
       "<style scoped>\n",
       "    .dataframe tbody tr th:only-of-type {\n",
       "        vertical-align: middle;\n",
       "    }\n",
       "\n",
       "    .dataframe tbody tr th {\n",
       "        vertical-align: top;\n",
       "    }\n",
       "\n",
       "    .dataframe thead th {\n",
       "        text-align: right;\n",
       "    }\n",
       "</style>\n",
       "<table border=\"1\" class=\"dataframe\">\n",
       "  <thead>\n",
       "    <tr style=\"text-align: right;\">\n",
       "      <th></th>\n",
       "      <th>Model</th>\n",
       "      <th>Accuracy</th>\n",
       "      <th>Precision</th>\n",
       "      <th>Recall</th>\n",
       "      <th>F1-Score</th>\n",
       "    </tr>\n",
       "  </thead>\n",
       "  <tbody>\n",
       "    <tr>\n",
       "      <th>0</th>\n",
       "      <td>Logistic Regression</td>\n",
       "      <td>0.799285</td>\n",
       "      <td>0.638857</td>\n",
       "      <td>0.799285</td>\n",
       "      <td>0.710123</td>\n",
       "    </tr>\n",
       "    <tr>\n",
       "      <th>1</th>\n",
       "      <td>DT_gini</td>\n",
       "      <td>0.799602</td>\n",
       "      <td>0.776521</td>\n",
       "      <td>0.799602</td>\n",
       "      <td>0.711392</td>\n",
       "    </tr>\n",
       "    <tr>\n",
       "      <th>2</th>\n",
       "      <td>DT_entropy</td>\n",
       "      <td>0.799602</td>\n",
       "      <td>0.776521</td>\n",
       "      <td>0.799602</td>\n",
       "      <td>0.711392</td>\n",
       "    </tr>\n",
       "  </tbody>\n",
       "</table>\n",
       "</div>"
      ],
      "text/plain": [
       "                 Model  Accuracy  Precision    Recall  F1-Score\n",
       "0  Logistic Regression  0.799285   0.638857  0.799285  0.710123\n",
       "1              DT_gini  0.799602   0.776521  0.799602  0.711392\n",
       "2           DT_entropy  0.799602   0.776521  0.799602  0.711392"
      ]
     },
     "execution_count": 100,
     "metadata": {},
     "output_type": "execute_result"
    }
   ],
   "source": [
    "DT_entropy = DecisionTreeClassifier( criterion='entropy', max_depth = 5)\n",
    "evaluate_model('DT_entropy', DT_entropy)"
   ]
  },
  {
   "cell_type": "markdown",
   "metadata": {},
   "source": [
    "### Random Forest (2 variants)"
   ]
  },
  {
   "cell_type": "code",
   "execution_count": 101,
   "metadata": {},
   "outputs": [
    {
     "name": "stderr",
     "output_type": "stream",
     "text": [
      "c:\\Users\\drpra\\AppData\\Local\\Programs\\Python\\Python312\\Lib\\site-packages\\sklearn\\metrics\\_classification.py:1531: UndefinedMetricWarning: Precision is ill-defined and being set to 0.0 in labels with no predicted samples. Use `zero_division` parameter to control this behavior.\n",
      "  _warn_prf(average, modifier, f\"{metric.capitalize()} is\", len(result))\n"
     ]
    },
    {
     "data": {
      "text/html": [
       "<div>\n",
       "<style scoped>\n",
       "    .dataframe tbody tr th:only-of-type {\n",
       "        vertical-align: middle;\n",
       "    }\n",
       "\n",
       "    .dataframe tbody tr th {\n",
       "        vertical-align: top;\n",
       "    }\n",
       "\n",
       "    .dataframe thead th {\n",
       "        text-align: right;\n",
       "    }\n",
       "</style>\n",
       "<table border=\"1\" class=\"dataframe\">\n",
       "  <thead>\n",
       "    <tr style=\"text-align: right;\">\n",
       "      <th></th>\n",
       "      <th>Model</th>\n",
       "      <th>Accuracy</th>\n",
       "      <th>Precision</th>\n",
       "      <th>Recall</th>\n",
       "      <th>F1-Score</th>\n",
       "    </tr>\n",
       "  </thead>\n",
       "  <tbody>\n",
       "    <tr>\n",
       "      <th>0</th>\n",
       "      <td>Logistic Regression</td>\n",
       "      <td>0.799285</td>\n",
       "      <td>0.638857</td>\n",
       "      <td>0.799285</td>\n",
       "      <td>0.710123</td>\n",
       "    </tr>\n",
       "    <tr>\n",
       "      <th>1</th>\n",
       "      <td>DT_gini</td>\n",
       "      <td>0.799602</td>\n",
       "      <td>0.776521</td>\n",
       "      <td>0.799602</td>\n",
       "      <td>0.711392</td>\n",
       "    </tr>\n",
       "    <tr>\n",
       "      <th>2</th>\n",
       "      <td>DT_entropy</td>\n",
       "      <td>0.799602</td>\n",
       "      <td>0.776521</td>\n",
       "      <td>0.799602</td>\n",
       "      <td>0.711392</td>\n",
       "    </tr>\n",
       "    <tr>\n",
       "      <th>3</th>\n",
       "      <td>RF_gini</td>\n",
       "      <td>0.799285</td>\n",
       "      <td>0.638857</td>\n",
       "      <td>0.799285</td>\n",
       "      <td>0.710123</td>\n",
       "    </tr>\n",
       "  </tbody>\n",
       "</table>\n",
       "</div>"
      ],
      "text/plain": [
       "                 Model  Accuracy  Precision    Recall  F1-Score\n",
       "0  Logistic Regression  0.799285   0.638857  0.799285  0.710123\n",
       "1              DT_gini  0.799602   0.776521  0.799602  0.711392\n",
       "2           DT_entropy  0.799602   0.776521  0.799602  0.711392\n",
       "3              RF_gini  0.799285   0.638857  0.799285  0.710123"
      ]
     },
     "execution_count": 101,
     "metadata": {},
     "output_type": "execute_result"
    }
   ],
   "source": [
    "RF_gini = RandomForestClassifier(n_estimators=30, criterion='gini', max_depth=5)\n",
    "evaluate_model('RF_gini', RF_gini)"
   ]
  },
  {
   "cell_type": "code",
   "execution_count": 102,
   "metadata": {},
   "outputs": [
    {
     "name": "stderr",
     "output_type": "stream",
     "text": [
      "c:\\Users\\drpra\\AppData\\Local\\Programs\\Python\\Python312\\Lib\\site-packages\\sklearn\\metrics\\_classification.py:1531: UndefinedMetricWarning: Precision is ill-defined and being set to 0.0 in labels with no predicted samples. Use `zero_division` parameter to control this behavior.\n",
      "  _warn_prf(average, modifier, f\"{metric.capitalize()} is\", len(result))\n"
     ]
    },
    {
     "data": {
      "text/html": [
       "<div>\n",
       "<style scoped>\n",
       "    .dataframe tbody tr th:only-of-type {\n",
       "        vertical-align: middle;\n",
       "    }\n",
       "\n",
       "    .dataframe tbody tr th {\n",
       "        vertical-align: top;\n",
       "    }\n",
       "\n",
       "    .dataframe thead th {\n",
       "        text-align: right;\n",
       "    }\n",
       "</style>\n",
       "<table border=\"1\" class=\"dataframe\">\n",
       "  <thead>\n",
       "    <tr style=\"text-align: right;\">\n",
       "      <th></th>\n",
       "      <th>Model</th>\n",
       "      <th>Accuracy</th>\n",
       "      <th>Precision</th>\n",
       "      <th>Recall</th>\n",
       "      <th>F1-Score</th>\n",
       "    </tr>\n",
       "  </thead>\n",
       "  <tbody>\n",
       "    <tr>\n",
       "      <th>0</th>\n",
       "      <td>Logistic Regression</td>\n",
       "      <td>0.799285</td>\n",
       "      <td>0.638857</td>\n",
       "      <td>0.799285</td>\n",
       "      <td>0.710123</td>\n",
       "    </tr>\n",
       "    <tr>\n",
       "      <th>1</th>\n",
       "      <td>DT_gini</td>\n",
       "      <td>0.799602</td>\n",
       "      <td>0.776521</td>\n",
       "      <td>0.799602</td>\n",
       "      <td>0.711392</td>\n",
       "    </tr>\n",
       "    <tr>\n",
       "      <th>2</th>\n",
       "      <td>DT_entropy</td>\n",
       "      <td>0.799602</td>\n",
       "      <td>0.776521</td>\n",
       "      <td>0.799602</td>\n",
       "      <td>0.711392</td>\n",
       "    </tr>\n",
       "    <tr>\n",
       "      <th>3</th>\n",
       "      <td>RF_gini</td>\n",
       "      <td>0.799285</td>\n",
       "      <td>0.638857</td>\n",
       "      <td>0.799285</td>\n",
       "      <td>0.710123</td>\n",
       "    </tr>\n",
       "    <tr>\n",
       "      <th>4</th>\n",
       "      <td>RF_entropy</td>\n",
       "      <td>0.799285</td>\n",
       "      <td>0.638857</td>\n",
       "      <td>0.799285</td>\n",
       "      <td>0.710123</td>\n",
       "    </tr>\n",
       "  </tbody>\n",
       "</table>\n",
       "</div>"
      ],
      "text/plain": [
       "                 Model  Accuracy  Precision    Recall  F1-Score\n",
       "0  Logistic Regression  0.799285   0.638857  0.799285  0.710123\n",
       "1              DT_gini  0.799602   0.776521  0.799602  0.711392\n",
       "2           DT_entropy  0.799602   0.776521  0.799602  0.711392\n",
       "3              RF_gini  0.799285   0.638857  0.799285  0.710123\n",
       "4           RF_entropy  0.799285   0.638857  0.799285  0.710123"
      ]
     },
     "execution_count": 102,
     "metadata": {},
     "output_type": "execute_result"
    }
   ],
   "source": [
    "RF_entropy = RandomForestClassifier(n_estimators=30, criterion='entropy', max_depth=5)\n",
    "evaluate_model('RF_entropy', RF_entropy)"
   ]
  },
  {
   "cell_type": "markdown",
   "metadata": {},
   "source": [
    "### KNN (2 variants)"
   ]
  },
  {
   "cell_type": "code",
   "execution_count": 103,
   "metadata": {},
   "outputs": [
    {
     "data": {
      "text/html": [
       "<div>\n",
       "<style scoped>\n",
       "    .dataframe tbody tr th:only-of-type {\n",
       "        vertical-align: middle;\n",
       "    }\n",
       "\n",
       "    .dataframe tbody tr th {\n",
       "        vertical-align: top;\n",
       "    }\n",
       "\n",
       "    .dataframe thead th {\n",
       "        text-align: right;\n",
       "    }\n",
       "</style>\n",
       "<table border=\"1\" class=\"dataframe\">\n",
       "  <thead>\n",
       "    <tr style=\"text-align: right;\">\n",
       "      <th></th>\n",
       "      <th>Model</th>\n",
       "      <th>Accuracy</th>\n",
       "      <th>Precision</th>\n",
       "      <th>Recall</th>\n",
       "      <th>F1-Score</th>\n",
       "    </tr>\n",
       "  </thead>\n",
       "  <tbody>\n",
       "    <tr>\n",
       "      <th>0</th>\n",
       "      <td>Logistic Regression</td>\n",
       "      <td>0.799285</td>\n",
       "      <td>0.638857</td>\n",
       "      <td>0.799285</td>\n",
       "      <td>0.710123</td>\n",
       "    </tr>\n",
       "    <tr>\n",
       "      <th>1</th>\n",
       "      <td>DT_gini</td>\n",
       "      <td>0.799602</td>\n",
       "      <td>0.776521</td>\n",
       "      <td>0.799602</td>\n",
       "      <td>0.711392</td>\n",
       "    </tr>\n",
       "    <tr>\n",
       "      <th>2</th>\n",
       "      <td>DT_entropy</td>\n",
       "      <td>0.799602</td>\n",
       "      <td>0.776521</td>\n",
       "      <td>0.799602</td>\n",
       "      <td>0.711392</td>\n",
       "    </tr>\n",
       "    <tr>\n",
       "      <th>3</th>\n",
       "      <td>RF_gini</td>\n",
       "      <td>0.799285</td>\n",
       "      <td>0.638857</td>\n",
       "      <td>0.799285</td>\n",
       "      <td>0.710123</td>\n",
       "    </tr>\n",
       "    <tr>\n",
       "      <th>4</th>\n",
       "      <td>RF_entropy</td>\n",
       "      <td>0.799285</td>\n",
       "      <td>0.638857</td>\n",
       "      <td>0.799285</td>\n",
       "      <td>0.710123</td>\n",
       "    </tr>\n",
       "    <tr>\n",
       "      <th>5</th>\n",
       "      <td>KNN_5neighbours</td>\n",
       "      <td>0.791912</td>\n",
       "      <td>0.706165</td>\n",
       "      <td>0.791912</td>\n",
       "      <td>0.718120</td>\n",
       "    </tr>\n",
       "  </tbody>\n",
       "</table>\n",
       "</div>"
      ],
      "text/plain": [
       "                 Model  Accuracy  Precision    Recall  F1-Score\n",
       "0  Logistic Regression  0.799285   0.638857  0.799285  0.710123\n",
       "1              DT_gini  0.799602   0.776521  0.799602  0.711392\n",
       "2           DT_entropy  0.799602   0.776521  0.799602  0.711392\n",
       "3              RF_gini  0.799285   0.638857  0.799285  0.710123\n",
       "4           RF_entropy  0.799285   0.638857  0.799285  0.710123\n",
       "5      KNN_5neighbours  0.791912   0.706165  0.791912  0.718120"
      ]
     },
     "execution_count": 103,
     "metadata": {},
     "output_type": "execute_result"
    }
   ],
   "source": [
    "KNN_5neighbours = KNeighborsClassifier(n_neighbors=5)\n",
    "evaluate_model('KNN_5neighbours',KNN_5neighbours)"
   ]
  },
  {
   "cell_type": "code",
   "execution_count": 104,
   "metadata": {},
   "outputs": [
    {
     "data": {
      "text/html": [
       "<div>\n",
       "<style scoped>\n",
       "    .dataframe tbody tr th:only-of-type {\n",
       "        vertical-align: middle;\n",
       "    }\n",
       "\n",
       "    .dataframe tbody tr th {\n",
       "        vertical-align: top;\n",
       "    }\n",
       "\n",
       "    .dataframe thead th {\n",
       "        text-align: right;\n",
       "    }\n",
       "</style>\n",
       "<table border=\"1\" class=\"dataframe\">\n",
       "  <thead>\n",
       "    <tr style=\"text-align: right;\">\n",
       "      <th></th>\n",
       "      <th>Model</th>\n",
       "      <th>Accuracy</th>\n",
       "      <th>Precision</th>\n",
       "      <th>Recall</th>\n",
       "      <th>F1-Score</th>\n",
       "    </tr>\n",
       "  </thead>\n",
       "  <tbody>\n",
       "    <tr>\n",
       "      <th>0</th>\n",
       "      <td>Logistic Regression</td>\n",
       "      <td>0.799285</td>\n",
       "      <td>0.638857</td>\n",
       "      <td>0.799285</td>\n",
       "      <td>0.710123</td>\n",
       "    </tr>\n",
       "    <tr>\n",
       "      <th>1</th>\n",
       "      <td>DT_gini</td>\n",
       "      <td>0.799602</td>\n",
       "      <td>0.776521</td>\n",
       "      <td>0.799602</td>\n",
       "      <td>0.711392</td>\n",
       "    </tr>\n",
       "    <tr>\n",
       "      <th>2</th>\n",
       "      <td>DT_entropy</td>\n",
       "      <td>0.799602</td>\n",
       "      <td>0.776521</td>\n",
       "      <td>0.799602</td>\n",
       "      <td>0.711392</td>\n",
       "    </tr>\n",
       "    <tr>\n",
       "      <th>3</th>\n",
       "      <td>RF_gini</td>\n",
       "      <td>0.799285</td>\n",
       "      <td>0.638857</td>\n",
       "      <td>0.799285</td>\n",
       "      <td>0.710123</td>\n",
       "    </tr>\n",
       "    <tr>\n",
       "      <th>4</th>\n",
       "      <td>RF_entropy</td>\n",
       "      <td>0.799285</td>\n",
       "      <td>0.638857</td>\n",
       "      <td>0.799285</td>\n",
       "      <td>0.710123</td>\n",
       "    </tr>\n",
       "    <tr>\n",
       "      <th>5</th>\n",
       "      <td>KNN_5neighbours</td>\n",
       "      <td>0.791912</td>\n",
       "      <td>0.706165</td>\n",
       "      <td>0.791912</td>\n",
       "      <td>0.718120</td>\n",
       "    </tr>\n",
       "    <tr>\n",
       "      <th>6</th>\n",
       "      <td>KNN_3neighbours</td>\n",
       "      <td>0.721478</td>\n",
       "      <td>0.708290</td>\n",
       "      <td>0.721478</td>\n",
       "      <td>0.714509</td>\n",
       "    </tr>\n",
       "  </tbody>\n",
       "</table>\n",
       "</div>"
      ],
      "text/plain": [
       "                 Model  Accuracy  Precision    Recall  F1-Score\n",
       "0  Logistic Regression  0.799285   0.638857  0.799285  0.710123\n",
       "1              DT_gini  0.799602   0.776521  0.799602  0.711392\n",
       "2           DT_entropy  0.799602   0.776521  0.799602  0.711392\n",
       "3              RF_gini  0.799285   0.638857  0.799285  0.710123\n",
       "4           RF_entropy  0.799285   0.638857  0.799285  0.710123\n",
       "5      KNN_5neighbours  0.791912   0.706165  0.791912  0.718120\n",
       "6      KNN_3neighbours  0.721478   0.708290  0.721478  0.714509"
      ]
     },
     "execution_count": 104,
     "metadata": {},
     "output_type": "execute_result"
    }
   ],
   "source": [
    "KNN_3neighbours = KNeighborsClassifier(n_neighbors=3)\n",
    "evaluate_model('KNN_3neighbours',KNN_3neighbours)"
   ]
  },
  {
   "cell_type": "code",
   "execution_count": 105,
   "metadata": {},
   "outputs": [
    {
     "data": {
      "text/html": [
       "<div>\n",
       "<style scoped>\n",
       "    .dataframe tbody tr th:only-of-type {\n",
       "        vertical-align: middle;\n",
       "    }\n",
       "\n",
       "    .dataframe tbody tr th {\n",
       "        vertical-align: top;\n",
       "    }\n",
       "\n",
       "    .dataframe thead th {\n",
       "        text-align: right;\n",
       "    }\n",
       "</style>\n",
       "<table border=\"1\" class=\"dataframe\">\n",
       "  <thead>\n",
       "    <tr style=\"text-align: right;\">\n",
       "      <th></th>\n",
       "      <th>Model</th>\n",
       "      <th>Accuracy</th>\n",
       "      <th>Precision</th>\n",
       "      <th>Recall</th>\n",
       "      <th>F1-Score</th>\n",
       "    </tr>\n",
       "  </thead>\n",
       "  <tbody>\n",
       "    <tr>\n",
       "      <th>0</th>\n",
       "      <td>Logistic Regression</td>\n",
       "      <td>0.799285</td>\n",
       "      <td>0.638857</td>\n",
       "      <td>0.799285</td>\n",
       "      <td>0.710123</td>\n",
       "    </tr>\n",
       "    <tr>\n",
       "      <th>1</th>\n",
       "      <td>DT_gini</td>\n",
       "      <td>0.799602</td>\n",
       "      <td>0.776521</td>\n",
       "      <td>0.799602</td>\n",
       "      <td>0.711392</td>\n",
       "    </tr>\n",
       "    <tr>\n",
       "      <th>2</th>\n",
       "      <td>DT_entropy</td>\n",
       "      <td>0.799602</td>\n",
       "      <td>0.776521</td>\n",
       "      <td>0.799602</td>\n",
       "      <td>0.711392</td>\n",
       "    </tr>\n",
       "    <tr>\n",
       "      <th>3</th>\n",
       "      <td>RF_gini</td>\n",
       "      <td>0.799285</td>\n",
       "      <td>0.638857</td>\n",
       "      <td>0.799285</td>\n",
       "      <td>0.710123</td>\n",
       "    </tr>\n",
       "    <tr>\n",
       "      <th>4</th>\n",
       "      <td>RF_entropy</td>\n",
       "      <td>0.799285</td>\n",
       "      <td>0.638857</td>\n",
       "      <td>0.799285</td>\n",
       "      <td>0.710123</td>\n",
       "    </tr>\n",
       "    <tr>\n",
       "      <th>5</th>\n",
       "      <td>KNN_5neighbours</td>\n",
       "      <td>0.791912</td>\n",
       "      <td>0.706165</td>\n",
       "      <td>0.791912</td>\n",
       "      <td>0.718120</td>\n",
       "    </tr>\n",
       "    <tr>\n",
       "      <th>6</th>\n",
       "      <td>KNN_3neighbours</td>\n",
       "      <td>0.721478</td>\n",
       "      <td>0.708290</td>\n",
       "      <td>0.721478</td>\n",
       "      <td>0.714509</td>\n",
       "    </tr>\n",
       "    <tr>\n",
       "      <th>7</th>\n",
       "      <td>Gradient Boosting</td>\n",
       "      <td>0.799602</td>\n",
       "      <td>0.780849</td>\n",
       "      <td>0.799602</td>\n",
       "      <td>0.711307</td>\n",
       "    </tr>\n",
       "  </tbody>\n",
       "</table>\n",
       "</div>"
      ],
      "text/plain": [
       "                 Model  Accuracy  Precision    Recall  F1-Score\n",
       "0  Logistic Regression  0.799285   0.638857  0.799285  0.710123\n",
       "1              DT_gini  0.799602   0.776521  0.799602  0.711392\n",
       "2           DT_entropy  0.799602   0.776521  0.799602  0.711392\n",
       "3              RF_gini  0.799285   0.638857  0.799285  0.710123\n",
       "4           RF_entropy  0.799285   0.638857  0.799285  0.710123\n",
       "5      KNN_5neighbours  0.791912   0.706165  0.791912  0.718120\n",
       "6      KNN_3neighbours  0.721478   0.708290  0.721478  0.714509\n",
       "7    Gradient Boosting  0.799602   0.780849  0.799602  0.711307"
      ]
     },
     "execution_count": 105,
     "metadata": {},
     "output_type": "execute_result"
    }
   ],
   "source": [
    "# Initialize Gradient Boosting classifier\n",
    "gradient_boosting = GradientBoostingClassifier(n_estimators=100, learning_rate=0.1, max_depth=3)\n",
    "evaluate_model('Gradient Boosting', gradient_boosting)"
   ]
  },
  {
   "cell_type": "code",
   "execution_count": 106,
   "metadata": {},
   "outputs": [
    {
     "data": {
      "text/html": [
       "<div>\n",
       "<style scoped>\n",
       "    .dataframe tbody tr th:only-of-type {\n",
       "        vertical-align: middle;\n",
       "    }\n",
       "\n",
       "    .dataframe tbody tr th {\n",
       "        vertical-align: top;\n",
       "    }\n",
       "\n",
       "    .dataframe thead th {\n",
       "        text-align: right;\n",
       "    }\n",
       "</style>\n",
       "<table border=\"1\" class=\"dataframe\">\n",
       "  <thead>\n",
       "    <tr style=\"text-align: right;\">\n",
       "      <th></th>\n",
       "      <th>Model</th>\n",
       "      <th>Accuracy</th>\n",
       "      <th>Precision</th>\n",
       "      <th>Recall</th>\n",
       "      <th>F1-Score</th>\n",
       "    </tr>\n",
       "  </thead>\n",
       "  <tbody>\n",
       "    <tr>\n",
       "      <th>0</th>\n",
       "      <td>Logistic Regression</td>\n",
       "      <td>0.799285</td>\n",
       "      <td>0.638857</td>\n",
       "      <td>0.799285</td>\n",
       "      <td>0.710123</td>\n",
       "    </tr>\n",
       "    <tr>\n",
       "      <th>1</th>\n",
       "      <td>DT_gini</td>\n",
       "      <td>0.799602</td>\n",
       "      <td>0.776521</td>\n",
       "      <td>0.799602</td>\n",
       "      <td>0.711392</td>\n",
       "    </tr>\n",
       "    <tr>\n",
       "      <th>2</th>\n",
       "      <td>DT_entropy</td>\n",
       "      <td>0.799602</td>\n",
       "      <td>0.776521</td>\n",
       "      <td>0.799602</td>\n",
       "      <td>0.711392</td>\n",
       "    </tr>\n",
       "    <tr>\n",
       "      <th>3</th>\n",
       "      <td>RF_gini</td>\n",
       "      <td>0.799285</td>\n",
       "      <td>0.638857</td>\n",
       "      <td>0.799285</td>\n",
       "      <td>0.710123</td>\n",
       "    </tr>\n",
       "    <tr>\n",
       "      <th>4</th>\n",
       "      <td>RF_entropy</td>\n",
       "      <td>0.799285</td>\n",
       "      <td>0.638857</td>\n",
       "      <td>0.799285</td>\n",
       "      <td>0.710123</td>\n",
       "    </tr>\n",
       "    <tr>\n",
       "      <th>5</th>\n",
       "      <td>KNN_5neighbours</td>\n",
       "      <td>0.791912</td>\n",
       "      <td>0.706165</td>\n",
       "      <td>0.791912</td>\n",
       "      <td>0.718120</td>\n",
       "    </tr>\n",
       "    <tr>\n",
       "      <th>6</th>\n",
       "      <td>KNN_3neighbours</td>\n",
       "      <td>0.721478</td>\n",
       "      <td>0.708290</td>\n",
       "      <td>0.721478</td>\n",
       "      <td>0.714509</td>\n",
       "    </tr>\n",
       "    <tr>\n",
       "      <th>7</th>\n",
       "      <td>Gradient Boosting</td>\n",
       "      <td>0.799602</td>\n",
       "      <td>0.780849</td>\n",
       "      <td>0.799602</td>\n",
       "      <td>0.711307</td>\n",
       "    </tr>\n",
       "    <tr>\n",
       "      <th>8</th>\n",
       "      <td>Bagging</td>\n",
       "      <td>0.799602</td>\n",
       "      <td>0.780849</td>\n",
       "      <td>0.799602</td>\n",
       "      <td>0.711307</td>\n",
       "    </tr>\n",
       "  </tbody>\n",
       "</table>\n",
       "</div>"
      ],
      "text/plain": [
       "                 Model  Accuracy  Precision    Recall  F1-Score\n",
       "0  Logistic Regression  0.799285   0.638857  0.799285  0.710123\n",
       "1              DT_gini  0.799602   0.776521  0.799602  0.711392\n",
       "2           DT_entropy  0.799602   0.776521  0.799602  0.711392\n",
       "3              RF_gini  0.799285   0.638857  0.799285  0.710123\n",
       "4           RF_entropy  0.799285   0.638857  0.799285  0.710123\n",
       "5      KNN_5neighbours  0.791912   0.706165  0.791912  0.718120\n",
       "6      KNN_3neighbours  0.721478   0.708290  0.721478  0.714509\n",
       "7    Gradient Boosting  0.799602   0.780849  0.799602  0.711307\n",
       "8              Bagging  0.799602   0.780849  0.799602  0.711307"
      ]
     },
     "execution_count": 106,
     "metadata": {},
     "output_type": "execute_result"
    }
   ],
   "source": [
    "# Initialize Bagging classifier with Decision Trees as base estimators\n",
    "bagging = BaggingClassifier(estimator=DecisionTreeClassifier(), n_estimators=50)\n",
    "evaluate_model('Bagging', bagging)"
   ]
  },
  {
   "cell_type": "code",
   "execution_count": 107,
   "metadata": {},
   "outputs": [
    {
     "name": "stderr",
     "output_type": "stream",
     "text": [
      "c:\\Users\\drpra\\AppData\\Local\\Programs\\Python\\Python312\\Lib\\site-packages\\sklearn\\ensemble\\_weight_boosting.py:527: FutureWarning: The SAMME.R algorithm (the default) is deprecated and will be removed in 1.6. Use the SAMME algorithm to circumvent this warning.\n",
      "  warnings.warn(\n",
      "c:\\Users\\drpra\\AppData\\Local\\Programs\\Python\\Python312\\Lib\\site-packages\\sklearn\\metrics\\_classification.py:1531: UndefinedMetricWarning: Precision is ill-defined and being set to 0.0 in labels with no predicted samples. Use `zero_division` parameter to control this behavior.\n",
      "  _warn_prf(average, modifier, f\"{metric.capitalize()} is\", len(result))\n"
     ]
    },
    {
     "data": {
      "text/html": [
       "<div>\n",
       "<style scoped>\n",
       "    .dataframe tbody tr th:only-of-type {\n",
       "        vertical-align: middle;\n",
       "    }\n",
       "\n",
       "    .dataframe tbody tr th {\n",
       "        vertical-align: top;\n",
       "    }\n",
       "\n",
       "    .dataframe thead th {\n",
       "        text-align: right;\n",
       "    }\n",
       "</style>\n",
       "<table border=\"1\" class=\"dataframe\">\n",
       "  <thead>\n",
       "    <tr style=\"text-align: right;\">\n",
       "      <th></th>\n",
       "      <th>Model</th>\n",
       "      <th>Accuracy</th>\n",
       "      <th>Precision</th>\n",
       "      <th>Recall</th>\n",
       "      <th>F1-Score</th>\n",
       "    </tr>\n",
       "  </thead>\n",
       "  <tbody>\n",
       "    <tr>\n",
       "      <th>0</th>\n",
       "      <td>Logistic Regression</td>\n",
       "      <td>0.799285</td>\n",
       "      <td>0.638857</td>\n",
       "      <td>0.799285</td>\n",
       "      <td>0.710123</td>\n",
       "    </tr>\n",
       "    <tr>\n",
       "      <th>1</th>\n",
       "      <td>DT_gini</td>\n",
       "      <td>0.799602</td>\n",
       "      <td>0.776521</td>\n",
       "      <td>0.799602</td>\n",
       "      <td>0.711392</td>\n",
       "    </tr>\n",
       "    <tr>\n",
       "      <th>2</th>\n",
       "      <td>DT_entropy</td>\n",
       "      <td>0.799602</td>\n",
       "      <td>0.776521</td>\n",
       "      <td>0.799602</td>\n",
       "      <td>0.711392</td>\n",
       "    </tr>\n",
       "    <tr>\n",
       "      <th>3</th>\n",
       "      <td>RF_gini</td>\n",
       "      <td>0.799285</td>\n",
       "      <td>0.638857</td>\n",
       "      <td>0.799285</td>\n",
       "      <td>0.710123</td>\n",
       "    </tr>\n",
       "    <tr>\n",
       "      <th>4</th>\n",
       "      <td>RF_entropy</td>\n",
       "      <td>0.799285</td>\n",
       "      <td>0.638857</td>\n",
       "      <td>0.799285</td>\n",
       "      <td>0.710123</td>\n",
       "    </tr>\n",
       "    <tr>\n",
       "      <th>5</th>\n",
       "      <td>KNN_5neighbours</td>\n",
       "      <td>0.791912</td>\n",
       "      <td>0.706165</td>\n",
       "      <td>0.791912</td>\n",
       "      <td>0.718120</td>\n",
       "    </tr>\n",
       "    <tr>\n",
       "      <th>6</th>\n",
       "      <td>KNN_3neighbours</td>\n",
       "      <td>0.721478</td>\n",
       "      <td>0.708290</td>\n",
       "      <td>0.721478</td>\n",
       "      <td>0.714509</td>\n",
       "    </tr>\n",
       "    <tr>\n",
       "      <th>7</th>\n",
       "      <td>Gradient Boosting</td>\n",
       "      <td>0.799602</td>\n",
       "      <td>0.780849</td>\n",
       "      <td>0.799602</td>\n",
       "      <td>0.711307</td>\n",
       "    </tr>\n",
       "    <tr>\n",
       "      <th>8</th>\n",
       "      <td>Bagging</td>\n",
       "      <td>0.799602</td>\n",
       "      <td>0.780849</td>\n",
       "      <td>0.799602</td>\n",
       "      <td>0.711307</td>\n",
       "    </tr>\n",
       "    <tr>\n",
       "      <th>9</th>\n",
       "      <td>Adaptive Boosting</td>\n",
       "      <td>0.799285</td>\n",
       "      <td>0.638857</td>\n",
       "      <td>0.799285</td>\n",
       "      <td>0.710123</td>\n",
       "    </tr>\n",
       "  </tbody>\n",
       "</table>\n",
       "</div>"
      ],
      "text/plain": [
       "                 Model  Accuracy  Precision    Recall  F1-Score\n",
       "0  Logistic Regression  0.799285   0.638857  0.799285  0.710123\n",
       "1              DT_gini  0.799602   0.776521  0.799602  0.711392\n",
       "2           DT_entropy  0.799602   0.776521  0.799602  0.711392\n",
       "3              RF_gini  0.799285   0.638857  0.799285  0.710123\n",
       "4           RF_entropy  0.799285   0.638857  0.799285  0.710123\n",
       "5      KNN_5neighbours  0.791912   0.706165  0.791912  0.718120\n",
       "6      KNN_3neighbours  0.721478   0.708290  0.721478  0.714509\n",
       "7    Gradient Boosting  0.799602   0.780849  0.799602  0.711307\n",
       "8              Bagging  0.799602   0.780849  0.799602  0.711307\n",
       "9    Adaptive Boosting  0.799285   0.638857  0.799285  0.710123"
      ]
     },
     "execution_count": 107,
     "metadata": {},
     "output_type": "execute_result"
    }
   ],
   "source": [
    "# Initialize AdaBoost classifier with Decision Trees as weak learners\n",
    "adaboost = AdaBoostClassifier(estimator=DecisionTreeClassifier(max_depth=1), n_estimators=50, learning_rate=1.0)\n",
    "evaluate_model('Adaptive Boosting', adaboost)"
   ]
  },
  {
   "cell_type": "code",
   "execution_count": 108,
   "metadata": {},
   "outputs": [
    {
     "name": "stderr",
     "output_type": "stream",
     "text": [
      "c:\\Users\\drpra\\AppData\\Local\\Programs\\Python\\Python312\\Lib\\site-packages\\sklearn\\metrics\\_classification.py:1531: UndefinedMetricWarning: Precision is ill-defined and being set to 0.0 in labels with no predicted samples. Use `zero_division` parameter to control this behavior.\n",
      "  _warn_prf(average, modifier, f\"{metric.capitalize()} is\", len(result))\n"
     ]
    },
    {
     "data": {
      "text/html": [
       "<div>\n",
       "<style scoped>\n",
       "    .dataframe tbody tr th:only-of-type {\n",
       "        vertical-align: middle;\n",
       "    }\n",
       "\n",
       "    .dataframe tbody tr th {\n",
       "        vertical-align: top;\n",
       "    }\n",
       "\n",
       "    .dataframe thead th {\n",
       "        text-align: right;\n",
       "    }\n",
       "</style>\n",
       "<table border=\"1\" class=\"dataframe\">\n",
       "  <thead>\n",
       "    <tr style=\"text-align: right;\">\n",
       "      <th></th>\n",
       "      <th>Model</th>\n",
       "      <th>Accuracy</th>\n",
       "      <th>Precision</th>\n",
       "      <th>Recall</th>\n",
       "      <th>F1-Score</th>\n",
       "    </tr>\n",
       "  </thead>\n",
       "  <tbody>\n",
       "    <tr>\n",
       "      <th>0</th>\n",
       "      <td>Logistic Regression</td>\n",
       "      <td>0.799285</td>\n",
       "      <td>0.638857</td>\n",
       "      <td>0.799285</td>\n",
       "      <td>0.710123</td>\n",
       "    </tr>\n",
       "    <tr>\n",
       "      <th>1</th>\n",
       "      <td>DT_gini</td>\n",
       "      <td>0.799602</td>\n",
       "      <td>0.776521</td>\n",
       "      <td>0.799602</td>\n",
       "      <td>0.711392</td>\n",
       "    </tr>\n",
       "    <tr>\n",
       "      <th>2</th>\n",
       "      <td>DT_entropy</td>\n",
       "      <td>0.799602</td>\n",
       "      <td>0.776521</td>\n",
       "      <td>0.799602</td>\n",
       "      <td>0.711392</td>\n",
       "    </tr>\n",
       "    <tr>\n",
       "      <th>3</th>\n",
       "      <td>RF_gini</td>\n",
       "      <td>0.799285</td>\n",
       "      <td>0.638857</td>\n",
       "      <td>0.799285</td>\n",
       "      <td>0.710123</td>\n",
       "    </tr>\n",
       "    <tr>\n",
       "      <th>4</th>\n",
       "      <td>RF_entropy</td>\n",
       "      <td>0.799285</td>\n",
       "      <td>0.638857</td>\n",
       "      <td>0.799285</td>\n",
       "      <td>0.710123</td>\n",
       "    </tr>\n",
       "    <tr>\n",
       "      <th>5</th>\n",
       "      <td>KNN_5neighbours</td>\n",
       "      <td>0.791912</td>\n",
       "      <td>0.706165</td>\n",
       "      <td>0.791912</td>\n",
       "      <td>0.718120</td>\n",
       "    </tr>\n",
       "    <tr>\n",
       "      <th>6</th>\n",
       "      <td>KNN_3neighbours</td>\n",
       "      <td>0.721478</td>\n",
       "      <td>0.708290</td>\n",
       "      <td>0.721478</td>\n",
       "      <td>0.714509</td>\n",
       "    </tr>\n",
       "    <tr>\n",
       "      <th>7</th>\n",
       "      <td>Gradient Boosting</td>\n",
       "      <td>0.799602</td>\n",
       "      <td>0.780849</td>\n",
       "      <td>0.799602</td>\n",
       "      <td>0.711307</td>\n",
       "    </tr>\n",
       "    <tr>\n",
       "      <th>8</th>\n",
       "      <td>Bagging</td>\n",
       "      <td>0.799602</td>\n",
       "      <td>0.780849</td>\n",
       "      <td>0.799602</td>\n",
       "      <td>0.711307</td>\n",
       "    </tr>\n",
       "    <tr>\n",
       "      <th>9</th>\n",
       "      <td>Adaptive Boosting</td>\n",
       "      <td>0.799285</td>\n",
       "      <td>0.638857</td>\n",
       "      <td>0.799285</td>\n",
       "      <td>0.710123</td>\n",
       "    </tr>\n",
       "    <tr>\n",
       "      <th>10</th>\n",
       "      <td>Neural Network</td>\n",
       "      <td>0.799285</td>\n",
       "      <td>0.638857</td>\n",
       "      <td>0.799285</td>\n",
       "      <td>0.710123</td>\n",
       "    </tr>\n",
       "  </tbody>\n",
       "</table>\n",
       "</div>"
      ],
      "text/plain": [
       "                  Model  Accuracy  Precision    Recall  F1-Score\n",
       "0   Logistic Regression  0.799285   0.638857  0.799285  0.710123\n",
       "1               DT_gini  0.799602   0.776521  0.799602  0.711392\n",
       "2            DT_entropy  0.799602   0.776521  0.799602  0.711392\n",
       "3               RF_gini  0.799285   0.638857  0.799285  0.710123\n",
       "4            RF_entropy  0.799285   0.638857  0.799285  0.710123\n",
       "5       KNN_5neighbours  0.791912   0.706165  0.791912  0.718120\n",
       "6       KNN_3neighbours  0.721478   0.708290  0.721478  0.714509\n",
       "7     Gradient Boosting  0.799602   0.780849  0.799602  0.711307\n",
       "8               Bagging  0.799602   0.780849  0.799602  0.711307\n",
       "9     Adaptive Boosting  0.799285   0.638857  0.799285  0.710123\n",
       "10       Neural Network  0.799285   0.638857  0.799285  0.710123"
      ]
     },
     "execution_count": 108,
     "metadata": {},
     "output_type": "execute_result"
    }
   ],
   "source": [
    "# Initialize a basic Multi-Layer Perceptron (Neural Network)\n",
    "neural_network = MLPClassifier(hidden_layer_sizes=(100,), max_iter=200, activation='relu', solver='adam')\n",
    "evaluate_model('Neural Network', neural_network)"
   ]
  },
  {
   "cell_type": "markdown",
   "metadata": {},
   "source": [
    "### Logistic regression model will be used in further bias identification process."
   ]
  },
  {
   "cell_type": "markdown",
   "metadata": {},
   "source": [
    "## Bias Identification"
   ]
  },
  {
   "cell_type": "markdown",
   "metadata": {},
   "source": [
    "### 4 fairness metrics: Demographic Parity Difference, Equalized Odds Difference, Disparate Impact, Negative Rate Difference will be used. <br> These metrics will be measured for each feature to detect that this feature has bias on the logistic regression model."
   ]
  },
  {
   "cell_type": "markdown",
   "metadata": {},
   "source": [
    "### first, the required libraries for fairness metrics will be installed"
   ]
  },
  {
   "cell_type": "code",
   "execution_count": 109,
   "metadata": {},
   "outputs": [
    {
     "name": "stdout",
     "output_type": "stream",
     "text": [
      "Requirement already satisfied: fairlearn in c:\\users\\drpra\\appdata\\local\\programs\\python\\python312\\lib\\site-packages (0.10.0)\n",
      "Requirement already satisfied: numpy>=1.24.4 in c:\\users\\drpra\\appdata\\local\\programs\\python\\python312\\lib\\site-packages (from fairlearn) (1.26.4)\n",
      "Requirement already satisfied: pandas>=2.0.3 in c:\\users\\drpra\\appdata\\local\\programs\\python\\python312\\lib\\site-packages (from fairlearn) (2.2.1)\n",
      "Requirement already satisfied: scikit-learn>=1.2.1 in c:\\users\\drpra\\appdata\\local\\programs\\python\\python312\\lib\\site-packages (from fairlearn) (1.5.2)\n",
      "Requirement already satisfied: scipy>=1.9.3 in c:\\users\\drpra\\appdata\\local\\programs\\python\\python312\\lib\\site-packages (from fairlearn) (1.12.0)\n",
      "Requirement already satisfied: python-dateutil>=2.8.2 in c:\\users\\drpra\\appdata\\roaming\\python\\python312\\site-packages (from pandas>=2.0.3->fairlearn) (2.9.0.post0)\n",
      "Requirement already satisfied: pytz>=2020.1 in c:\\users\\drpra\\appdata\\local\\programs\\python\\python312\\lib\\site-packages (from pandas>=2.0.3->fairlearn) (2024.1)\n",
      "Requirement already satisfied: tzdata>=2022.7 in c:\\users\\drpra\\appdata\\local\\programs\\python\\python312\\lib\\site-packages (from pandas>=2.0.3->fairlearn) (2024.1)\n",
      "Requirement already satisfied: joblib>=1.2.0 in c:\\users\\drpra\\appdata\\local\\programs\\python\\python312\\lib\\site-packages (from scikit-learn>=1.2.1->fairlearn) (1.3.2)\n",
      "Requirement already satisfied: threadpoolctl>=3.1.0 in c:\\users\\drpra\\appdata\\local\\programs\\python\\python312\\lib\\site-packages (from scikit-learn>=1.2.1->fairlearn) (3.4.0)\n",
      "Requirement already satisfied: six>=1.5 in c:\\users\\drpra\\appdata\\roaming\\python\\python312\\site-packages (from python-dateutil>=2.8.2->pandas>=2.0.3->fairlearn) (1.16.0)\n",
      "Note: you may need to restart the kernel to use updated packages.\n"
     ]
    },
    {
     "name": "stderr",
     "output_type": "stream",
     "text": [
      "\n",
      "[notice] A new release of pip is available: 24.2 -> 24.3.1\n",
      "[notice] To update, run: python.exe -m pip install --upgrade pip\n"
     ]
    }
   ],
   "source": [
    "pip install fairlearn"
   ]
  },
  {
   "cell_type": "code",
   "execution_count": 110,
   "metadata": {},
   "outputs": [
    {
     "name": "stdout",
     "output_type": "stream",
     "text": [
      "Requirement already satisfied: aif360 in c:\\users\\drpra\\appdata\\local\\programs\\python\\python312\\lib\\site-packages (0.6.1)\n",
      "Requirement already satisfied: numpy>=1.16 in c:\\users\\drpra\\appdata\\local\\programs\\python\\python312\\lib\\site-packages (from aif360) (1.26.4)\n",
      "Requirement already satisfied: scipy>=1.2.0 in c:\\users\\drpra\\appdata\\local\\programs\\python\\python312\\lib\\site-packages (from aif360) (1.12.0)\n",
      "Requirement already satisfied: pandas>=0.24.0 in c:\\users\\drpra\\appdata\\local\\programs\\python\\python312\\lib\\site-packages (from aif360) (2.2.1)\n",
      "Requirement already satisfied: scikit-learn>=1.0 in c:\\users\\drpra\\appdata\\local\\programs\\python\\python312\\lib\\site-packages (from aif360) (1.5.2)\n",
      "Requirement already satisfied: matplotlib in c:\\users\\drpra\\appdata\\local\\programs\\python\\python312\\lib\\site-packages (from aif360) (3.8.3)\n",
      "Requirement already satisfied: python-dateutil>=2.8.2 in c:\\users\\drpra\\appdata\\roaming\\python\\python312\\site-packages (from pandas>=0.24.0->aif360) (2.9.0.post0)\n",
      "Requirement already satisfied: pytz>=2020.1 in c:\\users\\drpra\\appdata\\local\\programs\\python\\python312\\lib\\site-packages (from pandas>=0.24.0->aif360) (2024.1)\n",
      "Requirement already satisfied: tzdata>=2022.7 in c:\\users\\drpra\\appdata\\local\\programs\\python\\python312\\lib\\site-packages (from pandas>=0.24.0->aif360) (2024.1)\n",
      "Requirement already satisfied: joblib>=1.2.0 in c:\\users\\drpra\\appdata\\local\\programs\\python\\python312\\lib\\site-packages (from scikit-learn>=1.0->aif360) (1.3.2)\n",
      "Requirement already satisfied: threadpoolctl>=3.1.0 in c:\\users\\drpra\\appdata\\local\\programs\\python\\python312\\lib\\site-packages (from scikit-learn>=1.0->aif360) (3.4.0)\n",
      "Requirement already satisfied: contourpy>=1.0.1 in c:\\users\\drpra\\appdata\\local\\programs\\python\\python312\\lib\\site-packages (from matplotlib->aif360) (1.2.0)\n",
      "Requirement already satisfied: cycler>=0.10 in c:\\users\\drpra\\appdata\\local\\programs\\python\\python312\\lib\\site-packages (from matplotlib->aif360) (0.12.1)\n",
      "Requirement already satisfied: fonttools>=4.22.0 in c:\\users\\drpra\\appdata\\local\\programs\\python\\python312\\lib\\site-packages (from matplotlib->aif360) (4.50.0)\n",
      "Requirement already satisfied: kiwisolver>=1.3.1 in c:\\users\\drpra\\appdata\\local\\programs\\python\\python312\\lib\\site-packages (from matplotlib->aif360) (1.4.5)\n",
      "Requirement already satisfied: packaging>=20.0 in c:\\users\\drpra\\appdata\\roaming\\python\\python312\\site-packages (from matplotlib->aif360) (24.0)\n",
      "Requirement already satisfied: pillow>=8 in c:\\users\\drpra\\appdata\\local\\programs\\python\\python312\\lib\\site-packages (from matplotlib->aif360) (10.2.0)\n",
      "Requirement already satisfied: pyparsing>=2.3.1 in c:\\users\\drpra\\appdata\\local\\programs\\python\\python312\\lib\\site-packages (from matplotlib->aif360) (3.1.2)\n",
      "Requirement already satisfied: six>=1.5 in c:\\users\\drpra\\appdata\\roaming\\python\\python312\\site-packages (from python-dateutil>=2.8.2->pandas>=0.24.0->aif360) (1.16.0)\n",
      "Note: you may need to restart the kernel to use updated packages.\n"
     ]
    },
    {
     "name": "stderr",
     "output_type": "stream",
     "text": [
      "\n",
      "[notice] A new release of pip is available: 24.2 -> 24.3.1\n",
      "[notice] To update, run: python.exe -m pip install --upgrade pip\n"
     ]
    }
   ],
   "source": [
    "pip install aif360"
   ]
  },
  {
   "cell_type": "code",
   "execution_count": 111,
   "metadata": {},
   "outputs": [
    {
     "name": "stdout",
     "output_type": "stream",
     "text": [
      "Requirement already satisfied: aif360[inFairness] in c:\\users\\drpra\\appdata\\local\\programs\\python\\python312\\lib\\site-packages (0.6.1)\n",
      "Requirement already satisfied: numpy>=1.16 in c:\\users\\drpra\\appdata\\local\\programs\\python\\python312\\lib\\site-packages (from aif360[inFairness]) (1.26.4)\n",
      "Requirement already satisfied: scipy>=1.2.0 in c:\\users\\drpra\\appdata\\local\\programs\\python\\python312\\lib\\site-packages (from aif360[inFairness]) (1.12.0)\n",
      "Requirement already satisfied: pandas>=0.24.0 in c:\\users\\drpra\\appdata\\local\\programs\\python\\python312\\lib\\site-packages (from aif360[inFairness]) (2.2.1)\n",
      "Requirement already satisfied: scikit-learn>=1.0 in c:\\users\\drpra\\appdata\\local\\programs\\python\\python312\\lib\\site-packages (from aif360[inFairness]) (1.5.2)\n",
      "Requirement already satisfied: matplotlib in c:\\users\\drpra\\appdata\\local\\programs\\python\\python312\\lib\\site-packages (from aif360[inFairness]) (3.8.3)\n",
      "Requirement already satisfied: skorch in c:\\users\\drpra\\appdata\\local\\programs\\python\\python312\\lib\\site-packages (from aif360[inFairness]) (1.0.0)\n",
      "Requirement already satisfied: inFairness>=0.2.2 in c:\\users\\drpra\\appdata\\local\\programs\\python\\python312\\lib\\site-packages (from aif360[inFairness]) (0.2.3)\n",
      "Requirement already satisfied: POT>=0.8.0 in c:\\users\\drpra\\appdata\\local\\programs\\python\\python312\\lib\\site-packages (from inFairness>=0.2.2->aif360[inFairness]) (0.9.4)\n",
      "Requirement already satisfied: torch>=1.13.0 in c:\\users\\drpra\\appdata\\local\\programs\\python\\python312\\lib\\site-packages (from inFairness>=0.2.2->aif360[inFairness]) (2.5.1)\n",
      "Requirement already satisfied: python-dateutil>=2.8.2 in c:\\users\\drpra\\appdata\\roaming\\python\\python312\\site-packages (from pandas>=0.24.0->aif360[inFairness]) (2.9.0.post0)\n",
      "Requirement already satisfied: pytz>=2020.1 in c:\\users\\drpra\\appdata\\local\\programs\\python\\python312\\lib\\site-packages (from pandas>=0.24.0->aif360[inFairness]) (2024.1)\n",
      "Requirement already satisfied: tzdata>=2022.7 in c:\\users\\drpra\\appdata\\local\\programs\\python\\python312\\lib\\site-packages (from pandas>=0.24.0->aif360[inFairness]) (2024.1)\n",
      "Requirement already satisfied: joblib>=1.2.0 in c:\\users\\drpra\\appdata\\local\\programs\\python\\python312\\lib\\site-packages (from scikit-learn>=1.0->aif360[inFairness]) (1.3.2)\n",
      "Requirement already satisfied: threadpoolctl>=3.1.0 in c:\\users\\drpra\\appdata\\local\\programs\\python\\python312\\lib\\site-packages (from scikit-learn>=1.0->aif360[inFairness]) (3.4.0)\n",
      "Requirement already satisfied: contourpy>=1.0.1 in c:\\users\\drpra\\appdata\\local\\programs\\python\\python312\\lib\\site-packages (from matplotlib->aif360[inFairness]) (1.2.0)\n",
      "Requirement already satisfied: cycler>=0.10 in c:\\users\\drpra\\appdata\\local\\programs\\python\\python312\\lib\\site-packages (from matplotlib->aif360[inFairness]) (0.12.1)\n",
      "Requirement already satisfied: fonttools>=4.22.0 in c:\\users\\drpra\\appdata\\local\\programs\\python\\python312\\lib\\site-packages (from matplotlib->aif360[inFairness]) (4.50.0)\n",
      "Requirement already satisfied: kiwisolver>=1.3.1 in c:\\users\\drpra\\appdata\\local\\programs\\python\\python312\\lib\\site-packages (from matplotlib->aif360[inFairness]) (1.4.5)\n",
      "Requirement already satisfied: packaging>=20.0 in c:\\users\\drpra\\appdata\\roaming\\python\\python312\\site-packages (from matplotlib->aif360[inFairness]) (24.0)\n",
      "Requirement already satisfied: pillow>=8 in c:\\users\\drpra\\appdata\\local\\programs\\python\\python312\\lib\\site-packages (from matplotlib->aif360[inFairness]) (10.2.0)\n",
      "Requirement already satisfied: pyparsing>=2.3.1 in c:\\users\\drpra\\appdata\\local\\programs\\python\\python312\\lib\\site-packages (from matplotlib->aif360[inFairness]) (3.1.2)\n",
      "Requirement already satisfied: tabulate>=0.7.7 in c:\\users\\drpra\\appdata\\local\\programs\\python\\python312\\lib\\site-packages (from skorch->aif360[inFairness]) (0.9.0)\n",
      "Requirement already satisfied: tqdm>=4.14.0 in c:\\users\\drpra\\appdata\\local\\programs\\python\\python312\\lib\\site-packages (from skorch->aif360[inFairness]) (4.66.5)\n",
      "Requirement already satisfied: six>=1.5 in c:\\users\\drpra\\appdata\\roaming\\python\\python312\\site-packages (from python-dateutil>=2.8.2->pandas>=0.24.0->aif360[inFairness]) (1.16.0)\n",
      "Requirement already satisfied: filelock in c:\\users\\drpra\\appdata\\local\\programs\\python\\python312\\lib\\site-packages (from torch>=1.13.0->inFairness>=0.2.2->aif360[inFairness]) (3.16.1)\n",
      "Requirement already satisfied: typing-extensions>=4.8.0 in c:\\users\\drpra\\appdata\\local\\programs\\python\\python312\\lib\\site-packages (from torch>=1.13.0->inFairness>=0.2.2->aif360[inFairness]) (4.12.2)\n",
      "Requirement already satisfied: networkx in c:\\users\\drpra\\appdata\\local\\programs\\python\\python312\\lib\\site-packages (from torch>=1.13.0->inFairness>=0.2.2->aif360[inFairness]) (3.4.2)\n",
      "Requirement already satisfied: jinja2 in c:\\users\\drpra\\appdata\\local\\programs\\python\\python312\\lib\\site-packages (from torch>=1.13.0->inFairness>=0.2.2->aif360[inFairness]) (3.1.4)\n",
      "Requirement already satisfied: fsspec in c:\\users\\drpra\\appdata\\local\\programs\\python\\python312\\lib\\site-packages (from torch>=1.13.0->inFairness>=0.2.2->aif360[inFairness]) (2024.10.0)\n",
      "Requirement already satisfied: setuptools in c:\\users\\drpra\\appdata\\local\\programs\\python\\python312\\lib\\site-packages (from torch>=1.13.0->inFairness>=0.2.2->aif360[inFairness]) (74.1.2)\n",
      "Requirement already satisfied: sympy==1.13.1 in c:\\users\\drpra\\appdata\\local\\programs\\python\\python312\\lib\\site-packages (from torch>=1.13.0->inFairness>=0.2.2->aif360[inFairness]) (1.13.1)\n",
      "Requirement already satisfied: mpmath<1.4,>=1.1.0 in c:\\users\\drpra\\appdata\\local\\programs\\python\\python312\\lib\\site-packages (from sympy==1.13.1->torch>=1.13.0->inFairness>=0.2.2->aif360[inFairness]) (1.3.0)\n",
      "Requirement already satisfied: colorama in c:\\users\\drpra\\appdata\\roaming\\python\\python312\\site-packages (from tqdm>=4.14.0->skorch->aif360[inFairness]) (0.4.6)\n",
      "Requirement already satisfied: MarkupSafe>=2.0 in c:\\users\\drpra\\appdata\\local\\programs\\python\\python312\\lib\\site-packages (from jinja2->torch>=1.13.0->inFairness>=0.2.2->aif360[inFairness]) (2.1.5)\n",
      "Note: you may need to restart the kernel to use updated packages.\n"
     ]
    },
    {
     "name": "stderr",
     "output_type": "stream",
     "text": [
      "\n",
      "[notice] A new release of pip is available: 24.2 -> 24.3.1\n",
      "[notice] To update, run: python.exe -m pip install --upgrade pip\n"
     ]
    }
   ],
   "source": [
    "pip install aif360[inFairness]"
   ]
  },
  {
   "cell_type": "markdown",
   "metadata": {},
   "source": [
    "### Import required modules"
   ]
  },
  {
   "cell_type": "code",
   "execution_count": 112,
   "metadata": {},
   "outputs": [],
   "source": [
    "from fairlearn.metrics import demographic_parity_difference, equalized_odds_difference\n",
    "from aif360.metrics import BinaryLabelDatasetMetric\n",
    "from aif360.datasets import BinaryLabelDataset\n",
    "from sklearn.metrics import accuracy_score, confusion_matrix"
   ]
  },
  {
   "cell_type": "markdown",
   "metadata": {},
   "source": [
    "### Select a feature to test as demographic data and integrated into the dataframe <br> The dataframe has actual target(no-show), predicted target, and this feature as demographic."
   ]
  },
  {
   "cell_type": "code",
   "execution_count": 113,
   "metadata": {},
   "outputs": [],
   "source": [
    "demographic_data = df['Gender']"
   ]
  },
  {
   "cell_type": "code",
   "execution_count": 114,
   "metadata": {},
   "outputs": [],
   "source": [
    "y_true = y\n",
    "y_pred_all = log_reg.predict(X)"
   ]
  },
  {
   "cell_type": "code",
   "execution_count": 115,
   "metadata": {},
   "outputs": [],
   "source": [
    "# Create a dataframe for convenience\n",
    "df_results = pd.DataFrame({\n",
    "    'y_true': y_true,\n",
    "    'y_pred': y_pred_all,\n",
    "    'demographic': demographic_data\n",
    "})\n"
   ]
  },
  {
   "cell_type": "code",
   "execution_count": 116,
   "metadata": {},
   "outputs": [
    {
     "data": {
      "text/html": [
       "<div>\n",
       "<style scoped>\n",
       "    .dataframe tbody tr th:only-of-type {\n",
       "        vertical-align: middle;\n",
       "    }\n",
       "\n",
       "    .dataframe tbody tr th {\n",
       "        vertical-align: top;\n",
       "    }\n",
       "\n",
       "    .dataframe thead th {\n",
       "        text-align: right;\n",
       "    }\n",
       "</style>\n",
       "<table border=\"1\" class=\"dataframe\">\n",
       "  <thead>\n",
       "    <tr style=\"text-align: right;\">\n",
       "      <th></th>\n",
       "      <th>y_true</th>\n",
       "      <th>y_pred</th>\n",
       "      <th>demographic</th>\n",
       "    </tr>\n",
       "  </thead>\n",
       "  <tbody>\n",
       "    <tr>\n",
       "      <th>0</th>\n",
       "      <td>0</td>\n",
       "      <td>0</td>\n",
       "      <td>0</td>\n",
       "    </tr>\n",
       "    <tr>\n",
       "      <th>1</th>\n",
       "      <td>0</td>\n",
       "      <td>0</td>\n",
       "      <td>1</td>\n",
       "    </tr>\n",
       "    <tr>\n",
       "      <th>2</th>\n",
       "      <td>0</td>\n",
       "      <td>0</td>\n",
       "      <td>0</td>\n",
       "    </tr>\n",
       "    <tr>\n",
       "      <th>3</th>\n",
       "      <td>0</td>\n",
       "      <td>0</td>\n",
       "      <td>0</td>\n",
       "    </tr>\n",
       "    <tr>\n",
       "      <th>4</th>\n",
       "      <td>0</td>\n",
       "      <td>0</td>\n",
       "      <td>0</td>\n",
       "    </tr>\n",
       "  </tbody>\n",
       "</table>\n",
       "</div>"
      ],
      "text/plain": [
       "   y_true  y_pred  demographic\n",
       "0       0       0            0\n",
       "1       0       0            1\n",
       "2       0       0            0\n",
       "3       0       0            0\n",
       "4       0       0            0"
      ]
     },
     "execution_count": 116,
     "metadata": {},
     "output_type": "execute_result"
    }
   ],
   "source": [
    "df_results.head()"
   ]
  },
  {
   "cell_type": "code",
   "execution_count": 117,
   "metadata": {},
   "outputs": [
    {
     "name": "stdout",
     "output_type": "stream",
     "text": [
      "Overall accuracy: 0.798067440534892\n"
     ]
    }
   ],
   "source": [
    "# Compute accuracy overall\n",
    "accuracy = accuracy_score(df_results['y_true'], df_results['y_pred'])\n",
    "print(\"Overall accuracy:\", accuracy)"
   ]
  },
  {
   "cell_type": "markdown",
   "metadata": {},
   "source": [
    "### 2 Metrics Demographic Parity Difference, Equalized Odds Difference will be measured on that feature as follows."
   ]
  },
  {
   "cell_type": "code",
   "execution_count": 118,
   "metadata": {},
   "outputs": [
    {
     "name": "stdout",
     "output_type": "stream",
     "text": [
      "Demographic Parity Difference: 0.0\n",
      "Equalized Odds Difference: 0.0\n"
     ]
    }
   ],
   "source": [
    "# Fairness metrics: Demographic Parity and Equalized Odds\n",
    "demographic_parity_diff = demographic_parity_difference(df_results['y_true'], df_results['y_pred'], sensitive_features=df_results['demographic'])\n",
    "equalized_odds_diff = equalized_odds_difference(df_results['y_true'], df_results['y_pred'], sensitive_features=df_results['demographic'])\n",
    "\n",
    "print(f\"Demographic Parity Difference: {demographic_parity_diff}\")\n",
    "print(f\"Equalized Odds Difference: {equalized_odds_diff}\")\n"
   ]
  },
  {
   "cell_type": "markdown",
   "metadata": {},
   "source": [
    "### Disparate Impact metrics is measured as follows."
   ]
  },
  {
   "cell_type": "code",
   "execution_count": 119,
   "metadata": {},
   "outputs": [
    {
     "name": "stdout",
     "output_type": "stream",
     "text": [
      "Disparate Impact: 1.017359825141811\n"
     ]
    }
   ],
   "source": [
    "# Additional bias metrics using AIF360\n",
    "# Convert the dataframe to a BinaryLabelDataset object\n",
    "dataset = BinaryLabelDataset(\n",
    "    df=df_results,\n",
    "    label_names=['y_true'],\n",
    "    protected_attribute_names=['demographic']\n",
    ")\n",
    "\n",
    "# Compute metrics\n",
    "metric = BinaryLabelDatasetMetric(dataset, privileged_groups=[{'demographic': 1}], unprivileged_groups=[{'demographic': 0}])\n",
    "\n",
    "# Disparate impact\n",
    "disparate_impact = metric.disparate_impact()\n",
    "print(f\"Disparate Impact: {disparate_impact}\")"
   ]
  },
  {
   "cell_type": "markdown",
   "metadata": {},
   "source": [
    "### False Negative Rate Difference metrics is measured as follows."
   ]
  },
  {
   "cell_type": "code",
   "execution_count": 120,
   "metadata": {},
   "outputs": [
    {
     "name": "stdout",
     "output_type": "stream",
     "text": [
      "False Negative Rate for Privileged Group: 1.0\n",
      "False Negative Rate for Unprivileged Group: 1.0\n",
      "False Negative Rate Difference: 0.0\n"
     ]
    }
   ],
   "source": [
    "# Calculate False Negative Rate (FNR) for privileged and unprivileged groups manually\n",
    "# First, separate the privileged and unprivileged groups\n",
    "privileged_group = df_results[df_results['demographic'] == 1]  # Assuming '1' represents privileged (e.g., Male)\n",
    "unprivileged_group = df_results[df_results['demographic'] == 0]  # Assuming '0' represents unprivileged (e.g., Female)\n",
    "\n",
    "# False Negative Rate (FNR) for Privileged Group\n",
    "tn_priv, fp_priv, fn_priv, tp_priv = confusion_matrix(privileged_group['y_true'], privileged_group['y_pred']).ravel()\n",
    "fnr_privileged = fn_priv / (fn_priv + tp_priv) if (fn_priv + tp_priv) > 0 else 0\n",
    "\n",
    "# False Negative Rate (FNR) for Unprivileged Group\n",
    "tn_unpriv, fp_unpriv, fn_unpriv, tp_unpriv = confusion_matrix(unprivileged_group['y_true'], unprivileged_group['y_pred']).ravel()\n",
    "fnr_unprivileged = fn_unpriv / (fn_unpriv + tp_unpriv) if (fn_unpriv + tp_unpriv) > 0 else 0\n",
    "\n",
    "# Difference in False Negative Rates\n",
    "fnr_difference = fnr_privileged - fnr_unprivileged\n",
    "\n",
    "print(f\"False Negative Rate for Privileged Group: {fnr_privileged}\")\n",
    "print(f\"False Negative Rate for Unprivileged Group: {fnr_unprivileged}\")\n",
    "print(f\"False Negative Rate Difference: {fnr_difference}\")"
   ]
  },
  {
   "cell_type": "markdown",
   "metadata": {},
   "source": [
    "### According to the results of 4 metrics, the feature 'Gender' has no bias on the model"
   ]
  },
  {
   "cell_type": "markdown",
   "metadata": {},
   "source": [
    "### A function is structured and executed to calculate these 4 metrics on each feature easily."
   ]
  },
  {
   "cell_type": "code",
   "execution_count": 121,
   "metadata": {},
   "outputs": [],
   "source": [
    "def calculate_bias(y_true, y_pred, demographic_data):\n",
    "    df_results = pd.DataFrame({\n",
    "    'y_true': y_true,\n",
    "    'y_pred': y_pred_all,\n",
    "    'demographic': demographic_data\n",
    "    })\n",
    "    accuracy = accuracy_score(df_results['y_true'], df_results['y_pred'])\n",
    "    print(\"Overall accuracy:\", accuracy)\n",
    "    demographic_parity_diff = demographic_parity_difference(df_results['y_true'], df_results['y_pred'], sensitive_features=df_results['demographic'])\n",
    "    equalized_odds_diff = equalized_odds_difference(df_results['y_true'], df_results['y_pred'], sensitive_features=df_results['demographic'])\n",
    "\n",
    "    print(f\"Demographic Parity Difference: {demographic_parity_diff}\")\n",
    "    print(f\"Equalized Odds Difference: {equalized_odds_diff}\")\n",
    "\n",
    "    # Additional bias metrics using AIF360\n",
    "    # Convert the dataframe to a BinaryLabelDataset object\n",
    "    dataset = BinaryLabelDataset(\n",
    "    df=df_results,\n",
    "    label_names=['y_true'],\n",
    "    protected_attribute_names=['demographic']\n",
    "    )\n",
    "\n",
    "# Compute metrics\n",
    "    metric = BinaryLabelDatasetMetric(dataset, privileged_groups=[{'demographic': 1}], unprivileged_groups=[{'demographic': 0}])\n",
    "\n",
    "# Disparate impact\n",
    "    disparate_impact = metric.disparate_impact()\n",
    "    print(f\"Disparate Impact: {disparate_impact}\")\n",
    "\n",
    "    # Calculate False Negative Rate (FNR) for privileged and unprivileged groups manually\n",
    "    # First, separate the privileged and unprivileged groups\n",
    "    privileged_group = df_results[df_results['demographic'] == 1]  # Assuming '1' represents privileged (e.g., Male)\n",
    "    unprivileged_group = df_results[df_results['demographic'] == 0]  # Assuming '0' represents unprivileged (e.g., Female)\n",
    "\n",
    "    # False Negative Rate (FNR) for Privileged Group\n",
    "    tn_priv, fp_priv, fn_priv, tp_priv = confusion_matrix(privileged_group['y_true'], privileged_group['y_pred']).ravel()\n",
    "    fnr_privileged = fn_priv / (fn_priv + tp_priv) if (fn_priv + tp_priv) > 0 else 0\n",
    "\n",
    "    # False Negative Rate (FNR) for Unprivileged Group\n",
    "    tn_unpriv, fp_unpriv, fn_unpriv, tp_unpriv = confusion_matrix(unprivileged_group['y_true'], unprivileged_group['y_pred']).ravel()\n",
    "    fnr_unprivileged = fn_unpriv / (fn_unpriv + tp_unpriv) if (fn_unpriv + tp_unpriv) > 0 else 0\n",
    "\n",
    "    # Difference in False Negative Rates\n",
    "    fnr_difference = fnr_privileged - fnr_unprivileged\n",
    "\n",
    "    print(f\"False Negative Rate for Privileged Group: {fnr_privileged}\")\n",
    "    print(f\"False Negative Rate for Unprivileged Group: {fnr_unprivileged}\")\n",
    "    print(f\"False Negative Rate Difference: {fnr_difference}\")"
   ]
  },
  {
   "cell_type": "markdown",
   "metadata": {},
   "source": [
    "### Then, all binary features are used to measure the metrics, one by one."
   ]
  },
  {
   "cell_type": "code",
   "execution_count": 122,
   "metadata": {},
   "outputs": [
    {
     "name": "stdout",
     "output_type": "stream",
     "text": [
      "Overall accuracy: 0.798067440534892\n",
      "Demographic Parity Difference: 0.0\n",
      "Equalized Odds Difference: 0.0\n",
      "Disparate Impact: 0.8344667193079657\n",
      "False Negative Rate for Privileged Group: 1.0\n",
      "False Negative Rate for Unprivileged Group: 1.0\n",
      "False Negative Rate Difference: 0.0\n"
     ]
    }
   ],
   "source": [
    "demographic_data = df['Scholarship']\n",
    "calculate_bias(y_true, y_pred, demographic_data)"
   ]
  },
  {
   "cell_type": "code",
   "execution_count": 123,
   "metadata": {},
   "outputs": [
    {
     "name": "stdout",
     "output_type": "stream",
     "text": [
      "Overall accuracy: 0.798067440534892\n",
      "Demographic Parity Difference: 0.0\n",
      "Equalized Odds Difference: 0.0\n",
      "Disparate Impact: 1.2081684766204697\n",
      "False Negative Rate for Privileged Group: 1.0\n",
      "False Negative Rate for Unprivileged Group: 1.0\n",
      "False Negative Rate Difference: 0.0\n"
     ]
    }
   ],
   "source": [
    "demographic_data = df['Hypertension']\n",
    "calculate_bias(y_true, y_pred, demographic_data)"
   ]
  },
  {
   "cell_type": "code",
   "execution_count": 124,
   "metadata": {},
   "outputs": [
    {
     "name": "stdout",
     "output_type": "stream",
     "text": [
      "Overall accuracy: 0.798067440534892\n",
      "Demographic Parity Difference: 0.0\n",
      "Equalized Odds Difference: 0.0\n",
      "Disparate Impact: 1.1310623489043126\n",
      "False Negative Rate for Privileged Group: 1.0\n",
      "False Negative Rate for Unprivileged Group: 1.0\n",
      "False Negative Rate Difference: 0.0\n"
     ]
    }
   ],
   "source": [
    "demographic_data = df['Diabetes']\n",
    "calculate_bias(y_true, y_pred, demographic_data)"
   ]
  },
  {
   "cell_type": "code",
   "execution_count": 125,
   "metadata": {},
   "outputs": [
    {
     "name": "stdout",
     "output_type": "stream",
     "text": [
      "Overall accuracy: 0.798067440534892\n",
      "Demographic Parity Difference: 0.0\n",
      "Equalized Odds Difference: 0.0\n",
      "Disparate Impact: 1.0022750698226222\n",
      "False Negative Rate for Privileged Group: 1.0\n",
      "False Negative Rate for Unprivileged Group: 1.0\n",
      "False Negative Rate Difference: 0.0\n"
     ]
    }
   ],
   "source": [
    "demographic_data = df['Alcoholism']\n",
    "calculate_bias(y_true, y_pred, demographic_data)"
   ]
  },
  {
   "cell_type": "code",
   "execution_count": 126,
   "metadata": {},
   "outputs": [
    {
     "name": "stdout",
     "output_type": "stream",
     "text": [
      "Overall accuracy: 0.798067440534892\n",
      "Demographic Parity Difference: 0.0\n",
      "Equalized Odds Difference: 0.0\n",
      "Disparate Impact: 1.1141846092255194\n",
      "False Negative Rate for Privileged Group: 1.0\n",
      "False Negative Rate for Unprivileged Group: 1.0\n",
      "False Negative Rate Difference: 0.0\n"
     ]
    }
   ],
   "source": [
    "demographic_data = df['Handicap']\n",
    "calculate_bias(y_true, y_pred, demographic_data)"
   ]
  },
  {
   "cell_type": "code",
   "execution_count": 127,
   "metadata": {},
   "outputs": [
    {
     "name": "stdout",
     "output_type": "stream",
     "text": [
      "Overall accuracy: 0.798067440534892\n",
      "Demographic Parity Difference: 0.0\n",
      "Equalized Odds Difference: 0.0\n",
      "Disparate Impact: 0.6057511173317813\n",
      "False Negative Rate for Privileged Group: 1.0\n",
      "False Negative Rate for Unprivileged Group: 1.0\n",
      "False Negative Rate Difference: 0.0\n"
     ]
    }
   ],
   "source": [
    "demographic_data = df['SMS_received']\n",
    "calculate_bias(y_true, y_pred, demographic_data)"
   ]
  },
  {
   "cell_type": "markdown",
   "metadata": {},
   "source": [
    "### age_group is not binary, and it is ordnial feature having 3 categories. So, some modification needs to be done to measure the metrics."
   ]
  },
  {
   "cell_type": "code",
   "execution_count": 128,
   "metadata": {},
   "outputs": [
    {
     "name": "stdout",
     "output_type": "stream",
     "text": [
      "Unique age_group values: [2 4 3 0 1 5]\n"
     ]
    }
   ],
   "source": [
    "print(\"Unique age_group values:\", df['age_group'].unique())\n"
   ]
  },
  {
   "cell_type": "code",
   "execution_count": 129,
   "metadata": {},
   "outputs": [],
   "source": [
    "df['age_group'] = df['age_group'].replace({\n",
    "    0: 'under 15', \n",
    "    1: '15-24', \n",
    "    2: '25-44', \n",
    "    3: '45-64', \n",
    "    4: '65+'\n",
    "})\n"
   ]
  },
  {
   "cell_type": "code",
   "execution_count": 130,
   "metadata": {},
   "outputs": [],
   "source": [
    "demographic_data = df['age_group']\n",
    "df_results = pd.DataFrame({\n",
    "    'y_true': y_true,\n",
    "    'y_pred': y_pred_all,\n",
    "    'demographic_age_group': demographic_data\n",
    "})"
   ]
  },
  {
   "cell_type": "code",
   "execution_count": 131,
   "metadata": {},
   "outputs": [
    {
     "data": {
      "text/html": [
       "<div>\n",
       "<style scoped>\n",
       "    .dataframe tbody tr th:only-of-type {\n",
       "        vertical-align: middle;\n",
       "    }\n",
       "\n",
       "    .dataframe tbody tr th {\n",
       "        vertical-align: top;\n",
       "    }\n",
       "\n",
       "    .dataframe thead th {\n",
       "        text-align: right;\n",
       "    }\n",
       "</style>\n",
       "<table border=\"1\" class=\"dataframe\">\n",
       "  <thead>\n",
       "    <tr style=\"text-align: right;\">\n",
       "      <th></th>\n",
       "      <th>y_true</th>\n",
       "      <th>y_pred</th>\n",
       "      <th>demographic_age_group</th>\n",
       "    </tr>\n",
       "  </thead>\n",
       "  <tbody>\n",
       "    <tr>\n",
       "      <th>0</th>\n",
       "      <td>0</td>\n",
       "      <td>0</td>\n",
       "      <td>25-44</td>\n",
       "    </tr>\n",
       "    <tr>\n",
       "      <th>1</th>\n",
       "      <td>0</td>\n",
       "      <td>0</td>\n",
       "      <td>25-44</td>\n",
       "    </tr>\n",
       "    <tr>\n",
       "      <th>2</th>\n",
       "      <td>0</td>\n",
       "      <td>0</td>\n",
       "      <td>25-44</td>\n",
       "    </tr>\n",
       "    <tr>\n",
       "      <th>3</th>\n",
       "      <td>0</td>\n",
       "      <td>0</td>\n",
       "      <td>65+</td>\n",
       "    </tr>\n",
       "    <tr>\n",
       "      <th>4</th>\n",
       "      <td>0</td>\n",
       "      <td>0</td>\n",
       "      <td>25-44</td>\n",
       "    </tr>\n",
       "    <tr>\n",
       "      <th>...</th>\n",
       "      <td>...</td>\n",
       "      <td>...</td>\n",
       "      <td>...</td>\n",
       "    </tr>\n",
       "    <tr>\n",
       "      <th>110522</th>\n",
       "      <td>0</td>\n",
       "      <td>0</td>\n",
       "      <td>25-44</td>\n",
       "    </tr>\n",
       "    <tr>\n",
       "      <th>110523</th>\n",
       "      <td>0</td>\n",
       "      <td>0</td>\n",
       "      <td>25-44</td>\n",
       "    </tr>\n",
       "    <tr>\n",
       "      <th>110524</th>\n",
       "      <td>0</td>\n",
       "      <td>0</td>\n",
       "      <td>under 15</td>\n",
       "    </tr>\n",
       "    <tr>\n",
       "      <th>110525</th>\n",
       "      <td>0</td>\n",
       "      <td>0</td>\n",
       "      <td>15-24</td>\n",
       "    </tr>\n",
       "    <tr>\n",
       "      <th>110526</th>\n",
       "      <td>0</td>\n",
       "      <td>0</td>\n",
       "      <td>25-44</td>\n",
       "    </tr>\n",
       "  </tbody>\n",
       "</table>\n",
       "<p>110527 rows × 3 columns</p>\n",
       "</div>"
      ],
      "text/plain": [
       "        y_true  y_pred demographic_age_group\n",
       "0            0       0                 25-44\n",
       "1            0       0                 25-44\n",
       "2            0       0                 25-44\n",
       "3            0       0                   65+\n",
       "4            0       0                 25-44\n",
       "...        ...     ...                   ...\n",
       "110522       0       0                 25-44\n",
       "110523       0       0                 25-44\n",
       "110524       0       0              under 15\n",
       "110525       0       0                 15-24\n",
       "110526       0       0                 25-44\n",
       "\n",
       "[110527 rows x 3 columns]"
      ]
     },
     "execution_count": 131,
     "metadata": {},
     "output_type": "execute_result"
    }
   ],
   "source": [
    "df_results"
   ]
  },
  {
   "cell_type": "markdown",
   "metadata": {},
   "source": [
    "### Calculate Demographic Parity Difference, Equalized Odds Difference as follows. "
   ]
  },
  {
   "cell_type": "code",
   "execution_count": 132,
   "metadata": {},
   "outputs": [],
   "source": [
    "# Convert all demographic_age_group values to string type\n",
    "df_results['demographic_age_group'] = df_results['demographic_age_group'].astype(str)\n"
   ]
  },
  {
   "cell_type": "markdown",
   "metadata": {},
   "source": [
    "###Verify Column Consistency"
   ]
  },
  {
   "cell_type": "code",
   "execution_count": 133,
   "metadata": {},
   "outputs": [
    {
     "name": "stdout",
     "output_type": "stream",
     "text": [
      "Unique values in demographic_age_group: ['25-44' '65+' '45-64' 'under 15' '15-24' '5']\n"
     ]
    }
   ],
   "source": [
    "print(\"Unique values in demographic_age_group:\", df_results['demographic_age_group'].unique())\n"
   ]
  },
  {
   "cell_type": "markdown",
   "metadata": {},
   "source": [
    "### Calculate Demographic Parity Difference, Equalized Odds Difference as follows. "
   ]
  },
  {
   "cell_type": "code",
   "execution_count": 134,
   "metadata": {},
   "outputs": [
    {
     "name": "stdout",
     "output_type": "stream",
     "text": [
      "Overall accuracy: 0.798067440534892\n",
      "Demographic Parity Difference: 0.0\n",
      "Equalized Odds Difference: 0.0\n"
     ]
    }
   ],
   "source": [
    "accuracy = accuracy_score(df_results['y_true'], df_results['y_pred'])\n",
    "print(\"Overall accuracy:\", accuracy)\n",
    "demographic_parity_diff = demographic_parity_difference(df_results['y_true'], df_results['y_pred'], sensitive_features=df_results['demographic_age_group'])\n",
    "equalized_odds_diff = equalized_odds_difference(df_results['y_true'], df_results['y_pred'], sensitive_features=df_results['demographic_age_group'])\n",
    "\n",
    "print(f\"Demographic Parity Difference: {demographic_parity_diff}\")\n",
    "print(f\"Equalized Odds Difference: {equalized_odds_diff}\")"
   ]
  },
  {
   "cell_type": "markdown",
   "metadata": {},
   "source": [
    "### For Disparate Impact, age_group has to be numerical. So, ['under 15', '15-24', '25-44', '45-64', '65+']"
   ]
  },
  {
   "cell_type": "code",
   "execution_count": 135,
   "metadata": {},
   "outputs": [
    {
     "name": "stdout",
     "output_type": "stream",
     "text": [
      "['25-44' '65+' '45-64' 'under 15' '15-24' '5']\n"
     ]
    }
   ],
   "source": [
    "print(df_results['demographic_age_group'].unique())"
   ]
  },
  {
   "cell_type": "code",
   "execution_count": 136,
   "metadata": {},
   "outputs": [
    {
     "name": "stdout",
     "output_type": "stream",
     "text": [
      "y_true                      int32\n",
      "y_pred                      int32\n",
      "demographic_age_group    category\n",
      "dtype: object\n"
     ]
    }
   ],
   "source": [
    "# Indicate that the column is an ordered categorical feature\n",
    "categ = ['under 15', '15-24', '25-44', '45-64', '65+']\n",
    "df_results['demographic_age_group'] = pd.Categorical(df_results['demographic_age_group'], categories=categ, ordered=True)\n",
    "print(df_results.dtypes)"
   ]
  },
  {
   "cell_type": "code",
   "execution_count": 137,
   "metadata": {},
   "outputs": [
    {
     "name": "stdout",
     "output_type": "stream",
     "text": [
      "[2 2 2 ... 0 1 2] CategoricalIndex(['under 15', '15-24', '25-44', '45-64', '65+'], categories=['under 15', '15-24', '25-44', '45-64', '65+'], ordered=True, dtype='category')\n"
     ]
    }
   ],
   "source": [
    "labels, unique = pd.factorize(df_results[\"demographic_age_group\"], sort=True)\n",
    "print(labels, unique)"
   ]
  },
  {
   "cell_type": "code",
   "execution_count": 138,
   "metadata": {},
   "outputs": [
    {
     "data": {
      "text/html": [
       "<div>\n",
       "<style scoped>\n",
       "    .dataframe tbody tr th:only-of-type {\n",
       "        vertical-align: middle;\n",
       "    }\n",
       "\n",
       "    .dataframe tbody tr th {\n",
       "        vertical-align: top;\n",
       "    }\n",
       "\n",
       "    .dataframe thead th {\n",
       "        text-align: right;\n",
       "    }\n",
       "</style>\n",
       "<table border=\"1\" class=\"dataframe\">\n",
       "  <thead>\n",
       "    <tr style=\"text-align: right;\">\n",
       "      <th></th>\n",
       "      <th>y_true</th>\n",
       "      <th>y_pred</th>\n",
       "      <th>demographic_age_group</th>\n",
       "    </tr>\n",
       "  </thead>\n",
       "  <tbody>\n",
       "    <tr>\n",
       "      <th>0</th>\n",
       "      <td>0</td>\n",
       "      <td>0</td>\n",
       "      <td>2</td>\n",
       "    </tr>\n",
       "    <tr>\n",
       "      <th>1</th>\n",
       "      <td>0</td>\n",
       "      <td>0</td>\n",
       "      <td>2</td>\n",
       "    </tr>\n",
       "    <tr>\n",
       "      <th>2</th>\n",
       "      <td>0</td>\n",
       "      <td>0</td>\n",
       "      <td>2</td>\n",
       "    </tr>\n",
       "    <tr>\n",
       "      <th>3</th>\n",
       "      <td>0</td>\n",
       "      <td>0</td>\n",
       "      <td>4</td>\n",
       "    </tr>\n",
       "    <tr>\n",
       "      <th>4</th>\n",
       "      <td>0</td>\n",
       "      <td>0</td>\n",
       "      <td>2</td>\n",
       "    </tr>\n",
       "    <tr>\n",
       "      <th>...</th>\n",
       "      <td>...</td>\n",
       "      <td>...</td>\n",
       "      <td>...</td>\n",
       "    </tr>\n",
       "    <tr>\n",
       "      <th>110522</th>\n",
       "      <td>0</td>\n",
       "      <td>0</td>\n",
       "      <td>2</td>\n",
       "    </tr>\n",
       "    <tr>\n",
       "      <th>110523</th>\n",
       "      <td>0</td>\n",
       "      <td>0</td>\n",
       "      <td>2</td>\n",
       "    </tr>\n",
       "    <tr>\n",
       "      <th>110524</th>\n",
       "      <td>0</td>\n",
       "      <td>0</td>\n",
       "      <td>0</td>\n",
       "    </tr>\n",
       "    <tr>\n",
       "      <th>110525</th>\n",
       "      <td>0</td>\n",
       "      <td>0</td>\n",
       "      <td>1</td>\n",
       "    </tr>\n",
       "    <tr>\n",
       "      <th>110526</th>\n",
       "      <td>0</td>\n",
       "      <td>0</td>\n",
       "      <td>2</td>\n",
       "    </tr>\n",
       "  </tbody>\n",
       "</table>\n",
       "<p>110527 rows × 3 columns</p>\n",
       "</div>"
      ],
      "text/plain": [
       "        y_true  y_pred  demographic_age_group\n",
       "0            0       0                      2\n",
       "1            0       0                      2\n",
       "2            0       0                      2\n",
       "3            0       0                      4\n",
       "4            0       0                      2\n",
       "...        ...     ...                    ...\n",
       "110522       0       0                      2\n",
       "110523       0       0                      2\n",
       "110524       0       0                      0\n",
       "110525       0       0                      1\n",
       "110526       0       0                      2\n",
       "\n",
       "[110527 rows x 3 columns]"
      ]
     },
     "execution_count": 138,
     "metadata": {},
     "output_type": "execute_result"
    }
   ],
   "source": [
    "df_results[\"demographic_age_group\"] = labels\n",
    "df_results"
   ]
  },
  {
   "cell_type": "code",
   "execution_count": 139,
   "metadata": {},
   "outputs": [
    {
     "data": {
      "text/plain": [
       "y_true                   0\n",
       "y_pred                   0\n",
       "demographic_age_group    0\n",
       "dtype: int64"
      ]
     },
     "execution_count": 139,
     "metadata": {},
     "output_type": "execute_result"
    }
   ],
   "source": [
    "df_results.isnull().sum()"
   ]
  },
  {
   "cell_type": "markdown",
   "metadata": {},
   "source": [
    "### To measure the Disparate Impact and False Negative Rate Difference, it has to be 2 categories. So, 3 categories of age_group are transformed into 2 categories only: privilieged group and unprivileged group. Then, the metrics are measured."
   ]
  },
  {
   "cell_type": "code",
   "execution_count": 140,
   "metadata": {},
   "outputs": [
    {
     "name": "stdout",
     "output_type": "stream",
     "text": [
      "Unique age_group values: [ 2  4  3  0  1 -1]\n",
      "Disparate Impact: 0.7813450756688934\n"
     ]
    }
   ],
   "source": [
    "# Convert the dataframe to a BinaryLabelDataset object\n",
    "dataset = BinaryLabelDataset(\n",
    "    df=df_results,\n",
    "    label_names=['y_true'],  # Ensure 'y_true' is the correct label name in your DataFrame\n",
    "    protected_attribute_names=['demographic_age_group']  # Ensure this is a list\n",
    ")\n",
    "\n",
    "# Print unique values of age_group for verification\n",
    "print(\"Unique age_group values:\", df_results['demographic_age_group'].unique())\n",
    "\n",
    "# Define privileged and unprivileged groups\n",
    "privileged_groups = [{'demographic_age_group': 0}]  # Change based on your understanding of the data\n",
    "unprivileged_groups = [{'demographic_age_group': 1 }, {'demographic_age_group': 2}]  # Include all relevant unprivileged groups\n",
    "\n",
    "# Compute metrics\n",
    "metric = BinaryLabelDatasetMetric(dataset, privileged_groups=privileged_groups, unprivileged_groups=unprivileged_groups)\n",
    "\n",
    "# Calculate disparate impact\n",
    "disparate_impact = metric.disparate_impact()\n",
    "\n",
    "print(f\"Disparate Impact: {disparate_impact}\")"
   ]
  },
  {
   "cell_type": "code",
   "execution_count": 141,
   "metadata": {},
   "outputs": [
    {
     "name": "stdout",
     "output_type": "stream",
     "text": [
      "False Negative Rate for Privileged Group: 1.0\n",
      "False Negative Rate for Unprivileged Group: 1.0\n",
      "False Negative Rate Difference: 0.0\n"
     ]
    }
   ],
   "source": [
    "# False Negative Rate (FNR) for Privileged Group\n",
    "tn_priv, fp_priv, fn_priv, tp_priv = confusion_matrix(privileged_group['y_true'], privileged_group['y_pred']).ravel()\n",
    "fnr_privileged = fn_priv / (fn_priv + tp_priv) if (fn_priv + tp_priv) > 0 else 0\n",
    "\n",
    "# False Negative Rate (FNR) for Unprivileged Group\n",
    "tn_unpriv, fp_unpriv, fn_unpriv, tp_unpriv = confusion_matrix(unprivileged_group['y_true'], unprivileged_group['y_pred']).ravel()\n",
    "fnr_unprivileged = fn_unpriv / (fn_unpriv + tp_unpriv) if (fn_unpriv + tp_unpriv) > 0 else 0\n",
    "\n",
    "# Difference in False Negative Rates\n",
    "fnr_difference = fnr_privileged - fnr_unprivileged\n",
    "print(f\"False Negative Rate for Privileged Group: {fnr_privileged}\")\n",
    "print(f\"False Negative Rate for Unprivileged Group: {fnr_unprivileged}\")\n",
    "print(f\"False Negative Rate Difference: {fnr_difference}\")"
   ]
  },
  {
   "cell_type": "markdown",
   "metadata": {},
   "source": [
    "### SHAP visualization is done to know the impact of each feature on the model.(It is optional)"
   ]
  },
  {
   "cell_type": "code",
   "execution_count": 142,
   "metadata": {},
   "outputs": [
    {
     "name": "stderr",
     "output_type": "stream",
     "text": [
      "c:\\Users\\drpra\\AppData\\Local\\Programs\\Python\\Python312\\Lib\\site-packages\\tqdm\\auto.py:21: TqdmWarning: IProgress not found. Please update jupyter and ipywidgets. See https://ipywidgets.readthedocs.io/en/stable/user_install.html\n",
      "  from .autonotebook import tqdm as notebook_tqdm\n"
     ]
    }
   ],
   "source": [
    "import shap"
   ]
  },
  {
   "cell_type": "code",
   "execution_count": 143,
   "metadata": {},
   "outputs": [],
   "source": [
    "# Create a SHAP explainer for linear models\n",
    "explainer = shap.LinearExplainer(log_reg, X_train)  # For linear models\n",
    "\n",
    "# Calculate SHAP values\n",
    "shap_values = explainer.shap_values(X_test)"
   ]
  },
  {
   "cell_type": "code",
   "execution_count": 144,
   "metadata": {},
   "outputs": [
    {
     "data": {
      "text/plain": [
       "(22106, 8)"
      ]
     },
     "execution_count": 144,
     "metadata": {},
     "output_type": "execute_result"
    }
   ],
   "source": [
    "shap_values.shape"
   ]
  },
  {
   "cell_type": "code",
   "execution_count": 145,
   "metadata": {},
   "outputs": [],
   "source": [
    "feat_names=list(X.columns)"
   ]
  },
  {
   "cell_type": "code",
   "execution_count": 146,
   "metadata": {},
   "outputs": [
    {
     "data": {
      "text/plain": [
       "['Gender',\n",
       " 'age_group',\n",
       " 'Scholarship',\n",
       " 'Hypertension',\n",
       " 'Diabetes',\n",
       " 'Alcoholism',\n",
       " 'Handicap',\n",
       " 'SMS_received']"
      ]
     },
     "execution_count": 146,
     "metadata": {},
     "output_type": "execute_result"
    }
   ],
   "source": [
    "feat_names"
   ]
  },
  {
   "cell_type": "code",
   "execution_count": 147,
   "metadata": {},
   "outputs": [],
   "source": [
    "X_train = np.array(X_train, dtype=np.float64)\n",
    "X_test = np.array(X_test, dtype=np.float64)\n",
    "\n",
    "# Create SHAP explainer for linear models\n",
    "explainer = shap.LinearExplainer(log_reg, X_train)\n",
    "\n",
    "# Calculate SHAP values\n",
    "shap_values = explainer.shap_values(X_test)"
   ]
  },
  {
   "cell_type": "markdown",
   "metadata": {},
   "source": [
    "### Visulization "
   ]
  },
  {
   "cell_type": "code",
   "execution_count": 148,
   "metadata": {},
   "outputs": [
    {
     "data": {
      "image/png": "[encoded data removed]",
      "text/plain": [
       "<Figure size 800x470 with 2 Axes>"
      ]
     },
     "metadata": {},
     "output_type": "display_data"
    }
   ],
   "source": [
    "shap.summary_plot(shap_values, X_test, feature_names=feat_names)"
   ]
  },
  {
   "cell_type": "markdown",
   "metadata": {},
   "source": [
    "This SHAP summary plot shows the impact of features on the model’s predictions:\n",
    "\n",
    "Y-axis: Lists features, ordered by their overall impact.\n",
    "X-axis (SHAP values): Indicates impact direction; positive values increase predictions, negative values decrease them.\n",
    "Color: Represents feature values (red = high, blue = low).\n",
    "Key insights:\n",
    "\n",
    "SMS_received: Lower values reduce predictions.\n",
    "Scholarship: Higher values increase predictions.\n",
    "Gender, Alcoholism, Handicap: Vary in impact, depending on value."
   ]
  }
 ],
 "metadata": {
  "kernelspec": {
   "display_name": "Python 3",
   "language": "python",
   "name": "python3"
  },
  "language_info": {
   "codemirror_mode": {
    "name": "ipython",
    "version": 3
   },
   "file_extension": ".py",
   "mimetype": "text/x-python",
   "name": "python",
   "nbconvert_exporter": "python",
   "pygments_lexer": "ipython3",
   "version": "3.12.2"
  }
 },
 "nbformat": 4,
 "nbformat_minor": 2
}
